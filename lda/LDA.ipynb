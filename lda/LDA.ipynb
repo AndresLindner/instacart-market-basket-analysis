{
 "cells": [
  {
   "cell_type": "code",
   "execution_count": 1,
   "metadata": {
    "collapsed": true
   },
   "outputs": [],
   "source": [
    "import constants\n",
    "import feats\n",
    "import transactions\n",
    "import utils\n",
    "\n",
    "import pickle\n",
    "import numpy as np\n",
    "import pandas as pd\n",
    "\n",
    "from scipy.stats import entropy\n",
    "\n",
    "from sklearn.neighbors import NearestNeighbors\n",
    "from sklearn.feature_extraction.text import CountVectorizer\n",
    "from sklearn.decomposition import LatentDirichletAllocation"
   ]
  },
  {
   "cell_type": "code",
   "execution_count": 2,
   "metadata": {
    "collapsed": true
   },
   "outputs": [],
   "source": [
    "from imp import  reload"
   ]
  },
  {
   "cell_type": "code",
   "execution_count": 3,
   "metadata": {},
   "outputs": [
    {
     "data": {
      "text/plain": [
       "<module 'transactions' from '/home/cyh/Instacart/transactions.py'>"
      ]
     },
     "execution_count": 3,
     "metadata": {},
     "output_type": "execute_result"
    }
   ],
   "source": [
    "reload(transactions)"
   ]
  },
  {
   "cell_type": "code",
   "execution_count": 4,
   "metadata": {
    "collapsed": true
   },
   "outputs": [],
   "source": [
    "tle = transactions.TransLogExtractor(constants.RAW_DATA_DIR, constants.FEAT_DATA_DIR)"
   ]
  },
  {
   "cell_type": "code",
   "execution_count": 5,
   "metadata": {
    "collapsed": true
   },
   "outputs": [],
   "source": [
    "order_products_prior = tle.get_orders_items('prior')\n",
    "\n",
    "order_products_train = tle.get_orders_items('train')\n",
    "\n",
    "order_products_all = pd.concat([order_products_train, order_products_prior], axis=0)\n",
    "\n",
    "order_products_all = order_products_all.sort_values(['order_id', 'add_to_cart_order'])"
   ]
  },
  {
   "cell_type": "markdown",
   "metadata": {},
   "source": [
    "### LDA预处理\n",
    "#### 方案 1\n",
    "- 将每张订单作为一个document\n",
    "#### 方案2\n",
    "- 将每个用户作为一个document\n",
    "- 将每个product作为一个Document\n",
    "- 将每个aisle作为一个Document\n",
    "- 将每个department作为Document\n",
    "\n",
    "#### 方案3\n",
    "- product name\n",
    "- 无结构文本\n"
   ]
  },
  {
   "cell_type": "markdown",
   "metadata": {},
   "source": [
    "### <font color=red>方案2 part 1</font>"
   ]
  },
  {
   "cell_type": "code",
   "execution_count": 10,
   "metadata": {
    "collapsed": true
   },
   "outputs": [],
   "source": [
    "#方案2\n",
    "orders = tle.get_orders()\n",
    "users_orders = tle.get_users_orders('prior')\n",
    "# 将product_id转换为str\n",
    "users_products_matrix = users_orders.groupby(['user_id'])['product_id'].apply(utils.series_to_str)\n",
    "# 构造vocabulary\n",
    "tf = CountVectorizer(analyzer = 'word', lowercase = False, max_df=0.95, min_df=2,)\n",
    "tf_matrix = tf.fit_transform(users_products_matrix.values)\n",
    "tf_feature_names = tf.get_feature_names()\n",
    "\n",
    "#with open(DATA_DIR + 'user_tf_matrix', 'wb') as f:\n",
    "#    pickle.dump(tf_matrix, f, pickle.HIGHEST_PROTOCOL)\n",
    "\n",
    "products = tle.get_items('products')\n",
    "aisles = tle.get_items('aisles')\n",
    "departments = tle.get_items('departments')\n",
    "\n",
    "product_a = pd.merge(products, aisles, on = ['aisle_id'], how = 'left')\n",
    "product_ad = pd.merge(product_a, departments, on = ['department_id'], how = 'left')\n",
    "\n",
    "del product_ad['aisle_id']\n",
    "del product_ad['department_id']\n",
    "\n",
    "product_ad['chain_product_name'] = product_ad['department'] + ' _ ' +\\\n",
    "                                   product_ad['aisle'] + ' _ ' +\\\n",
    "                                   product_ad['product_name'] \n",
    "\n",
    "tf_product_names = [] #商品名列表\n",
    "for pid in tf_feature_names:\n",
    "    tf_product_names.append(product_ad[product_ad.product_id == int(pid)]['chain_product_name'].values[0])"
   ]
  },
  {
   "cell_type": "code",
   "execution_count": null,
   "metadata": {
    "collapsed": true
   },
   "outputs": [],
   "source": [
    "tf_info = pd.DataFrame({'pid':tf_feature_names, 'pname':tf_product_names})"
   ]
  },
  {
   "cell_type": "code",
   "execution_count": 10,
   "metadata": {
    "collapsed": true
   },
   "outputs": [],
   "source": [
    "#with open(DATA_DIR + 'user_tf_matrix_info.pkl', 'wb') as f:\n",
    "#    pickle.dump(tf_info, f, pickle.HIGHEST_PROTOCOL)"
   ]
  },
  {
   "cell_type": "markdown",
   "metadata": {},
   "source": [
    "### <font color=red>方案2 part 2 </font>"
   ]
  },
  {
   "cell_type": "code",
   "execution_count": 2,
   "metadata": {},
   "outputs": [
    {
     "ename": "NameError",
     "evalue": "name 'tle' is not defined",
     "output_type": "error",
     "traceback": [
      "\u001b[0;31m---------------------------------------------------------------------------\u001b[0m",
      "\u001b[0;31mNameError\u001b[0m                                 Traceback (most recent call last)",
      "\u001b[0;32m<ipython-input-2-a416d0ac0343>\u001b[0m in \u001b[0;36m<module>\u001b[0;34m()\u001b[0m\n\u001b[0;32m----> 1\u001b[0;31m \u001b[0morders\u001b[0m \u001b[0;34m=\u001b[0m \u001b[0mtle\u001b[0m\u001b[0;34m.\u001b[0m\u001b[0mget_orders\u001b[0m\u001b[0;34m(\u001b[0m\u001b[0;34m)\u001b[0m\u001b[0;34m\u001b[0m\u001b[0m\n\u001b[0m\u001b[1;32m      2\u001b[0m \u001b[0musers_orders\u001b[0m \u001b[0;34m=\u001b[0m \u001b[0mtle\u001b[0m\u001b[0;34m.\u001b[0m\u001b[0mget_users_orders\u001b[0m\u001b[0;34m(\u001b[0m\u001b[0;34m'prior'\u001b[0m\u001b[0;34m)\u001b[0m\u001b[0;34m\u001b[0m\u001b[0m\n",
      "\u001b[0;31mNameError\u001b[0m: name 'tle' is not defined"
     ]
    }
   ],
   "source": [
    "orders = tle.get_orders()\n",
    "users_orders = tle.get_users_orders('prior')"
   ]
  },
  {
   "cell_type": "code",
   "execution_count": 15,
   "metadata": {
    "scrolled": true
   },
   "outputs": [
    {
     "name": "stdout",
     "output_type": "stream",
     "text": [
      "CPU times: user 0 ns, sys: 0 ns, total: 0 ns\n",
      "Wall time: 6.2 µs\n"
     ]
    }
   ],
   "source": [
    "def pad_tf(pad, users_orders):\n",
    "\n",
    "    # 将product_id转换为str\n",
    "    pad_users_matrix = users_orders.groupby([pad])['user_id'].apply(utils.series_to_str)\n",
    "    # 构造vocabulary\n",
    "    tf = CountVectorizer(analyzer = 'word', lowercase = False, max_df=0.95, min_df=2,)\n",
    "    tf_matrix = tf.fit_transform(pad_users_matrix.values)\n",
    "    tf_feature_names = tf.get_feature_names()\n",
    "    tf_info = pd.DataFrame({'term_id':np.arange(len(tf_feature_names)), 'user_id':tf_feature_names})\n",
    "    \n",
    "    with open(constants.FEAT_DATA_DIR + pad[:-3] + '_tf_matrix', 'wb') as f:\n",
    "        pickle.dump(tf_matrix, f, pickle.HIGHEST_PROTOCOL)\n",
    "    with open(constants.FEAT_DATA_DIR + pad[:-3] + '_tf_info', 'wb') as f:\n",
    "        pickle.dump(tf_info, f, pickle.HIGHEST_PROTOCOL)"
   ]
  },
  {
   "cell_type": "code",
   "execution_count": 16,
   "metadata": {
    "collapsed": true
   },
   "outputs": [],
   "source": [
    "for pad in ['product_id', 'aisle_id', 'department_id']:\n",
    "    pad_tf(pad, users_orders)"
   ]
  },
  {
   "cell_type": "code",
   "execution_count": 2,
   "metadata": {
    "collapsed": true
   },
   "outputs": [],
   "source": [
    "pad = 'aisle_id'"
   ]
  },
  {
   "cell_type": "code",
   "execution_count": 3,
   "metadata": {
    "collapsed": true
   },
   "outputs": [],
   "source": [
    "with open(constants.FEAT_DATA_DIR + pad[:-3] + '_tf_matrix', 'rb') as f:\n",
    "    a_tf_matrix = pickle.load(f)    "
   ]
  },
  {
   "cell_type": "code",
   "execution_count": 5,
   "metadata": {
    "scrolled": true
   },
   "outputs": [
    {
     "data": {
      "text/plain": [
       "(134, 205607)"
      ]
     },
     "execution_count": 5,
     "metadata": {},
     "output_type": "execute_result"
    }
   ],
   "source": [
    "a_tf_matrix.shape"
   ]
  },
  {
   "cell_type": "code",
   "execution_count": 6,
   "metadata": {
    "collapsed": true
   },
   "outputs": [],
   "source": [
    "pad = 'product_id'"
   ]
  },
  {
   "cell_type": "code",
   "execution_count": 7,
   "metadata": {
    "collapsed": true
   },
   "outputs": [],
   "source": [
    "with open(constants.FEAT_DATA_DIR + pad[:-3] + '_tf_matrix', 'rb') as f:\n",
    "    p_tf_matrix = pickle.load(f)    "
   ]
  },
  {
   "cell_type": "code",
   "execution_count": 8,
   "metadata": {},
   "outputs": [
    {
     "data": {
      "text/plain": [
       "(49677, 205852)"
      ]
     },
     "execution_count": 8,
     "metadata": {},
     "output_type": "execute_result"
    }
   ],
   "source": [
    "p_tf_matrix.shape"
   ]
  },
  {
   "cell_type": "markdown",
   "metadata": {},
   "source": [
    "### 方案2 <font color=red> Gensim </font>\n",
    "- per word bound\n",
    "- 困惑度小，模型好，perplexity $2^{-bound}$\n",
    "- bound大，模型好"
   ]
  },
  {
   "cell_type": "code",
   "execution_count": 5,
   "metadata": {
    "collapsed": true
   },
   "outputs": [],
   "source": [
    "from gensim.models.ldamulticore import LdaMulticore\n",
    "from gensim import corpora"
   ]
  },
  {
   "cell_type": "code",
   "execution_count": 6,
   "metadata": {
    "collapsed": true
   },
   "outputs": [],
   "source": [
    "import constants"
   ]
  },
  {
   "cell_type": "code",
   "execution_count": 7,
   "metadata": {
    "collapsed": true
   },
   "outputs": [],
   "source": [
    "# raw data\n",
    "tle = transactions.TransLogExtractor(constants.RAW_DATA_DIR, constants.FEAT_DATA_DIR)\n",
    "users_orders = tle.get_users_orders('prior')"
   ]
  },
  {
   "cell_type": "code",
   "execution_count": 15,
   "metadata": {},
   "outputs": [
    {
     "name": "stdout",
     "output_type": "stream",
     "text": [
      "CPU times: user 2min 43s, sys: 13.2 s, total: 2min 57s\n",
      "Wall time: 2min 57s\n"
     ]
    }
   ],
   "source": [
    "%%time\n",
    "\n",
    "def pad_tf(pad, users_orders):\n",
    "    pad_user = users_orders.groupby([pad])['user_id'].apply(utils.series_to_str) # convert into str\n",
    "    pad_user = [doc.split() for doc in pad_user.values] # split into arrays\n",
    "    dictionary = corpora.Dictionary(pad_user) # create dictionary\n",
    "    pad_term_matrix = [dictionary.doc2bow(doc) for doc in pad_user]\n",
    "    return dictionary, pad_term_matrix\n",
    "\n",
    "for pad in ['product_id', 'aisle_id', 'department_id']:\n",
    "    p_dict, p_term_matrix = pad_tf(pad, users_orders)\n",
    "    with open(constants.FEAT_DATA_DIR + pad[:-3] + '_gensim_dict', 'wb') as f:\n",
    "        pickle.dump(p_dict, f, pickle.HIGHEST_PROTOCOL)\n",
    "    with open(constants.FEAT_DATA_DIR + pad[:-3] + '_gensim_tf', 'wb') as f:\n",
    "        pickle.dump(p_term_matrix, f, pickle.HIGHEST_PROTOCOL)"
   ]
  },
  {
   "cell_type": "code",
   "execution_count": 7,
   "metadata": {
    "collapsed": true
   },
   "outputs": [],
   "source": [
    "pad = 'department_id'\n",
    "with open(constants.FEAT_DATA_DIR + pad[:-3] + '_gensim_tf', 'rb') as f:\n",
    "    p_term_matrix = pickle.load(f)"
   ]
  },
  {
   "cell_type": "code",
   "execution_count": 5,
   "metadata": {
    "scrolled": false
   },
   "outputs": [
    {
     "name": "stdout",
     "output_type": "stream",
     "text": [
      "number of topics: 10\n",
      "-13.33779889\n",
      "number of topics: 60\n",
      "-17.9366398105\n",
      "number of topics: 110\n",
      "-21.5491804007\n",
      "number of topics: 160\n",
      "-24.5554001723\n",
      "number of topics: 210\n",
      "-27.3921241499\n",
      "CPU times: user 7h 34min 12s, sys: 1d 20h 18min 42s, total: 2d 3h 52min 55s\n",
      "Wall time: 1h 38min 15s\n"
     ]
    }
   ],
   "source": [
    "%%time\n",
    "pad = 'product_id'\n",
    "with open(constants.FEAT_DATA_DIR + pad[:-3] + '_gensim_tf', 'rb') as f:\n",
    "    p_term_matrix = pickle.load(f)\n",
    "for n in [10, 60, 110, 160, 210]:\n",
    "    print('number of topics: %d'%n)\n",
    "    lda = LdaMulticore.load(constants.LDA_DIR + 'p_gensim_lda_%d'%n)\n",
    "    print(lda.log_perplexity(p_term_matrix, total_docs=1677))\n"
   ]
  },
  {
   "cell_type": "code",
   "execution_count": 5,
   "metadata": {
    "collapsed": true,
    "scrolled": true
   },
   "outputs": [],
   "source": [
    "num_topic = 10\n",
    "lda = LdaMulticore.load(constants.LDA_DIR + 'p_gensim_lda_%d'%num_topic)\n",
    "\n",
    "pad = 'product_id'\n",
    "pad_user = users_orders.groupby([pad])['user_id'].apply(utils.series_to_str)\n",
    "with open(constants.FEAT_DATA_DIR + pad[:-3] + '_gensim_dict', 'rb') as f:\n",
    "    p_dict = pickle.load(f)\n",
    "with open(constants.FEAT_DATA_DIR + pad[:-3] + '_gensim_tf', 'rb') as f:\n",
    "    p_term_matrix = pickle.load(f)\n",
    "\n",
    "p_topics = [[v for k,v in lda.get_document_topics(p, minimum_phi_value=0, minimum_probability=0)] for p in p_term_matrix]\n",
    "p_topics = pd.DataFrame(p_topics, columns = ['p_topic_%d'%n for n in range(num_topic)])\n",
    "p_topics['product_id'] = pad_user.index.values\n",
    "\n",
    "user_id = [int(token) for word_id, token in p_dict.iteritems()]\n",
    "u_topics = [{k:v for k,v in lda.get_term_topics(word_id, minimum_probability=0)} for word_id, _ in p_dict.iteritems()]\n",
    "u_topics = pd.DataFrame(u_topics).fillna(0)\n",
    "u_topics.columns = ['u_topic_%d'%i for i in range(num_topic)]\n",
    "u_topics = u_topics / u_topics.sum() # column normalization, make sure each topic sums to 1\n",
    "u_topics = (u_topics.transpose() / u_topics.transpose().sum()).transpose() # row normalization\n",
    "u_topics['user_id'] = user_id\n",
    "\n",
    "with open(constants.FEAT_DATA_DIR + 'pad_p_topic.pkl', 'wb') as f:\n",
    "    pickle.dump(p_topics, f, pickle.HIGHEST_PROTOCOL)\n",
    "with open(constants.FEAT_DATA_DIR + 'pad_p_u_topic.pkl', 'wb') as f:\n",
    "    pickle.dump(u_topics, f, pickle.HIGHEST_PROTOCOL) "
   ]
  },
  {
   "cell_type": "code",
   "execution_count": 37,
   "metadata": {
    "collapsed": true
   },
   "outputs": [],
   "source": [
    "num_topic = 10\n",
    "lda = LdaMulticore.load(constants.LDA_DIR + 'a_gensim_lda_%d'%num_topic)\n",
    "\n",
    "pad = 'aisle_id'\n",
    "pad_user = users_orders.groupby([pad])['user_id'].apply(utils.series_to_str)\n",
    "with open(constants.FEAT_DATA_DIR + pad[:-3] + '_gensim_dict', 'rb') as f:\n",
    "    p_dict = pickle.load(f)\n",
    "with open(constants.FEAT_DATA_DIR + pad[:-3] + '_gensim_tf', 'rb') as f:\n",
    "    p_term_matrix = pickle.load(f)\n",
    "\n",
    "p_topics = [[v for k,v in lda.get_document_topics(p, minimum_phi_value=0, minimum_probability=0)] for p in p_term_matrix]\n",
    "p_topics = pd.DataFrame(p_topics, columns = ['p_topic_%d'%n for n in range(num_topic)])\n",
    "p_topics['aisle_id'] = pad_user.index.values\n",
    "\n",
    "user_id = [int(token) for word_id, token in p_dict.iteritems()]\n",
    "u_topics = [{k:v for k,v in lda.get_term_topics(word_id, minimum_probability=0)} for word_id, _ in p_dict.iteritems()]\n",
    "u_topics = pd.DataFrame(u_topics).fillna(0)\n",
    "u_topics.columns = ['u_topic_%d'%i for i in range(num_topic)]\n",
    "u_topics = u_topics / u_topics.sum() # column normalization, make sure each topic sums to 1\n",
    "u_topics = (u_topics.transpose() / u_topics.transpose().sum()).transpose() # row normalization\n",
    "u_topics['user_id'] = user_id\n",
    "\n",
    "with open(constants.FEAT_DATA_DIR + 'pad_a_topic.pkl', 'wb') as f:\n",
    "    pickle.dump(p_topics, f, pickle.HIGHEST_PROTOCOL)\n",
    "with open(constants.FEAT_DATA_DIR + 'pad_a_u_topic.pkl', 'wb') as f:\n",
    "    pickle.dump(u_topics, f, pickle.HIGHEST_PROTOCOL) "
   ]
  },
  {
   "cell_type": "code",
   "execution_count": 8,
   "metadata": {
    "collapsed": true
   },
   "outputs": [],
   "source": [
    "num_topic = 4 \n",
    "lda = LdaMulticore.load(constants.LDA_DIR + 'd_gensim_lda_%d'%num_topic)\n",
    "\n",
    "pad = 'department_id'\n",
    "pad_user = users_orders.groupby([pad])['user_id'].apply(utils.series_to_str)\n",
    "with open(constants.FEAT_DATA_DIR + pad[:-3] + '_gensim_dict', 'rb') as f:\n",
    "    p_dict = pickle.load(f)\n",
    "with open(constants.FEAT_DATA_DIR + pad[:-3] + '_gensim_tf', 'rb') as f:\n",
    "    p_term_matrix = pickle.load(f)\n",
    "\n",
    "p_topics = [[v for k,v in lda.get_document_topics(p, minimum_phi_value=0, minimum_probability=0)] for p in p_term_matrix]\n",
    "p_topics = pd.DataFrame(p_topics, columns = ['p_topic_%d'%n for n in range(num_topic)])\n",
    "p_topics[pad] = pad_user.index.values\n",
    "\n",
    "user_id = [int(token) for word_id, token in p_dict.iteritems()]\n",
    "u_topics = [{k:v for k,v in lda.get_term_topics(word_id, minimum_probability=0)} for word_id, _ in p_dict.iteritems()]\n",
    "u_topics = pd.DataFrame(u_topics).fillna(0)\n",
    "# u_topics[4] = 0 # column 4 missing\n",
    "u_topics.columns = ['u_topic_%d'%i for i in range(num_topic)]\n",
    "u_topics = u_topics / u_topics.sum() # column normalization, make sure each topic sums to 1\n",
    "u_topics = (u_topics.transpose() / u_topics.transpose().sum()).transpose() # row normalization\n",
    "u_topics['user_id'] = user_id\n",
    "\n",
    "with open(constants.FEAT_DATA_DIR + 'pad_d_topic.pkl', 'wb') as f:\n",
    "    pickle.dump(p_topics, f, pickle.HIGHEST_PROTOCOL)\n",
    "with open(constants.FEAT_DATA_DIR + 'pad_d_u_topic.pkl', 'wb') as f:\n",
    "    pickle.dump(u_topics, f, pickle.HIGHEST_PROTOCOL) "
   ]
  },
  {
   "cell_type": "code",
   "execution_count": 53,
   "metadata": {
    "scrolled": true
   },
   "outputs": [
    {
     "ename": "KeyboardInterrupt",
     "evalue": "",
     "output_type": "error",
     "traceback": [
      "\u001b[0;31m---------------------------------------------------------------------------\u001b[0m",
      "\u001b[0;31mKeyboardInterrupt\u001b[0m                         Traceback (most recent call last)",
      "\u001b[0;32m<ipython-input-53-e12816c3f48e>\u001b[0m in \u001b[0;36m<module>\u001b[0;34m()\u001b[0m\n\u001b[0;32m----> 1\u001b[0;31m \u001b[0mud\u001b[0m \u001b[0;34m=\u001b[0m \u001b[0mtle\u001b[0m\u001b[0;34m.\u001b[0m\u001b[0mcraft_up_distance\u001b[0m\u001b[0;34m(\u001b[0m\u001b[0mfilepath\u001b[0m \u001b[0;34m=\u001b[0m \u001b[0;34m[\u001b[0m\u001b[0;34m'pad_d_topic.pkl'\u001b[0m\u001b[0;34m,\u001b[0m \u001b[0;34m'pad_d_u_topic.pkl'\u001b[0m\u001b[0;34m]\u001b[0m\u001b[0;34m,\u001b[0m \u001b[0mnum_topic\u001b[0m \u001b[0;34m=\u001b[0m \u001b[0;36m8\u001b[0m\u001b[0;34m,\u001b[0m \u001b[0mpad\u001b[0m \u001b[0;34m=\u001b[0m \u001b[0;34m'department_id'\u001b[0m\u001b[0;34m)\u001b[0m\u001b[0;34m\u001b[0m\u001b[0m\n\u001b[0m",
      "\u001b[0;32m/home/cyh/Instacart/transactions.py\u001b[0m in \u001b[0;36mcraft_up_distance\u001b[0;34m(self, filepath, num_topic, pad)\u001b[0m\n\u001b[1;32m    545\u001b[0m                 \u001b[0mupd\u001b[0m\u001b[0;34m[\u001b[0m\u001b[0mcol\u001b[0m\u001b[0;34m]\u001b[0m \u001b[0;34m=\u001b[0m \u001b[0mupd\u001b[0m\u001b[0;34m[\u001b[0m\u001b[0mcol\u001b[0m\u001b[0;34m]\u001b[0m\u001b[0;34m.\u001b[0m\u001b[0mfillna\u001b[0m\u001b[0;34m(\u001b[0m\u001b[0mupd\u001b[0m\u001b[0;34m[\u001b[0m\u001b[0mcol\u001b[0m\u001b[0;34m]\u001b[0m\u001b[0;34m.\u001b[0m\u001b[0mmean\u001b[0m\u001b[0;34m(\u001b[0m\u001b[0;34m)\u001b[0m\u001b[0;34m)\u001b[0m\u001b[0;34m\u001b[0m\u001b[0m\n\u001b[1;32m    546\u001b[0m \u001b[0;34m\u001b[0m\u001b[0m\n\u001b[0;32m--> 547\u001b[0;31m             \u001b[0mupd\u001b[0m\u001b[0;34m[\u001b[0m\u001b[0mprefix\u001b[0m \u001b[0;34m+\u001b[0m \u001b[0;34m'up_dis'\u001b[0m\u001b[0;34m]\u001b[0m \u001b[0;34m=\u001b[0m \u001b[0mupd\u001b[0m\u001b[0;34m.\u001b[0m\u001b[0mapply\u001b[0m\u001b[0;34m(\u001b[0m\u001b[0mcal_up_distance\u001b[0m\u001b[0;34m,\u001b[0m \u001b[0maxis\u001b[0m \u001b[0;34m=\u001b[0m \u001b[0;36m1\u001b[0m\u001b[0;34m)\u001b[0m\u001b[0;34m\u001b[0m\u001b[0m\n\u001b[0m\u001b[1;32m    548\u001b[0m             \u001b[0mupd\u001b[0m\u001b[0;34m[\u001b[0m\u001b[0mprefix\u001b[0m \u001b[0;34m+\u001b[0m \u001b[0;34m'up_dis'\u001b[0m\u001b[0;34m]\u001b[0m \u001b[0;34m=\u001b[0m \u001b[0mupd\u001b[0m\u001b[0;34m[\u001b[0m\u001b[0mprefix\u001b[0m \u001b[0;34m+\u001b[0m \u001b[0;34m'up_dis'\u001b[0m\u001b[0;34m]\u001b[0m\u001b[0;34m.\u001b[0m\u001b[0mfillna\u001b[0m\u001b[0;34m(\u001b[0m\u001b[0mupd\u001b[0m\u001b[0;34m[\u001b[0m\u001b[0mprefix\u001b[0m \u001b[0;34m+\u001b[0m \u001b[0;34m'up_dis'\u001b[0m\u001b[0;34m]\u001b[0m\u001b[0;34m.\u001b[0m\u001b[0mmean\u001b[0m\u001b[0;34m(\u001b[0m\u001b[0;34m)\u001b[0m\u001b[0;34m)\u001b[0m\u001b[0;34m\u001b[0m\u001b[0m\n\u001b[1;32m    549\u001b[0m \u001b[0;34m\u001b[0m\u001b[0m\n",
      "\u001b[0;32m/usr/local/lib/python3.5/dist-packages/pandas/core/frame.py\u001b[0m in \u001b[0;36mapply\u001b[0;34m(self, func, axis, broadcast, raw, reduce, args, **kwds)\u001b[0m\n\u001b[1;32m   4150\u001b[0m                     \u001b[0;32mif\u001b[0m \u001b[0mreduce\u001b[0m \u001b[0;32mis\u001b[0m \u001b[0;32mNone\u001b[0m\u001b[0;34m:\u001b[0m\u001b[0;34m\u001b[0m\u001b[0m\n\u001b[1;32m   4151\u001b[0m                         \u001b[0mreduce\u001b[0m \u001b[0;34m=\u001b[0m \u001b[0;32mTrue\u001b[0m\u001b[0;34m\u001b[0m\u001b[0m\n\u001b[0;32m-> 4152\u001b[0;31m                     \u001b[0;32mreturn\u001b[0m \u001b[0mself\u001b[0m\u001b[0;34m.\u001b[0m\u001b[0m_apply_standard\u001b[0m\u001b[0;34m(\u001b[0m\u001b[0mf\u001b[0m\u001b[0;34m,\u001b[0m \u001b[0maxis\u001b[0m\u001b[0;34m,\u001b[0m \u001b[0mreduce\u001b[0m\u001b[0;34m=\u001b[0m\u001b[0mreduce\u001b[0m\u001b[0;34m)\u001b[0m\u001b[0;34m\u001b[0m\u001b[0m\n\u001b[0m\u001b[1;32m   4153\u001b[0m             \u001b[0;32melse\u001b[0m\u001b[0;34m:\u001b[0m\u001b[0;34m\u001b[0m\u001b[0m\n\u001b[1;32m   4154\u001b[0m                 \u001b[0;32mreturn\u001b[0m \u001b[0mself\u001b[0m\u001b[0;34m.\u001b[0m\u001b[0m_apply_broadcast\u001b[0m\u001b[0;34m(\u001b[0m\u001b[0mf\u001b[0m\u001b[0;34m,\u001b[0m \u001b[0maxis\u001b[0m\u001b[0;34m)\u001b[0m\u001b[0;34m\u001b[0m\u001b[0m\n",
      "\u001b[0;32m/usr/local/lib/python3.5/dist-packages/pandas/core/frame.py\u001b[0m in \u001b[0;36m_apply_standard\u001b[0;34m(self, func, axis, ignore_failures, reduce)\u001b[0m\n\u001b[1;32m   4246\u001b[0m             \u001b[0;32mtry\u001b[0m\u001b[0;34m:\u001b[0m\u001b[0;34m\u001b[0m\u001b[0m\n\u001b[1;32m   4247\u001b[0m                 \u001b[0;32mfor\u001b[0m \u001b[0mi\u001b[0m\u001b[0;34m,\u001b[0m \u001b[0mv\u001b[0m \u001b[0;32min\u001b[0m \u001b[0menumerate\u001b[0m\u001b[0;34m(\u001b[0m\u001b[0mseries_gen\u001b[0m\u001b[0;34m)\u001b[0m\u001b[0;34m:\u001b[0m\u001b[0;34m\u001b[0m\u001b[0m\n\u001b[0;32m-> 4248\u001b[0;31m                     \u001b[0mresults\u001b[0m\u001b[0;34m[\u001b[0m\u001b[0mi\u001b[0m\u001b[0;34m]\u001b[0m \u001b[0;34m=\u001b[0m \u001b[0mfunc\u001b[0m\u001b[0;34m(\u001b[0m\u001b[0mv\u001b[0m\u001b[0;34m)\u001b[0m\u001b[0;34m\u001b[0m\u001b[0m\n\u001b[0m\u001b[1;32m   4249\u001b[0m                     \u001b[0mkeys\u001b[0m\u001b[0;34m.\u001b[0m\u001b[0mappend\u001b[0m\u001b[0;34m(\u001b[0m\u001b[0mv\u001b[0m\u001b[0;34m.\u001b[0m\u001b[0mname\u001b[0m\u001b[0;34m)\u001b[0m\u001b[0;34m\u001b[0m\u001b[0m\n\u001b[1;32m   4250\u001b[0m             \u001b[0;32mexcept\u001b[0m \u001b[0mException\u001b[0m \u001b[0;32mas\u001b[0m \u001b[0me\u001b[0m\u001b[0;34m:\u001b[0m\u001b[0;34m\u001b[0m\u001b[0m\n",
      "\u001b[0;32m/home/cyh/Instacart/transactions.py\u001b[0m in \u001b[0;36mcal_up_distance\u001b[0;34m(subf)\u001b[0m\n\u001b[1;32m    524\u001b[0m             \u001b[0;32mdef\u001b[0m \u001b[0mcal_up_distance\u001b[0m\u001b[0;34m(\u001b[0m\u001b[0msubf\u001b[0m\u001b[0;34m)\u001b[0m\u001b[0;34m:\u001b[0m\u001b[0;34m\u001b[0m\u001b[0m\n\u001b[1;32m    525\u001b[0m                 \u001b[0mu_topic\u001b[0m \u001b[0;34m=\u001b[0m \u001b[0msubf\u001b[0m\u001b[0;34m[\u001b[0m\u001b[0;34m[\u001b[0m\u001b[0;34m\"u_topic_%d\"\u001b[0m\u001b[0;34m%\u001b[0m\u001b[0mx\u001b[0m \u001b[0;32mfor\u001b[0m \u001b[0mx\u001b[0m \u001b[0;32min\u001b[0m \u001b[0mrange\u001b[0m\u001b[0;34m(\u001b[0m\u001b[0mnum_topic\u001b[0m\u001b[0;34m)\u001b[0m\u001b[0;34m]\u001b[0m\u001b[0;34m]\u001b[0m\u001b[0;34m\u001b[0m\u001b[0m\n\u001b[0;32m--> 526\u001b[0;31m                 \u001b[0mp_topic\u001b[0m \u001b[0;34m=\u001b[0m \u001b[0msubf\u001b[0m\u001b[0;34m[\u001b[0m\u001b[0;34m[\u001b[0m\u001b[0;34m\"p_topic_%d\"\u001b[0m\u001b[0;34m%\u001b[0m\u001b[0mx\u001b[0m \u001b[0;32mfor\u001b[0m \u001b[0mx\u001b[0m \u001b[0;32min\u001b[0m \u001b[0mrange\u001b[0m\u001b[0;34m(\u001b[0m\u001b[0mnum_topic\u001b[0m\u001b[0;34m)\u001b[0m\u001b[0;34m]\u001b[0m\u001b[0;34m]\u001b[0m\u001b[0;34m\u001b[0m\u001b[0m\n\u001b[0m\u001b[1;32m    527\u001b[0m                 \u001b[0mupd\u001b[0m \u001b[0;34m=\u001b[0m \u001b[0meuclidean\u001b[0m\u001b[0;34m(\u001b[0m\u001b[0mu_topic\u001b[0m\u001b[0;34m,\u001b[0m \u001b[0mp_topic\u001b[0m\u001b[0;34m)\u001b[0m\u001b[0;34m\u001b[0m\u001b[0m\n\u001b[1;32m    528\u001b[0m                 \u001b[0;32mreturn\u001b[0m \u001b[0mupd\u001b[0m\u001b[0;34m\u001b[0m\u001b[0m\n",
      "\u001b[0;32m/usr/local/lib/python3.5/dist-packages/pandas/core/series.py\u001b[0m in \u001b[0;36m__getitem__\u001b[0;34m(self, key)\u001b[0m\n\u001b[1;32m    642\u001b[0m             \u001b[0mkey\u001b[0m \u001b[0;34m=\u001b[0m \u001b[0mcheck_bool_indexer\u001b[0m\u001b[0;34m(\u001b[0m\u001b[0mself\u001b[0m\u001b[0;34m.\u001b[0m\u001b[0mindex\u001b[0m\u001b[0;34m,\u001b[0m \u001b[0mkey\u001b[0m\u001b[0;34m)\u001b[0m\u001b[0;34m\u001b[0m\u001b[0m\n\u001b[1;32m    643\u001b[0m \u001b[0;34m\u001b[0m\u001b[0m\n\u001b[0;32m--> 644\u001b[0;31m         \u001b[0;32mreturn\u001b[0m \u001b[0mself\u001b[0m\u001b[0;34m.\u001b[0m\u001b[0m_get_with\u001b[0m\u001b[0;34m(\u001b[0m\u001b[0mkey\u001b[0m\u001b[0;34m)\u001b[0m\u001b[0;34m\u001b[0m\u001b[0m\n\u001b[0m\u001b[1;32m    645\u001b[0m \u001b[0;34m\u001b[0m\u001b[0m\n\u001b[1;32m    646\u001b[0m     \u001b[0;32mdef\u001b[0m \u001b[0m_get_with\u001b[0m\u001b[0;34m(\u001b[0m\u001b[0mself\u001b[0m\u001b[0;34m,\u001b[0m \u001b[0mkey\u001b[0m\u001b[0;34m)\u001b[0m\u001b[0;34m:\u001b[0m\u001b[0;34m\u001b[0m\u001b[0m\n",
      "\u001b[0;32m/usr/local/lib/python3.5/dist-packages/pandas/core/series.py\u001b[0m in \u001b[0;36m_get_with\u001b[0;34m(self, key)\u001b[0m\n\u001b[1;32m    683\u001b[0m                     \u001b[0;31m# handle the dup indexing case (GH 4246)\u001b[0m\u001b[0;34m\u001b[0m\u001b[0;34m\u001b[0m\u001b[0m\n\u001b[1;32m    684\u001b[0m                     \u001b[0;32mif\u001b[0m \u001b[0misinstance\u001b[0m\u001b[0;34m(\u001b[0m\u001b[0mkey\u001b[0m\u001b[0;34m,\u001b[0m \u001b[0;34m(\u001b[0m\u001b[0mlist\u001b[0m\u001b[0;34m,\u001b[0m \u001b[0mtuple\u001b[0m\u001b[0;34m)\u001b[0m\u001b[0;34m)\u001b[0m\u001b[0;34m:\u001b[0m\u001b[0;34m\u001b[0m\u001b[0m\n\u001b[0;32m--> 685\u001b[0;31m                         \u001b[0;32mreturn\u001b[0m \u001b[0mself\u001b[0m\u001b[0;34m.\u001b[0m\u001b[0mix\u001b[0m\u001b[0;34m[\u001b[0m\u001b[0mkey\u001b[0m\u001b[0;34m]\u001b[0m\u001b[0;34m\u001b[0m\u001b[0m\n\u001b[0m\u001b[1;32m    686\u001b[0m \u001b[0;34m\u001b[0m\u001b[0m\n\u001b[1;32m    687\u001b[0m                     \u001b[0;32mreturn\u001b[0m \u001b[0mself\u001b[0m\u001b[0;34m.\u001b[0m\u001b[0mreindex\u001b[0m\u001b[0;34m(\u001b[0m\u001b[0mkey\u001b[0m\u001b[0;34m)\u001b[0m\u001b[0;34m\u001b[0m\u001b[0m\n",
      "\u001b[0;32m/usr/local/lib/python3.5/dist-packages/pandas/core/indexing.py\u001b[0m in \u001b[0;36m__getitem__\u001b[0;34m(self, key)\u001b[0m\n\u001b[1;32m     85\u001b[0m         \u001b[0;32melse\u001b[0m\u001b[0;34m:\u001b[0m\u001b[0;34m\u001b[0m\u001b[0m\n\u001b[1;32m     86\u001b[0m             \u001b[0mkey\u001b[0m \u001b[0;34m=\u001b[0m \u001b[0mcom\u001b[0m\u001b[0;34m.\u001b[0m\u001b[0m_apply_if_callable\u001b[0m\u001b[0;34m(\u001b[0m\u001b[0mkey\u001b[0m\u001b[0;34m,\u001b[0m \u001b[0mself\u001b[0m\u001b[0;34m.\u001b[0m\u001b[0mobj\u001b[0m\u001b[0;34m)\u001b[0m\u001b[0;34m\u001b[0m\u001b[0m\n\u001b[0;32m---> 87\u001b[0;31m             \u001b[0;32mreturn\u001b[0m \u001b[0mself\u001b[0m\u001b[0;34m.\u001b[0m\u001b[0m_getitem_axis\u001b[0m\u001b[0;34m(\u001b[0m\u001b[0mkey\u001b[0m\u001b[0;34m,\u001b[0m \u001b[0maxis\u001b[0m\u001b[0;34m=\u001b[0m\u001b[0;36m0\u001b[0m\u001b[0;34m)\u001b[0m\u001b[0;34m\u001b[0m\u001b[0m\n\u001b[0m\u001b[1;32m     88\u001b[0m \u001b[0;34m\u001b[0m\u001b[0m\n\u001b[1;32m     89\u001b[0m     \u001b[0;32mdef\u001b[0m \u001b[0m_get_label\u001b[0m\u001b[0;34m(\u001b[0m\u001b[0mself\u001b[0m\u001b[0;34m,\u001b[0m \u001b[0mlabel\u001b[0m\u001b[0;34m,\u001b[0m \u001b[0maxis\u001b[0m\u001b[0;34m=\u001b[0m\u001b[0;36m0\u001b[0m\u001b[0;34m)\u001b[0m\u001b[0;34m:\u001b[0m\u001b[0;34m\u001b[0m\u001b[0m\n",
      "\u001b[0;32m/usr/local/lib/python3.5/dist-packages/pandas/core/indexing.py\u001b[0m in \u001b[0;36m_getitem_axis\u001b[0;34m(self, key, axis)\u001b[0m\n\u001b[1;32m   1012\u001b[0m                 \u001b[0;32mraise\u001b[0m \u001b[0mValueError\u001b[0m\u001b[0;34m(\u001b[0m\u001b[0;34m'Cannot index with multidimensional key'\u001b[0m\u001b[0;34m)\u001b[0m\u001b[0;34m\u001b[0m\u001b[0m\n\u001b[1;32m   1013\u001b[0m \u001b[0;34m\u001b[0m\u001b[0m\n\u001b[0;32m-> 1014\u001b[0;31m             \u001b[0;32mreturn\u001b[0m \u001b[0mself\u001b[0m\u001b[0;34m.\u001b[0m\u001b[0m_getitem_iterable\u001b[0m\u001b[0;34m(\u001b[0m\u001b[0mkey\u001b[0m\u001b[0;34m,\u001b[0m \u001b[0maxis\u001b[0m\u001b[0;34m=\u001b[0m\u001b[0maxis\u001b[0m\u001b[0;34m)\u001b[0m\u001b[0;34m\u001b[0m\u001b[0m\n\u001b[0m\u001b[1;32m   1015\u001b[0m         \u001b[0;32melse\u001b[0m\u001b[0;34m:\u001b[0m\u001b[0;34m\u001b[0m\u001b[0m\n\u001b[1;32m   1016\u001b[0m \u001b[0;34m\u001b[0m\u001b[0m\n",
      "\u001b[0;32m/usr/local/lib/python3.5/dist-packages/pandas/core/indexing.py\u001b[0m in \u001b[0;36m_getitem_iterable\u001b[0;34m(self, key, axis)\u001b[0m\n\u001b[1;32m   1036\u001b[0m             \u001b[0mself\u001b[0m\u001b[0;34m.\u001b[0m\u001b[0m_has_valid_type\u001b[0m\u001b[0;34m(\u001b[0m\u001b[0mkey\u001b[0m\u001b[0;34m,\u001b[0m \u001b[0maxis\u001b[0m\u001b[0;34m)\u001b[0m\u001b[0;34m\u001b[0m\u001b[0m\n\u001b[1;32m   1037\u001b[0m \u001b[0;34m\u001b[0m\u001b[0m\n\u001b[0;32m-> 1038\u001b[0;31m         \u001b[0mlabels\u001b[0m \u001b[0;34m=\u001b[0m \u001b[0mself\u001b[0m\u001b[0;34m.\u001b[0m\u001b[0mobj\u001b[0m\u001b[0;34m.\u001b[0m\u001b[0m_get_axis\u001b[0m\u001b[0;34m(\u001b[0m\u001b[0maxis\u001b[0m\u001b[0;34m)\u001b[0m\u001b[0;34m\u001b[0m\u001b[0m\n\u001b[0m\u001b[1;32m   1039\u001b[0m \u001b[0;34m\u001b[0m\u001b[0m\n\u001b[1;32m   1040\u001b[0m         \u001b[0;32mif\u001b[0m \u001b[0mis_bool_indexer\u001b[0m\u001b[0;34m(\u001b[0m\u001b[0mkey\u001b[0m\u001b[0;34m)\u001b[0m\u001b[0;34m:\u001b[0m\u001b[0;34m\u001b[0m\u001b[0m\n",
      "\u001b[0;32m/usr/local/lib/python3.5/dist-packages/pandas/core/generic.py\u001b[0m in \u001b[0;36m_get_axis\u001b[0;34m(self, axis)\u001b[0m\n\u001b[1;32m    352\u001b[0m \u001b[0;34m\u001b[0m\u001b[0m\n\u001b[1;32m    353\u001b[0m     \u001b[0;32mdef\u001b[0m \u001b[0m_get_axis\u001b[0m\u001b[0;34m(\u001b[0m\u001b[0mself\u001b[0m\u001b[0;34m,\u001b[0m \u001b[0maxis\u001b[0m\u001b[0;34m)\u001b[0m\u001b[0;34m:\u001b[0m\u001b[0;34m\u001b[0m\u001b[0m\n\u001b[0;32m--> 354\u001b[0;31m         \u001b[0mname\u001b[0m \u001b[0;34m=\u001b[0m \u001b[0mself\u001b[0m\u001b[0;34m.\u001b[0m\u001b[0m_get_axis_name\u001b[0m\u001b[0;34m(\u001b[0m\u001b[0maxis\u001b[0m\u001b[0;34m)\u001b[0m\u001b[0;34m\u001b[0m\u001b[0m\n\u001b[0m\u001b[1;32m    355\u001b[0m         \u001b[0;32mreturn\u001b[0m \u001b[0mgetattr\u001b[0m\u001b[0;34m(\u001b[0m\u001b[0mself\u001b[0m\u001b[0;34m,\u001b[0m \u001b[0mname\u001b[0m\u001b[0;34m)\u001b[0m\u001b[0;34m\u001b[0m\u001b[0m\n\u001b[1;32m    356\u001b[0m \u001b[0;34m\u001b[0m\u001b[0m\n",
      "\u001b[0;32m/usr/local/lib/python3.5/dist-packages/pandas/core/generic.py\u001b[0m in \u001b[0;36m_get_axis_name\u001b[0;34m(self, axis)\u001b[0m\n\u001b[1;32m    339\u001b[0m \u001b[0;34m\u001b[0m\u001b[0m\n\u001b[1;32m    340\u001b[0m     \u001b[0;32mdef\u001b[0m \u001b[0m_get_axis_name\u001b[0m\u001b[0;34m(\u001b[0m\u001b[0mself\u001b[0m\u001b[0;34m,\u001b[0m \u001b[0maxis\u001b[0m\u001b[0;34m)\u001b[0m\u001b[0;34m:\u001b[0m\u001b[0;34m\u001b[0m\u001b[0m\n\u001b[0;32m--> 341\u001b[0;31m         \u001b[0maxis\u001b[0m \u001b[0;34m=\u001b[0m \u001b[0mself\u001b[0m\u001b[0;34m.\u001b[0m\u001b[0m_AXIS_ALIASES\u001b[0m\u001b[0;34m.\u001b[0m\u001b[0mget\u001b[0m\u001b[0;34m(\u001b[0m\u001b[0maxis\u001b[0m\u001b[0;34m,\u001b[0m \u001b[0maxis\u001b[0m\u001b[0;34m)\u001b[0m\u001b[0;34m\u001b[0m\u001b[0m\n\u001b[0m\u001b[1;32m    342\u001b[0m         \u001b[0;32mif\u001b[0m \u001b[0misinstance\u001b[0m\u001b[0;34m(\u001b[0m\u001b[0maxis\u001b[0m\u001b[0;34m,\u001b[0m \u001b[0mstring_types\u001b[0m\u001b[0;34m)\u001b[0m\u001b[0;34m:\u001b[0m\u001b[0;34m\u001b[0m\u001b[0m\n\u001b[1;32m    343\u001b[0m             \u001b[0;32mif\u001b[0m \u001b[0maxis\u001b[0m \u001b[0;32min\u001b[0m \u001b[0mself\u001b[0m\u001b[0;34m.\u001b[0m\u001b[0m_AXIS_NUMBERS\u001b[0m\u001b[0;34m:\u001b[0m\u001b[0;34m\u001b[0m\u001b[0m\n",
      "\u001b[0;31mKeyboardInterrupt\u001b[0m: "
     ]
    }
   ],
   "source": [
    "ud = tle.craft_up_distance(filepath = ['pad_d_topic.pkl', 'pad_d_u_topic.pkl'], num_topic = 8, pad = 'department_id')\n",
    "\n",
    "ud = tle.craft_up_distance(filepath = ['pad_a_topic.pkl', 'pad_a_u_topic.pkl'], num_topic = 10, pad = 'aisle_id')\n",
    "\n",
    "ud = tle.craft_up_distance(filepath = ['pad_p_topic.pkl', 'pad_p_u_topic.pkl'], num_topic = 10, pad = 'product_id')"
   ]
  },
  {
   "cell_type": "code",
   "execution_count": 15,
   "metadata": {
    "collapsed": true
   },
   "outputs": [],
   "source": [
    "?? tle.craft_up_distance"
   ]
  },
  {
   "cell_type": "markdown",
   "metadata": {},
   "source": [
    "### 方案3 需要处理无结构化的文本"
   ]
  },
  {
   "cell_type": "code",
   "execution_count": null,
   "metadata": {
    "collapsed": true
   },
   "outputs": [],
   "source": [
    "#方案3\n",
    "order_product_names = pd.merge(order_products_all[['order_id', 'product_id']],\n",
    "                               products[['product_id', 'product_name']],\n",
    "                               on = ['product_id'],\n",
    "                               how = 'left')"
   ]
  },
  {
   "cell_type": "code",
   "execution_count": 28,
   "metadata": {},
   "outputs": [
    {
     "name": "stdout",
     "output_type": "stream",
     "text": [
      "CPU times: user 7min 47s, sys: 11.2 s, total: 7min 59s\n",
      "Wall time: 7min 54s\n"
     ]
    }
   ],
   "source": [
    "# 8mins\n",
    "order_pnames_matrix = order_product_names.groupby(['order_id'])['product_name'].aggregate('sum')"
   ]
  },
  {
   "cell_type": "code",
   "execution_count": 29,
   "metadata": {
    "scrolled": true
   },
   "outputs": [
    {
     "data": {
      "text/plain": [
       "order_id\n",
       "1    Bulgarian YogurtOrganic 4% Milk Fat Whole Milk...\n",
       "2    Organic Egg WhitesMichigan Organic KaleGarlic ...\n",
       "3    Total 2% with Strawberry Lowfat Greek Strained...\n",
       "4    Plain Pre-Sliced BagelsHoney/Lemon Cough Drops...\n",
       "5    Bag of Organic BananasJust Crisp, ParmesanFres...\n",
       "Name: product_name, dtype: object"
      ]
     },
     "execution_count": 29,
     "metadata": {},
     "output_type": "execute_result"
    }
   ],
   "source": [
    "order_pnames_matrix.head(5)"
   ]
  },
  {
   "cell_type": "code",
   "execution_count": 93,
   "metadata": {
    "scrolled": false
   },
   "outputs": [
    {
     "name": "stdout",
     "output_type": "stream",
     "text": [
      "CPU times: user 1min 54s, sys: 1.61 s, total: 1min 55s\n",
      "Wall time: 1min 55s\n"
     ]
    }
   ],
   "source": [
    "%%time\n",
    "tf = CountVectorizer(analyzer = 'word', min_df=10, token_pattern='(?u)\\\\b[a-zA-Z]\\\\w+\\\\b')\n",
    "tf_matrix = tf.fit_transform(order_pnames_matrix.values)\n",
    "tf_feature_names = tf.get_feature_names()"
   ]
  },
  {
   "cell_type": "code",
   "execution_count": 94,
   "metadata": {},
   "outputs": [
    {
     "data": {
      "text/plain": [
       "True"
      ]
     },
     "execution_count": 94,
     "metadata": {},
     "output_type": "execute_result"
    }
   ],
   "source": [
    "'crisp' in tf_feature_names"
   ]
  },
  {
   "cell_type": "code",
   "execution_count": 95,
   "metadata": {},
   "outputs": [
    {
     "data": {
      "text/plain": [
       "(3346083, 233205)"
      ]
     },
     "execution_count": 95,
     "metadata": {},
     "output_type": "execute_result"
    }
   ],
   "source": [
    "tf_matrix.shape"
   ]
  },
  {
   "cell_type": "markdown",
   "metadata": {},
   "source": [
    "### LDA Topic数目选择\n",
    "number of topics:10\n",
    "log likelihood:-482209266.283346\n",
    "\n",
    "number of topics:20\n",
    "log likelihood:-739555562.008604\n",
    "\n",
    "number of topics:30\n",
    "log likelihood:-1005367108.142659\n",
    "\n",
    "number of topics:40\n",
    "log likelihood:-1293773643.990032\n",
    "\n",
    "number of topics:50\n",
    "log likelihood:-1578475501.104584\n",
    "\n",
    "number of topics:60\n",
    "log likelihood:-1891792320.600158\n",
    "\n",
    "number of topics:70\n",
    "log likelihood:-2185429399.135661\n",
    "\n",
    "number of topics:80\n",
    "log likelihood:-2499275522.415354\n",
    "\n",
    "number of topics:90\n",
    "log likelihood:-2814907367.346162\n",
    "\n",
    "number of topics:100\n",
    "log likelihood:-3124264684.650005"
   ]
  },
  {
   "cell_type": "code",
   "execution_count": 12,
   "metadata": {
    "collapsed": true
   },
   "outputs": [],
   "source": [
    "with open(DATA_DIR + 'user_tf_matrix', 'rb') as f:\n",
    "    user_tf_matrix = pickle.load(f)"
   ]
  },
  {
   "cell_type": "code",
   "execution_count": 4,
   "metadata": {},
   "outputs": [
    {
     "name": "stdout",
     "output_type": "stream",
     "text": [
      "number of topics:10\n",
      "log likelihood:-482209266.283346\n",
      "number of topics:20\n",
      "log likelihood:-739555562.008604\n",
      "number of topics:30\n",
      "log likelihood:-1005367108.142659\n",
      "number of topics:40\n",
      "log likelihood:-1293773643.990032\n",
      "number of topics:50\n",
      "log likelihood:-1578475501.104584\n",
      "number of topics:60\n",
      "log likelihood:-1891792320.600158\n",
      "number of topics:70\n",
      "log likelihood:-2185429399.135661\n",
      "number of topics:80\n",
      "log likelihood:-2499275522.415354\n",
      "number of topics:90\n",
      "log likelihood:-2814907367.346162\n",
      "number of topics:100\n",
      "log likelihood:-3124264684.650005\n",
      "CPU times: user 1h 32min 22s, sys: 8h 28min 1s, total: 10h 23s\n",
      "Wall time: 15min 16s\n"
     ]
    }
   ],
   "source": [
    "%%time\n",
    "n_topics = [10, 20, 30, 40, 50, 60, 70, 80, 90, 100]\n",
    "n_top_words = 10\n",
    "scores = []\n",
    "for n in n_topics:\n",
    "    print(\"number of topics:%d\"%n)\n",
    "    with open(DATA_DIR + 'lda_%d.model'%n, 'rb') as f:\n",
    "        lda = pickle.load(f)\n",
    "        scores.append(lda.score(user_tf_matrix))\n",
    "        print(\"log likelihood:%f\"%scores[-1])\n",
    "        #print_top_words(lda, tf_product_names, n_top_words)"
   ]
  },
  {
   "cell_type": "code",
   "execution_count": 13,
   "metadata": {},
   "outputs": [
    {
     "data": {
      "text/plain": [
       "-482209266.28334594"
      ]
     },
     "execution_count": 13,
     "metadata": {},
     "output_type": "execute_result"
    }
   ],
   "source": [
    "max(scores)\n"
   ]
  },
  {
   "cell_type": "markdown",
   "metadata": {},
   "source": [
    "### <font color=red>Post-LDA Topic内容</font>"
   ]
  },
  {
   "cell_type": "code",
   "execution_count": 5,
   "metadata": {
    "collapsed": true
   },
   "outputs": [],
   "source": [
    "with open(constants.LDA_DIR + 'lda_22.model', 'rb') as f:\n",
    "    lda = pickle.load(f)"
   ]
  },
  {
   "cell_type": "code",
   "execution_count": 15,
   "metadata": {
    "collapsed": true
   },
   "outputs": [],
   "source": [
    "with open(constants.FEAT_DATA_DIR + 'user_tf_matrix_info.pkl', 'rb') as f:\n",
    "    tf_info = pickle.load(f)"
   ]
  },
  {
   "cell_type": "code",
   "execution_count": 17,
   "metadata": {
    "collapsed": true
   },
   "outputs": [],
   "source": [
    "with open(constants.FEAT_DATA_DIR + 'user_tf_matrix', 'rb') as f:\n",
    "    user_tf_matrix = pickle.load(f)"
   ]
  },
  {
   "cell_type": "code",
   "execution_count": 6,
   "metadata": {
    "collapsed": true
   },
   "outputs": [],
   "source": [
    "def print_top_words(model, feature_names, n_top_words):\n",
    "    for topic_idx, topic in enumerate(model.components_):\n",
    "        print(\"Topic #%d:\" % topic_idx)\n",
    "        print(\"\\n\".join([feature_names[i]\n",
    "                        for i in topic.argsort()[:-n_top_words - 1:-1]]))\n",
    "    print()"
   ]
  },
  {
   "cell_type": "code",
   "execution_count": 32,
   "metadata": {
    "collapsed": true
   },
   "outputs": [],
   "source": [
    "def csv_top_words(model, feature_names, n_top_words):\n",
    "    topic_content = {}\n",
    "    for topic_idx, topic in enumerate(model.components_):\n",
    "        print(\"Topic #%d:\" % topic_idx)\n",
    "        content = [feature_names[i] for i in topic.argsort()[:-n_top_words - 1:-1]]\n",
    "        # print(\"\\n\".join(content))\n",
    "        topic_content['topic_%s'%topic_idx] = content\n",
    "    res = pd.DataFrame(topic_content)\n",
    "    res.to_csv('lda_topic_content.csv')\n",
    "    print()\n",
    "    return res"
   ]
  },
  {
   "cell_type": "code",
   "execution_count": 38,
   "metadata": {},
   "outputs": [
    {
     "data": {
      "text/plain": [
       "array([ 0.04545455,  0.04545455,  0.04545455,  0.04545455,  0.04545455,\n",
       "        0.04545455,  0.04545455,  0.04545455,  0.04545455,  0.04545455])"
      ]
     },
     "execution_count": 38,
     "metadata": {},
     "output_type": "execute_result"
    }
   ],
   "source": [
    "lda.components_[0][:10:1]"
   ]
  },
  {
   "cell_type": "code",
   "execution_count": 17,
   "metadata": {},
   "outputs": [
    {
     "name": "stdout",
     "output_type": "stream",
     "text": [
      "Topic #0:\n",
      "dairy eggs _ yogurt _ Total 2% with Strawberry Lowfat Greek Strained Yogurt\n",
      "dairy eggs _ yogurt _ Total 2% All Natural Greek Strained Yogurt with Honey\n",
      "dairy eggs _ yogurt _ Total 2% Lowfat Greek Strained Yogurt With Blueberry\n",
      "dairy eggs _ milk _ Fat Free Milk\n",
      "dairy eggs _ yogurt _ Total 2% Lowfat Greek Strained Yogurt with Peach\n",
      "dairy eggs _ yogurt _ Total 0% Nonfat Greek Yogurt\n",
      "dairy eggs _ yogurt _ Total 2% Greek Strained Yogurt with Cherry 5.3 oz\n",
      "dairy eggs _ yogurt _ Total 2% All Natural Plain Greek Yogurt\n",
      "dairy eggs _ yogurt _ Total 0% Raspberry Yogurt\n",
      "dairy eggs _ yogurt _ Total 0% with Honey Nonfat Greek Strained Yogurt\n",
      "dairy eggs _ yogurt _ Fat Free Strawberry Yogurt\n",
      "dairy eggs _ yogurt _ Fat Free Blueberry Yogurt\n",
      "dairy eggs _ yogurt _ Cherry Pomegranate Greek Yogurt\n",
      "dairy eggs _ yogurt _ Total 0% Blueberry Acai Greek Yogurt\n",
      "beverages _ energy sports drinks _ Vitamin Water Zero Squeezed Lemonade\n",
      "dairy eggs _ packaged cheese _ Mini Babybel Light Semisoft Edam Cheeses\n",
      "dairy eggs _ milk _ 1% Lowfat Milk\n",
      "dairy eggs _ yogurt _ Cream Top Smooth & Creamy Maple Yogurt\n",
      "beverages _ energy sports drinks _ Vitamin Water Zero Rise Orange\n",
      "beverages _ water seltzer sparkling water _ Unsweetened Watermelon Water\n",
      "Topic #1:\n",
      "beverages _ water seltzer sparkling water _ Spring Water\n",
      "beverages _ water seltzer sparkling water _ Electrolyte Enhanced Water\n",
      "meat seafood _ hot dogs bacon sausage _ Natural Chicken & Sage Breakfast Sausage\n",
      "frozen _ frozen breads doughs _ Gluten Free Whole Grain Bread\n",
      "deli _ fresh dips tapenades _ Guacamole\n",
      "dairy eggs _ soy lactosefree _ Organic Original Almond Milk\n",
      "snacks _ energy granola bars _ Peanut Butter Chocolate Chip Fruit & Nut Food Bar\n",
      "frozen _ frozen meals _ Broccoli & Cheddar Bake Meal Bowl\n",
      "frozen _ frozen meals _ Pesto Tortellini  Bowls\n",
      "frozen _ frozen breakfast _ Gluten Free Blueberry Waffles\n",
      "snacks _ energy granola bars _ Apple Pie Fruit & Nut Food Bar\n",
      "snacks _ cookies cakes _ Gluten Free Chocolate Chip Cookies\n",
      "deli _ prepared meals _ Grilled Chicken Breast\n",
      "snacks _ energy granola bars _ Blueberry Muffin Bar\n",
      "canned goods _ soup broth bouillon _ Organic Chicken Bone Broth\n",
      "frozen _ frozen meals _ Organic Beans & Rice Cheddar Cheese Burrito\n",
      "beverages _ juice nectars _ Organic Apple Juice\n",
      "snacks _ energy granola bars _ Cherry Pie Fruit & Nut Bar\n",
      "bakery _ bread _ Gluten Free 7 Grain Bread\n",
      "snacks _ energy granola bars _ Peanut Butter Bar\n",
      "Topic #2:\n",
      "dairy eggs _ milk _ Organic Lowfat 1% Milk\n",
      "dairy eggs _ milk _ Organic Whole Milk with DHA Omega-3\n",
      "dairy eggs _ milk _ 2% Reduced Fat DHA Omega-3 Reduced Fat Milk\n",
      "babies _ baby food formula _ Baby Food Stage 2 Blueberry Pear & Purple Carrot\n",
      "dairy eggs _ yogurt _ YoBaby Peach Pear Yogurt\n",
      "babies _ baby food formula _ Spinach Peas & Pear Stage 2 Baby Food\n",
      "dairy eggs _ yogurt _ YoBaby Blueberry Apple Yogurt\n",
      "babies _ baby food formula _ Broccoli & Apple Stage 2 Baby Food\n",
      "dairy eggs _ yogurt _ Organic Whole Milk Strawberry Beet Berry Yogurt Pouch\n",
      "dairy eggs _ yogurt _ Yotoddler Organic Pear Spinach Mango Yogurt\n",
      "dairy eggs _ eggs _ Organic Large Grade A Brown Eggs\n",
      "babies _ baby food formula _ Stage 1 Apples Sweet Potatoes Pumpkin & Blueberries Organic Pureed Baby Food\n",
      "babies _ baby food formula _ Organic Mixed Berry Yogurt & Fruit Snack\n",
      "dairy eggs _ milk _ Goat Milk\n",
      "babies _ baby food formula _ Peach,  Apricot & Banana Stage 2 Baby Food\n",
      "dairy eggs _ yogurt _ Blueberry Whole Milk Yogurt Pouch\n",
      "dairy eggs _ packaged cheese _ Colby Cheese Sticks\n",
      "dairy eggs _ milk _ Organic Skim Milk with DHA Omega-3\n",
      "dairy eggs _ yogurt _ Yo Baby Organic Whole Milk Banana Mango Yogurt\n",
      "babies _ baby food formula _ Baby Food Stage 2 Pumpkin Banana\n",
      "Topic #3:\n",
      "produce _ fresh fruits _ Banana\n",
      "bakery _ bread _ 100% Whole Wheat Bread\n",
      "produce _ fresh fruits _ Strawberries\n",
      "produce _ packaged vegetables fruits _ Spinach\n",
      "dairy eggs _ milk _ Fat Free Milk\n",
      "canned goods _ canned meals beans _ Black Beans\n",
      "produce _ fresh vegetables _ Cherubs Heavenly Salad Tomatoes\n",
      "produce _ fresh vegetables _ Cucumber Kirby\n",
      "dairy eggs _ other creams cheeses _ Pure & Natural Sour Cream\n",
      "pantry _ spreads _ Creamy Peanut Butter\n",
      "dairy eggs _ eggs _ Large Grade AA Eggs\n",
      "produce _ fresh vegetables _ Red Peppers\n",
      "produce _ fresh vegetables _ Iceberg Lettuce\n",
      "dairy eggs _ eggs _ Cage Free Brown Eggs-Large, Grade A\n",
      "produce _ fresh vegetables _ Roma Tomato\n",
      "dairy eggs _ packaged cheese _ Shredded Sharp Cheddar Cheese\n",
      "dairy eggs _ other creams cheeses _ Sour Cream\n",
      "deli _ fresh dips tapenades _ Classic Hummus\n",
      "bakery _ tortillas flat bread _ Super Soft Taco Flour Tortillas\n",
      "dry goods pasta _ dry pasta _ Penne Pasta\n",
      "Topic #4:\n",
      "dairy eggs _ milk _ 2% Reduced Fat Milk\n",
      "dairy eggs _ milk _ Whole Milk\n",
      "produce _ fresh fruits _ Banana\n",
      "dairy eggs _ milk _ Organic 2% Reduced Fat Milk\n",
      "beverages _ soft drinks _ Cola\n",
      "beverages _ soft drinks _ Coke Classic\n",
      "dairy eggs _ eggs _ Fresh CA Grown Eggs\n",
      "produce _ fresh fruits _ Small Hass Avocado\n",
      "produce _ fresh vegetables _ Roma Tomato\n",
      "dairy eggs _ milk _ Vitamin D Whole Milk\n",
      "frozen _ frozen produce _ Blueberries\n",
      "beverages _ refrigerated _ Lemonade\n",
      "produce _ fresh fruits _ Organic Fuji Apple\n",
      "beverages _ soft drinks _ Soda\n",
      "beverages _ refrigerated _ Original Orange Juice\n",
      "beverages _ soft drinks _ Diet Coke\n",
      "bakery _ buns rolls _ Hot Dog Buns\n",
      "beverages _ water seltzer sparkling water _ Purified Water\n",
      "bakery _ bread _ Bread, Country Buttermilk\n",
      "dairy eggs _ packaged cheese _ Natural Sharp Cheddar Sliced Cheese\n",
      "Topic #5:\n",
      "produce _ fresh fruits _ Large Lemon\n",
      "produce _ fresh fruits _ Banana\n",
      "produce _ fresh vegetables _ Red Onion\n",
      "produce _ fresh vegetables _ Orange Bell Pepper\n",
      "produce _ fresh fruits _ Strawberries\n",
      "dairy eggs _ milk _ Vitamin D Organic Whole Milk\n",
      "produce _ fresh vegetables _ Yellow Onions\n",
      "produce _ fresh fruits _ Granny Smith Apples\n",
      "produce _ fresh herbs _ Bunched Cilantro\n",
      "produce _ fresh vegetables _ Asparation/Broccolini/Baby Broccoli\n",
      "produce _ fresh vegetables _ Vine Ripe Tomatoes\n",
      "produce _ fresh fruits _ Gala Apples\n",
      "dairy eggs _ eggs _ Grade A Large White Eggs\n",
      "dairy eggs _ yogurt _ Peach on the Bottom Nonfat Greek Yogurt\n",
      "produce _ fresh vegetables _ Jalapeno Peppers\n",
      "dairy eggs _ eggs _ Cage Free Brown Eggs-Large, Grade A\n",
      "produce _ packaged vegetables fruits _ XL Emerald White Seedless Grapes\n",
      "beverages _ water seltzer sparkling water _ Sparkling Natural Spring Water\n",
      "produce _ fresh fruits _ Lime\n",
      "dairy eggs _ yogurt _ Strawberry on the Bottom Nonfat Greek Yogurt\n",
      "Topic #6:\n",
      "beverages _ water seltzer sparkling water _ Grapefruit Sparkling Water\n",
      "beverages _ soft drinks _ Fridge Pack Cola\n",
      "produce _ packaged vegetables fruits _ Clementines, Bag\n",
      "beverages _ water seltzer sparkling water _ Lemon Sparkling Water\n",
      "dairy eggs _ milk _ 2% Reduced Fat Milk\n",
      "dairy eggs _ soy lactosefree _ 100% Lactose Free Fat Free Milk\n",
      "household _ paper goods _ White Giant Paper Towel Rolls\n",
      "produce _ fresh fruits _ Strawberries\n",
      "beverages _ water seltzer sparkling water _ smartwater® Electrolyte Enhanced Water\n",
      "dairy eggs _ cream _ French Vanilla Creamer\n",
      "bakery _ breakfast bakery _ Presliced Everything Bagels\n",
      "dairy eggs _ milk _ Fat Free Skim Milk\n",
      "beverages _ water seltzer sparkling water _ Purified Water\n",
      "beverages _ water seltzer sparkling water _ Passionfruit Sparkling Water\n",
      "dairy eggs _ soy lactosefree _ Original Soy Milk\n",
      "produce _ fresh fruits _ Avocado\n",
      "bakery _ breakfast bakery _ Plain Pre-Sliced Bagels\n",
      "dairy eggs _ milk _ 0% Fat Free Organic Milk\n",
      "dairy eggs _ milk _ Skim Milk\n",
      "dairy eggs _ eggs _ Cage Free Grade A Large Brown Eggs\n",
      "Topic #7:\n",
      "produce _ fresh fruits _ Organic Strawberries\n",
      "dairy eggs _ milk _ Organic Whole Milk\n",
      "produce _ fresh fruits _ Bag of Organic Bananas\n",
      "produce _ packaged vegetables fruits _ Organic Raspberries\n",
      "produce _ fresh fruits _ Apple Honeycrisp Organic\n",
      "produce _ fresh fruits _ Organic Hass Avocado\n",
      "dairy eggs _ packaged cheese _ Organic Whole String Cheese\n",
      "dairy eggs _ milk _ Organic Reduced Fat Milk\n",
      "produce _ packaged vegetables fruits _ Organic Baby Carrots\n",
      "produce _ packaged vegetables fruits _ Organic Blueberries\n",
      "produce _ fresh fruits _ Organic Gala Apples\n",
      "produce _ fresh fruits _ Organic Kiwi\n",
      "produce _ fresh fruits _ Organic D'Anjou Pears\n",
      "dairy eggs _ packaged cheese _ Organic Sticks Low Moisture Part Skim Mozzarella String Cheese\n",
      "dairy eggs _ eggs _ Organic Grade A Free Range Large Brown Eggs\n",
      "produce _ fresh fruits _ Organic Bartlett Pear\n",
      "produce _ packaged vegetables fruits _ Seedless Red Grapes\n",
      "produce _ packaged vegetables fruits _ Organic Grape Tomatoes\n",
      "produce _ packaged vegetables fruits _ Watermelon Chunks\n",
      "canned goods _ canned fruit applesauce _ Organic AppleApple\n",
      "Topic #8:\n",
      "produce _ fresh fruits _ Organic Hass Avocado\n",
      "produce _ fresh fruits _ Bag of Organic Bananas\n",
      "produce _ packaged vegetables fruits _ Organic Baby Spinach\n",
      "produce _ fresh vegetables _ Organic Yellow Onion\n",
      "produce _ fresh vegetables _ Organic Garlic\n",
      "produce _ fresh fruits _ Organic Lemon\n",
      "produce _ fresh vegetables _ Organic Cucumber\n",
      "produce _ fresh vegetables _ Organic Zucchini\n",
      "produce _ fresh vegetables _ Organic Small Bunch Celery\n",
      "produce _ fresh herbs _ Organic Cilantro\n",
      "produce _ fresh fruits _ Organic Strawberries\n",
      "produce _ fresh herbs _ Organic Italian Parsley Bunch\n",
      "produce _ fresh vegetables _ Organic Ginger Root\n",
      "produce _ fresh vegetables _ Organic Red Bell Pepper\n",
      "produce _ fresh vegetables _ Fresh Cauliflower\n",
      "produce _ fresh fruits _ Organic Large Extra Fancy Fuji Apple\n",
      "produce _ fresh vegetables _ Organic Tomato Cluster\n",
      "produce _ fresh vegetables _ Organic Garnet Sweet Potato (Yam)\n",
      "produce _ fresh vegetables _ Michigan Organic Kale\n",
      "produce _ fresh vegetables _ Organic Red Onion\n",
      "Topic #9:\n",
      "beverages _ water seltzer sparkling water _ Italian Sparkling Mineral Water\n",
      "produce _ fresh vegetables _ Garlic\n",
      "produce _ packaged vegetables fruits _ Organic Baby Spinach Salad\n",
      "produce _ fresh vegetables _ Fresh Ginger Root\n",
      "beverages _ refrigerated _ Orange Juice\n",
      "beverages _ water seltzer sparkling water _ Natural Spring Water\n",
      "dairy eggs _ milk _ 2% Reduced Fat Organic Milk\n",
      "produce _ fresh vegetables _ Brussels Sprouts\n",
      "produce _ fresh vegetables _ European Cucumber\n",
      "dairy eggs _ butter _ Pure Irish Butter\n",
      "produce _ fresh vegetables _ Organic Yams\n",
      "pantry _ oils vinegars _ Extra Virgin Olive Oil\n",
      "produce _ fresh vegetables _ Shallot\n",
      "dairy eggs _ yogurt _ Total Greek Strained Yogurt\n",
      "dairy eggs _ cream _ Organic Heavy Whipping Cream\n",
      "produce _ fresh vegetables _ Organic Green Onions\n",
      "produce _ fresh vegetables _ Sweet Onion\n",
      "produce _ fresh vegetables _ Fresh Cauliflower\n",
      "produce _ fresh herbs _ Parsley, Italian (Flat), New England Grown\n",
      "produce _ fresh vegetables _ English Seedless Cucumber\n",
      "Topic #10:\n",
      "produce _ fresh fruits _ Bag of Organic Bananas\n",
      "produce _ packaged vegetables fruits _ Organic Raspberries\n",
      "dairy eggs _ milk _ Organic Reduced Fat 2% Milk\n",
      "produce _ fresh fruits _ Organic Strawberries\n",
      "produce _ fresh fruits _ Organic Hass Avocado\n",
      "dairy eggs _ eggs _ Organic Large Brown Grade AA Cage Free Eggs\n",
      "dairy eggs _ milk _ Organic Milk\n",
      "dairy eggs _ eggs _ Organic Large Grade AA Brown Eggs\n",
      "produce _ fresh fruits _ Organic Lemon\n",
      "dairy eggs _ milk _ Milk, Organic, Vitamin D\n",
      "deli _ fresh dips tapenades _ Original Hummus\n",
      "produce _ fresh vegetables _ Red Peppers\n",
      "produce _ fresh fruits _ Apple Honeycrisp Organic\n",
      "produce _ fresh vegetables _ Organic Broccoli Crowns\n",
      "produce _ packaged vegetables fruits _ Organic Baby Spinach\n",
      "produce _ fresh fruits _ Limes\n",
      "produce _ fresh vegetables _ Organic Yellow Onion\n",
      "produce _ fresh vegetables _ Organic Zucchini\n",
      "produce _ fresh fruits _ Small Hass Avocado\n",
      "dairy eggs _ yogurt _ Organic Plain Whole Milk Yogurt\n",
      "Topic #11:\n",
      "produce _ packaged vegetables fruits _ Organic Baby Spinach\n",
      "frozen _ frozen produce _ Pineapple Chunks\n",
      "bakery _ bread _ Sourdough Bread\n",
      "dairy eggs _ soy lactosefree _ Organic Vanilla Almond Milk\n",
      "frozen _ frozen produce _ Organic Broccoli Florets\n",
      "beverages _ juice nectars _ Organic Lemonade\n",
      "produce _ fresh vegetables _ Organic Broccoli\n",
      "frozen _ frozen breakfast _ Wheat Gluten Free Waffles\n",
      "bakery _ bread _ Gluten Free Sliced Mountain White Bread\n",
      "frozen _ frozen meals _ Bean & Cheese Burrito\n",
      "snacks _ chips pretzels _ Sea Salt Made With Organic Grain Rice Chips\n",
      "beverages _ juice nectars _ Coconut Water\n",
      "dairy eggs _ yogurt _ Dairy Free Coconut Milk Vanilla Yogurt Alternative\n",
      "pantry _ condiments _ Organic Ketchup\n",
      "frozen _ frozen produce _ Organic Mango Chunks\n",
      "deli _ prepared soups salads _ Chicken Tortilla Soup\n",
      "canned goods _ canned meals beans _ Organic Black Beans\n",
      "pantry _ baking ingredients _ Semi-Sweet Mini Chocolate Chips\n",
      "bakery _ tortillas flat bread _ Corn Tortillas\n",
      "dairy eggs _ yogurt _ Dairy Free Coconut Milk Blueberry Yogurt Alternative\n",
      "Topic #12:\n",
      "produce _ fresh fruits _ Banana\n",
      "produce _ fresh fruits _ Organic Fuji Apple\n",
      "produce _ fresh fruits _ Strawberries\n",
      "produce _ fresh fruits _ Honeycrisp Apple\n",
      "dairy eggs _ soy lactosefree _ Vanilla Almond Breeze Almond Milk\n",
      "dairy eggs _ soy lactosefree _ Unsweetened Original Almond Breeze Almond Milk\n",
      "produce _ packaged vegetables fruits _ Seedless Red Grapes\n",
      "produce _ fresh fruits _ Organic Blackberries\n",
      "dairy eggs _ yogurt _ Total 0% Greek Yogurt\n",
      "dairy eggs _ yogurt _ Icelandic Style Skyr Blueberry Non-fat Yogurt\n",
      "produce _ fresh fruits _ Bartlett Pears\n",
      "dairy eggs _ yogurt _ Vanilla Skyr Nonfat Yogurt\n",
      "dairy eggs _ yogurt _ Non Fat Raspberry Yogurt\n",
      "produce _ fresh fruits _ Organic Avocado\n",
      "produce _ fresh fruits _ Organic Gala Apples\n",
      "produce _ fresh fruits _ Organic Granny Smith Apple\n",
      "frozen _ frozen produce _ Blueberries\n",
      "produce _ fresh fruits _ Grape White/Green Seedless\n",
      "produce _ fresh fruits _ Organic Strawberries\n",
      "produce _ fresh fruits _ Granny Smith Apples\n",
      "Topic #13:\n",
      "produce _ fresh fruits _ Bag of Organic Bananas\n",
      "produce _ packaged vegetables fruits _ Organic Raspberries\n",
      "produce _ fresh fruits _ Limes\n",
      "alcohol _ white wines _ Sauvignon Blanc\n",
      "beverages _ water seltzer sparkling water _ 100% Natural Spring Water\n",
      "dairy eggs _ eggs _ Grade A Large Brown Eggs\n",
      "alcohol _ white wines _ Chardonnay\n",
      "alcohol _ red wines _ Cabernet Sauvignon\n",
      "deli _ fresh dips tapenades _ Classic Hummus\n",
      "alcohol _ spirits _ Vodka\n",
      "produce _ fresh vegetables _ Red Vine Tomato\n",
      "produce _ packaged vegetables fruits _ Organic Peeled Whole Baby Carrots\n",
      "beverages _ water seltzer sparkling water _ Slim Can Pink Grapefruit Natural Mineral Water\n",
      "dairy eggs _ packaged cheese _ Organic Sticks Low Moisture Part Skim Mozzarella String Cheese\n",
      "beverages _ water seltzer sparkling water _ Mountain Spring Water\n",
      "household _ paper goods _ Sensitive Toilet Paper\n",
      "produce _ fresh vegetables _ Asparagus\n",
      "alcohol _ red wines _ Pinot Noir\n",
      "alcohol _ beers coolers _ Beer\n",
      "dairy eggs _ packaged cheese _ Organic Mexican Blend Finely Shredded Cheese\n",
      "Topic #14:\n",
      "dairy eggs _ soy lactosefree _ Unsweetened Almondmilk\n",
      "dairy eggs _ soy lactosefree _ Unsweetened Vanilla Almond Milk\n",
      "dairy eggs _ soy lactosefree _ Original Pure Creamy Almond Milk\n",
      "dairy eggs _ soy lactosefree _ Toasted Coconut Almondmilk Blend\n",
      "dairy eggs _ eggs _ Organic Egg Whites\n",
      "dairy eggs _ soy lactosefree _ Vanilla Pure Almond Milk\n",
      "produce _ fresh fruits _ Small Hass Avocado\n",
      "produce _ packaged vegetables fruits _ Organic Romaine Leaf\n",
      "dairy eggs _ milk _ Milk, Reduced Fat, 2% Milkfat\n",
      "deli _ fresh dips tapenades _ Lemon Hummus\n",
      "deli _ fresh dips tapenades _ Jalapeno Hummus\n",
      "produce _ packaged vegetables fruits _ Baby Arugula\n",
      "bakery _ breakfast bakery _ Organic Sprouted English Muffin\n",
      "beverages _ juice nectars _ Natural Premium Coconut Water\n",
      "produce _ packaged vegetables fruits _ Organic Baby Arugula\n",
      "dairy eggs _ packaged cheese _ Dairy Free Mozarella Style Shreds\n",
      "bakery _ bread _ Organic Ezekiel 4:9 Sesame Bread\n",
      "pantry _ preserved dips spreads _ Cucumber & Garlic  Tzatziki\n",
      "frozen _ ice cream ice _ Mint Chip\n",
      "dairy eggs _ soy lactosefree _ Original Enriched Rice Drink\n",
      "Topic #15:\n",
      "produce _ fresh fruits _ Organic Large Extra Fancy Fuji Apple\n",
      "bakery _ bread _ Organic Honey Sweet Whole Wheat Bread\n",
      "bakery _ bread _ Organic Bread with 21 Whole Grains\n",
      "produce _ fresh fruits _ Bag of Organic Bananas\n",
      "bakery _ bread _ Organic Good Seed Bread\n",
      "dairy eggs _ yogurt _ Strawberry Rhubarb Yoghurt\n",
      "dairy eggs _ yogurt _ Blueberry Yoghurt\n",
      "dairy eggs _ yogurt _ Honey Yoghurt\n",
      "snacks _ crackers _ Hint Of Sea Salt Almond Nut Thins\n",
      "dairy eggs _ eggs _ Organic Large Grade AA Omega-3 Eggs\n",
      "dairy eggs _ milk _ Low Fat 1% Milk\n",
      "dairy eggs _ yogurt _ Lemon Yogurt\n",
      "snacks _ candy chocolate _ Almonds & Sea Salt in Dark Chocolate\n",
      "dairy eggs _ yogurt _ Raspberry Yoghurt\n",
      "frozen _ frozen meals _ Macaroni & Cheese\n",
      "dairy eggs _ yogurt _ Yogurt, Lowfat, Strawberry\n",
      "dairy eggs _ packaged cheese _ Organic Whole String Cheese\n",
      "dairy eggs _ yogurt _ Lowfat Vanilla Yogurt\n",
      "breakfast _ cereal _ Raisin Bran Cereal\n",
      "snacks _ popcorn jerky _ Boomchickapop Sea Salt Popcorn\n",
      "Topic #16:\n",
      "deli _ lunch meat _ Uncured Genoa Salami\n",
      "bakery _ bread _ 100% Whole Wheat Bread\n",
      "dairy eggs _ milk _ Organic Fat Free Milk\n",
      "dairy eggs _ milk _ Whole Milk\n",
      "dairy eggs _ packaged cheese _ Shredded Mild Cheddar Cheese\n",
      "dairy eggs _ other creams cheeses _ Whipped Cream Cheese\n",
      "beverages _ refrigerated _ Original Orange Juice\n",
      "produce _ fresh fruits _ Strawberries\n",
      "produce _ fresh fruits _ Organic Strawberries\n",
      "dairy eggs _ yogurt _ YoKids Squeezers Organic Low-Fat Yogurt, Strawberry\n",
      "frozen _ frozen breakfast _ Chicken & Maple Breakfast Sausage\n",
      "deli _ lunch meat _ Oven Roasted Turkey\n",
      "dairy eggs _ butter _ Pure Irish Butter\n",
      "snacks _ energy granola bars _ Kids Organic Chocolate Chip ZBars\n",
      "snacks _ fruit vegetable snacks _ Organic Summer Strawberry Bunny Fruit Snacks\n",
      "deli _ lunch meat _ Uncured Slow Cooked Ham\n",
      "snacks _ chips pretzels _ Aged White Cheddar Baked Rice & Corn Puffs Gluten Free Lunch Packs\n",
      "beverages _ refrigerated _ Lemonade\n",
      "dairy eggs _ packaged cheese _ Shredded Parmesan\n",
      "snacks _ fruit vegetable snacks _ Organic Bunny Fruit Snacks Berry Patch\n",
      "Topic #17:\n",
      "beverages _ water seltzer sparkling water _ Sparkling Water Grapefruit\n",
      "dairy eggs _ cream _ Organic Half & Half\n",
      "dairy eggs _ cream _ Half & Half\n",
      "beverages _ water seltzer sparkling water _ Lime Sparkling Water\n",
      "beverages _ water seltzer sparkling water _ Sparkling Lemon Water\n",
      "beverages _ water seltzer sparkling water _ Pure Sparkling Water\n",
      "beverages _ refrigerated _ 100% Raw Coconut Water\n",
      "beverages _ water seltzer sparkling water _ Peach Pear Flavored Sparkling Water\n",
      "beverages _ water seltzer sparkling water _ Sparkling Water Berry\n",
      "dairy eggs _ milk _ Organic Milk Reduced Fat, 2% Milkfat\n",
      "beverages _ water seltzer sparkling water _ Orange Sparkling Water\n",
      "beverages _ water seltzer sparkling water _ Cran Raspberry Sparkling Water\n",
      "beverages _ water seltzer sparkling water _ Blackberry Cucumber Sparkling Water\n",
      "beverages _ water seltzer sparkling water _ Kiwi Sandia Sparkling Water\n",
      "dairy eggs _ milk _ Organic 1% Low Fat Milk\n",
      "beverages _ water seltzer sparkling water _ Curate Melon Pomelo Sparking Water\n",
      "beverages _ coffee _ New Orleans Iced Coffee\n",
      "beverages _ coffee _ Cold Brew Coffee\n",
      "dairy eggs _ milk _ Organic Reduced Fat 2% Milk\n",
      "beverages _ water seltzer sparkling water _ Curate Cherry Lime Sparkling Water\n",
      "Topic #18:\n",
      "beverages _ water seltzer sparkling water _ Sparkling Natural Mineral Water\n",
      "produce _ fresh fruits _ Bag of Organic Bananas\n",
      "beverages _ water seltzer sparkling water _ Natural Artesian Water\n",
      "beverages _ water seltzer sparkling water _ Water\n",
      "beverages _ water seltzer sparkling water _ Natural Artisan Water\n",
      "beverages _ juice nectars _ Pure Coconut Water\n",
      "beverages _ water seltzer sparkling water _ Alpine Spring Water\n",
      "dairy eggs _ soy lactosefree _ Organic Lactose Free Whole Milk\n",
      "beverages _ refrigerated _ Juice Beverage, Cold Pressed, Kale Apple Ginger Romaine Spinach Cucumber Celery Parsley Lemon\n",
      "dairy eggs _ milk _ Dha Omega 3 Reduced Fat 2% Milk\n",
      "dairy eggs _ soy lactosefree _ Reduced Fat Milk 100% Lactose Free\n",
      "produce _ fresh fruits _ Organic Large Extra Fancy Fuji Apple\n",
      "dairy eggs _ milk _ Dha Omega 3 Vitamin D Milk\n",
      "snacks _ candy chocolate _ Organic Dark Chocolate Peanut Butter Cups\n",
      "household _ paper goods _ 100% Recycled Paper Towels\n",
      "household _ paper goods _ Sustainably Soft Bath Tissue\n",
      "dairy eggs _ milk _ Reduced Fat Milk\n",
      "beverages _ soft drinks _ Sparkling Clementine Juice\n",
      "beverages _ water seltzer sparkling water _ Natural Artesian Bottled Water\n",
      "produce _ fresh fruits _ Organic Hass Avocado\n",
      "Topic #19:\n",
      "produce _ fresh fruits _ Organic Avocado\n",
      "produce _ fresh fruits _ Banana\n",
      "produce _ fresh fruits _ Large Lemon\n",
      "produce _ fresh vegetables _ Cucumber Kirby\n",
      "produce _ packaged vegetables fruits _ Organic Baby Spinach\n",
      "produce _ fresh fruits _ Limes\n",
      "produce _ fresh vegetables _ Yellow Onions\n",
      "meat seafood _ packaged poultry _ Boneless Skinless Chicken Breasts\n",
      "produce _ fresh vegetables _ Red Vine Tomato\n",
      "produce _ fresh vegetables _ Broccoli Crown\n",
      "produce _ fresh vegetables _ Asparagus\n",
      "produce _ fresh vegetables _ Organic Garlic\n",
      "produce _ fresh fruits _ Honeycrisp Apple\n",
      "produce _ packaged vegetables fruits _ Organic Baby Arugula\n",
      "produce _ fresh fruits _ Strawberries\n",
      "produce _ fresh herbs _ Bunched Cilantro\n",
      "produce _ packaged vegetables fruits _ Organic Grape Tomatoes\n",
      "canned goods _ canned meals beans _ No Salt Added Black Beans\n",
      "produce _ fresh vegetables _ Michigan Organic Kale\n",
      "produce _ fresh vegetables _ Carrots\n",
      "Topic #20:\n",
      "produce _ fresh fruits _ Bag of Organic Bananas\n",
      "produce _ packaged produce _ Hass Avocados\n",
      "produce _ packaged produce _ Clementines\n",
      "produce _ packaged produce _ Raspberries\n",
      "beverages _ soft drinks _ Soda\n",
      "produce _ fresh fruits _ Strawberries\n",
      "dairy eggs _ milk _ Reduced Fat 2% Milk\n",
      "produce _ packaged produce _ Baby Cucumbers\n",
      "produce _ packaged vegetables fruits _ Organic Blueberries\n",
      "produce _ packaged produce _ Seedless Cucumbers\n",
      "produce _ packaged produce _ Packaged Grape Tomatoes\n",
      "dairy eggs _ yogurt _ 0% Greek Strained Yogurt\n",
      "produce _ fresh fruits _ Apples\n",
      "produce _ fresh fruits _ Organic Strawberries\n",
      "snacks _ trail mix snack mix _ Trail Mix\n",
      "produce _ fresh fruits _ Blackberries\n",
      "beverages _ water seltzer sparkling water _ Sparkling Mineral Water\n",
      "produce _ packaged produce _ Sweet Kale Salad Mix\n",
      "produce _ packaged produce _ Rainbow Bell Peppers\n",
      "beverages _ water seltzer sparkling water _ Sparkling Water\n",
      "Topic #21:\n",
      "dairy eggs _ soy lactosefree _ Organic Unsweetened Almond Milk\n",
      "beverages _ refrigerated _ Organic Raw Kombucha Gingerade\n",
      "beverages _ refrigerated _ Trilogy Kombucha Drink\n",
      "dairy eggs _ soy lactosefree _ Organic Unsweetened Vanilla Almond Milk\n",
      "beverages _ refrigerated _ Synergy Organic Kombucha Gingerberry\n",
      "frozen _ frozen vegan vegetarian _ Seven Grain Crispy Tenders\n",
      "deli _ tofu meat alternatives _ Organic Extra Firm Tofu\n",
      "beverages _ refrigerated _ Enlightened Organic Raw Kombucha\n",
      "beverages _ refrigerated _ Organic & Raw Strawberry Serenity Kombucha\n",
      "beverages _ refrigerated _ Organic Raw Multigreen Kobmbucha\n",
      "dairy eggs _ soy lactosefree _ Unsweetened Almond Milk\n",
      "produce _ fresh fruits _ Apple Honeycrisp Organic\n",
      "dairy eggs _ packaged cheese _ Organic String Cheese\n",
      "beverages _ refrigerated _ Synergy Organic & Raw Cosmic Cranberry\n",
      "dairy eggs _ yogurt _ Almond Milk Strawberry Yogurt\n",
      "dairy eggs _ yogurt _ Vanilla Almond Milk Yogurt\n",
      "deli _ fresh dips tapenades _ Original Hummus\n",
      "beverages _ tea _ Pink Lady Apple Kombucha\n",
      "produce _ fresh vegetables _ Organic Red Chard Greens\n",
      "dairy eggs _ milk _ Unsweetened Coconut Milk Beverage\n",
      "\n"
     ]
    }
   ],
   "source": [
    "print_top_words(lda, tf_info.pname, 20)"
   ]
  },
  {
   "attachments": {
    "image.png": {
     "image/png": "[encoded data removed]"
    }
   },
   "cell_type": "markdown",
   "metadata": {},
   "source": [
    "### 方案2 每个用户的<font color=red>Embeded Topic Space</font>表达\n",
    "- 用户对应一个Topic, 各个分量的scale都比较小, 是一个分布，l1范数和为1\n",
    "- 商品对应一个Topic，各个分量的scale都很大，<font color=red>Normalize Components</font>\n",
    "- <font color=blue> option 1 </font>K_u NN 提供Candidate商品\n",
    "    - 欧氏距离\n",
    "    - 概率\n",
    "- <font color=blue> option 2 </font>embed vector直接作为特征\n",
    "- Time Weighted?\n",
    "\n",
    "![image.png](attachment:image.png)"
   ]
  },
  {
   "cell_type": "code",
   "execution_count": 3,
   "metadata": {
    "collapsed": true
   },
   "outputs": [],
   "source": [
    "NUM_TOPIC = 22\n",
    "tf_feature_names = tf_info.pid.values\n",
    "with open(constants.LDA_DIR + 'lda_%d.model'%NUM_TOPIC, 'rb') as f:# replace 10\n",
    "    lda = pickle.load(f)\n",
    "\n",
    "# 每个话题是一个商品上的分布, 除以topic的总比重得到每个单词对每个Topic的贡献比重\n",
    "# np.newaxis turn (22,) into (22,1)\n",
    "norm_comp = lda.components_ / lda.components_.sum(axis=1)[:, np.newaxis]\n",
    "\n",
    "# 每个商品也可对应一个话题的分布，对每个单词的分布归一化使得概率和为1\n",
    "norm_comp = norm_comp / norm_comp.sum(axis=0)\n",
    "\n",
    "topic_product = pd.DataFrame(norm_comp.transpose(), columns = [\"topic_%d\"%x for x in range(NUM_TOPIC)])\n",
    "topic_product['product_id'] = [int(x) for x in tf_feature_names]\n",
    "\n",
    "user_topic = lda.transform(user_tf_matrix)\n",
    "user_topic = pd.DataFrame(user_topic, columns = [\"topic_%d\"%x for x in range(NUM_TOPIC)])\n",
    "user_id = users_products_matrix.index.values\n",
    "user_topic['user_id'] = user_id\n",
    "\n",
    "with open(DATA_DIR + 'user_topic_%d.pkl'%NUM_TOPIC, 'wb') as f:\n",
    "    pickle.dump(user_topic, f, pickle.HIGHEST_PROTOCOL)\n",
    "with open(DATA_DIR + 'topic_product_%d.pkl'%NUM_TOPIC, 'wb') as f:\n",
    "    pickle.dump(topic_product, f, pickle.HIGHEST_PROTOCOL)"
   ]
  },
  {
   "cell_type": "code",
   "execution_count": 23,
   "metadata": {
    "collapsed": true
   },
   "outputs": [],
   "source": [
    "with open(DATA_DIR + 'user_topic_%d.pkl'%NUM_TOPIC, 'rb') as f:\n",
    "    user_topic = pickle.load(f)\n",
    "with open(DATA_DIR + 'topic_product_%d.pkl'%NUM_TOPIC, 'rb') as f:\n",
    "    topic_product = pickle.load(f)"
   ]
  },
  {
   "cell_type": "code",
   "execution_count": 24,
   "metadata": {
    "scrolled": true
   },
   "outputs": [
    {
     "data": {
      "text/html": [
       "<div>\n",
       "<table border=\"1\" class=\"dataframe\">\n",
       "  <thead>\n",
       "    <tr style=\"text-align: right;\">\n",
       "      <th></th>\n",
       "      <th>topic_0</th>\n",
       "      <th>topic_1</th>\n",
       "      <th>topic_2</th>\n",
       "      <th>topic_3</th>\n",
       "      <th>topic_4</th>\n",
       "      <th>topic_5</th>\n",
       "      <th>topic_6</th>\n",
       "      <th>topic_7</th>\n",
       "      <th>topic_8</th>\n",
       "      <th>topic_9</th>\n",
       "      <th>...</th>\n",
       "      <th>topic_13</th>\n",
       "      <th>topic_14</th>\n",
       "      <th>topic_15</th>\n",
       "      <th>topic_16</th>\n",
       "      <th>topic_17</th>\n",
       "      <th>topic_18</th>\n",
       "      <th>topic_19</th>\n",
       "      <th>topic_20</th>\n",
       "      <th>topic_21</th>\n",
       "      <th>user_id</th>\n",
       "    </tr>\n",
       "  </thead>\n",
       "  <tbody>\n",
       "    <tr>\n",
       "      <th>0</th>\n",
       "      <td>0.000758</td>\n",
       "      <td>0.000758</td>\n",
       "      <td>0.000758</td>\n",
       "      <td>0.000758</td>\n",
       "      <td>0.000758</td>\n",
       "      <td>0.000758</td>\n",
       "      <td>0.000758</td>\n",
       "      <td>0.000758</td>\n",
       "      <td>0.000758</td>\n",
       "      <td>0.000758</td>\n",
       "      <td>...</td>\n",
       "      <td>0.000758</td>\n",
       "      <td>0.000758</td>\n",
       "      <td>0.000758</td>\n",
       "      <td>0.000758</td>\n",
       "      <td>0.000758</td>\n",
       "      <td>0.000758</td>\n",
       "      <td>0.000758</td>\n",
       "      <td>0.824115</td>\n",
       "      <td>0.160733</td>\n",
       "      <td>1</td>\n",
       "    </tr>\n",
       "    <tr>\n",
       "      <th>1</th>\n",
       "      <td>0.219863</td>\n",
       "      <td>0.328432</td>\n",
       "      <td>0.000232</td>\n",
       "      <td>0.000232</td>\n",
       "      <td>0.000232</td>\n",
       "      <td>0.000232</td>\n",
       "      <td>0.000232</td>\n",
       "      <td>0.081220</td>\n",
       "      <td>0.000232</td>\n",
       "      <td>0.000232</td>\n",
       "      <td>...</td>\n",
       "      <td>0.000232</td>\n",
       "      <td>0.000232</td>\n",
       "      <td>0.141024</td>\n",
       "      <td>0.000232</td>\n",
       "      <td>0.014159</td>\n",
       "      <td>0.007315</td>\n",
       "      <td>0.000232</td>\n",
       "      <td>0.000232</td>\n",
       "      <td>0.064054</td>\n",
       "      <td>2</td>\n",
       "    </tr>\n",
       "    <tr>\n",
       "      <th>2</th>\n",
       "      <td>0.000511</td>\n",
       "      <td>0.000511</td>\n",
       "      <td>0.000511</td>\n",
       "      <td>0.000511</td>\n",
       "      <td>0.000511</td>\n",
       "      <td>0.000511</td>\n",
       "      <td>0.000511</td>\n",
       "      <td>0.040710</td>\n",
       "      <td>0.000511</td>\n",
       "      <td>0.000511</td>\n",
       "      <td>...</td>\n",
       "      <td>0.000511</td>\n",
       "      <td>0.000511</td>\n",
       "      <td>0.000511</td>\n",
       "      <td>0.000511</td>\n",
       "      <td>0.000511</td>\n",
       "      <td>0.000511</td>\n",
       "      <td>0.267233</td>\n",
       "      <td>0.000511</td>\n",
       "      <td>0.000511</td>\n",
       "      <td>3</td>\n",
       "    </tr>\n",
       "    <tr>\n",
       "      <th>3</th>\n",
       "      <td>0.002392</td>\n",
       "      <td>0.155019</td>\n",
       "      <td>0.002392</td>\n",
       "      <td>0.147681</td>\n",
       "      <td>0.002392</td>\n",
       "      <td>0.002392</td>\n",
       "      <td>0.147115</td>\n",
       "      <td>0.002392</td>\n",
       "      <td>0.002392</td>\n",
       "      <td>0.002392</td>\n",
       "      <td>...</td>\n",
       "      <td>0.002392</td>\n",
       "      <td>0.002392</td>\n",
       "      <td>0.429475</td>\n",
       "      <td>0.002392</td>\n",
       "      <td>0.002392</td>\n",
       "      <td>0.002392</td>\n",
       "      <td>0.002392</td>\n",
       "      <td>0.002392</td>\n",
       "      <td>0.002392</td>\n",
       "      <td>4</td>\n",
       "    </tr>\n",
       "    <tr>\n",
       "      <th>4</th>\n",
       "      <td>0.001196</td>\n",
       "      <td>0.001196</td>\n",
       "      <td>0.001196</td>\n",
       "      <td>0.001196</td>\n",
       "      <td>0.001196</td>\n",
       "      <td>0.001196</td>\n",
       "      <td>0.082725</td>\n",
       "      <td>0.001196</td>\n",
       "      <td>0.267468</td>\n",
       "      <td>0.001196</td>\n",
       "      <td>...</td>\n",
       "      <td>0.001196</td>\n",
       "      <td>0.001196</td>\n",
       "      <td>0.001196</td>\n",
       "      <td>0.327071</td>\n",
       "      <td>0.001196</td>\n",
       "      <td>0.001196</td>\n",
       "      <td>0.135903</td>\n",
       "      <td>0.001196</td>\n",
       "      <td>0.001196</td>\n",
       "      <td>5</td>\n",
       "    </tr>\n",
       "  </tbody>\n",
       "</table>\n",
       "<p>5 rows × 23 columns</p>\n",
       "</div>"
      ],
      "text/plain": [
       "    topic_0   topic_1   topic_2   topic_3   topic_4   topic_5   topic_6  \\\n",
       "0  0.000758  0.000758  0.000758  0.000758  0.000758  0.000758  0.000758   \n",
       "1  0.219863  0.328432  0.000232  0.000232  0.000232  0.000232  0.000232   \n",
       "2  0.000511  0.000511  0.000511  0.000511  0.000511  0.000511  0.000511   \n",
       "3  0.002392  0.155019  0.002392  0.147681  0.002392  0.002392  0.147115   \n",
       "4  0.001196  0.001196  0.001196  0.001196  0.001196  0.001196  0.082725   \n",
       "\n",
       "    topic_7   topic_8   topic_9   ...     topic_13  topic_14  topic_15  \\\n",
       "0  0.000758  0.000758  0.000758   ...     0.000758  0.000758  0.000758   \n",
       "1  0.081220  0.000232  0.000232   ...     0.000232  0.000232  0.141024   \n",
       "2  0.040710  0.000511  0.000511   ...     0.000511  0.000511  0.000511   \n",
       "3  0.002392  0.002392  0.002392   ...     0.002392  0.002392  0.429475   \n",
       "4  0.001196  0.267468  0.001196   ...     0.001196  0.001196  0.001196   \n",
       "\n",
       "   topic_16  topic_17  topic_18  topic_19  topic_20  topic_21  user_id  \n",
       "0  0.000758  0.000758  0.000758  0.000758  0.824115  0.160733        1  \n",
       "1  0.000232  0.014159  0.007315  0.000232  0.000232  0.064054        2  \n",
       "2  0.000511  0.000511  0.000511  0.267233  0.000511  0.000511        3  \n",
       "3  0.002392  0.002392  0.002392  0.002392  0.002392  0.002392        4  \n",
       "4  0.327071  0.001196  0.001196  0.135903  0.001196  0.001196        5  \n",
       "\n",
       "[5 rows x 23 columns]"
      ]
     },
     "execution_count": 24,
     "metadata": {},
     "output_type": "execute_result"
    }
   ],
   "source": [
    "user_topic.head(5)"
   ]
  },
  {
   "cell_type": "code",
   "execution_count": 34,
   "metadata": {},
   "outputs": [
    {
     "data": {
      "text/html": [
       "<div>\n",
       "<table border=\"1\" class=\"dataframe\">\n",
       "  <thead>\n",
       "    <tr style=\"text-align: right;\">\n",
       "      <th></th>\n",
       "      <th>topic_0</th>\n",
       "      <th>topic_1</th>\n",
       "      <th>topic_2</th>\n",
       "      <th>topic_3</th>\n",
       "      <th>topic_4</th>\n",
       "      <th>topic_5</th>\n",
       "      <th>topic_6</th>\n",
       "      <th>topic_7</th>\n",
       "      <th>topic_8</th>\n",
       "      <th>topic_9</th>\n",
       "      <th>...</th>\n",
       "      <th>topic_13</th>\n",
       "      <th>topic_14</th>\n",
       "      <th>topic_15</th>\n",
       "      <th>topic_16</th>\n",
       "      <th>topic_17</th>\n",
       "      <th>topic_18</th>\n",
       "      <th>topic_19</th>\n",
       "      <th>topic_20</th>\n",
       "      <th>topic_21</th>\n",
       "      <th>product_id</th>\n",
       "    </tr>\n",
       "  </thead>\n",
       "  <tbody>\n",
       "    <tr>\n",
       "      <th>count</th>\n",
       "      <td>4.950200e+04</td>\n",
       "      <td>4.950200e+04</td>\n",
       "      <td>4.950200e+04</td>\n",
       "      <td>4.950200e+04</td>\n",
       "      <td>4.950200e+04</td>\n",
       "      <td>4.950200e+04</td>\n",
       "      <td>4.950200e+04</td>\n",
       "      <td>4.950200e+04</td>\n",
       "      <td>4.950200e+04</td>\n",
       "      <td>4.950200e+04</td>\n",
       "      <td>...</td>\n",
       "      <td>4.950200e+04</td>\n",
       "      <td>4.950200e+04</td>\n",
       "      <td>4.950200e+04</td>\n",
       "      <td>4.950200e+04</td>\n",
       "      <td>4.950200e+04</td>\n",
       "      <td>4.950200e+04</td>\n",
       "      <td>4.950200e+04</td>\n",
       "      <td>4.950200e+04</td>\n",
       "      <td>4.950200e+04</td>\n",
       "      <td>49502.000000</td>\n",
       "    </tr>\n",
       "    <tr>\n",
       "      <th>mean</th>\n",
       "      <td>2.071187e-02</td>\n",
       "      <td>4.297420e-02</td>\n",
       "      <td>2.061694e-02</td>\n",
       "      <td>1.449651e-01</td>\n",
       "      <td>1.316624e-01</td>\n",
       "      <td>7.544303e-02</td>\n",
       "      <td>9.560222e-02</td>\n",
       "      <td>2.142675e-02</td>\n",
       "      <td>3.119877e-02</td>\n",
       "      <td>3.616593e-02</td>\n",
       "      <td>...</td>\n",
       "      <td>7.031256e-02</td>\n",
       "      <td>3.686334e-02</td>\n",
       "      <td>2.114678e-02</td>\n",
       "      <td>2.551775e-02</td>\n",
       "      <td>2.244161e-02</td>\n",
       "      <td>3.612258e-02</td>\n",
       "      <td>1.699803e-02</td>\n",
       "      <td>1.720467e-02</td>\n",
       "      <td>6.205733e-02</td>\n",
       "      <td>24842.740596</td>\n",
       "    </tr>\n",
       "    <tr>\n",
       "      <th>std</th>\n",
       "      <td>1.153336e-01</td>\n",
       "      <td>1.744168e-01</td>\n",
       "      <td>1.173358e-01</td>\n",
       "      <td>3.151527e-01</td>\n",
       "      <td>3.069833e-01</td>\n",
       "      <td>2.397469e-01</td>\n",
       "      <td>2.703631e-01</td>\n",
       "      <td>1.171711e-01</td>\n",
       "      <td>1.398321e-01</td>\n",
       "      <td>1.611797e-01</td>\n",
       "      <td>...</td>\n",
       "      <td>2.324126e-01</td>\n",
       "      <td>1.578139e-01</td>\n",
       "      <td>1.173304e-01</td>\n",
       "      <td>1.293245e-01</td>\n",
       "      <td>1.240478e-01</td>\n",
       "      <td>1.630636e-01</td>\n",
       "      <td>9.890282e-02</td>\n",
       "      <td>1.152595e-01</td>\n",
       "      <td>2.160707e-01</td>\n",
       "      <td>14341.538265</td>\n",
       "    </tr>\n",
       "    <tr>\n",
       "      <th>min</th>\n",
       "      <td>4.020548e-07</td>\n",
       "      <td>1.171701e-07</td>\n",
       "      <td>7.004441e-07</td>\n",
       "      <td>8.391984e-08</td>\n",
       "      <td>9.617313e-08</td>\n",
       "      <td>2.132926e-07</td>\n",
       "      <td>2.232470e-07</td>\n",
       "      <td>6.703903e-08</td>\n",
       "      <td>4.445199e-08</td>\n",
       "      <td>1.643594e-07</td>\n",
       "      <td>...</td>\n",
       "      <td>2.033900e-07</td>\n",
       "      <td>1.779033e-07</td>\n",
       "      <td>2.336483e-07</td>\n",
       "      <td>1.128044e-07</td>\n",
       "      <td>2.281761e-07</td>\n",
       "      <td>2.827442e-07</td>\n",
       "      <td>6.110517e-08</td>\n",
       "      <td>1.377766e-07</td>\n",
       "      <td>1.515296e-07</td>\n",
       "      <td>10.000000</td>\n",
       "    </tr>\n",
       "    <tr>\n",
       "      <th>25%</th>\n",
       "      <td>5.334306e-04</td>\n",
       "      <td>2.334441e-04</td>\n",
       "      <td>4.473016e-04</td>\n",
       "      <td>1.568620e-04</td>\n",
       "      <td>1.687339e-04</td>\n",
       "      <td>3.241162e-04</td>\n",
       "      <td>3.434469e-04</td>\n",
       "      <td>1.214424e-04</td>\n",
       "      <td>8.576851e-05</td>\n",
       "      <td>2.849395e-04</td>\n",
       "      <td>...</td>\n",
       "      <td>3.785302e-04</td>\n",
       "      <td>3.369231e-04</td>\n",
       "      <td>3.002882e-04</td>\n",
       "      <td>1.727633e-04</td>\n",
       "      <td>3.630267e-04</td>\n",
       "      <td>4.672501e-04</td>\n",
       "      <td>8.570874e-05</td>\n",
       "      <td>2.161908e-04</td>\n",
       "      <td>2.882629e-04</td>\n",
       "      <td>12423.250000</td>\n",
       "    </tr>\n",
       "    <tr>\n",
       "      <th>50%</th>\n",
       "      <td>2.272983e-03</td>\n",
       "      <td>9.816725e-04</td>\n",
       "      <td>1.865658e-03</td>\n",
       "      <td>7.791897e-04</td>\n",
       "      <td>8.470000e-04</td>\n",
       "      <td>1.462547e-03</td>\n",
       "      <td>1.627055e-03</td>\n",
       "      <td>5.090929e-04</td>\n",
       "      <td>3.661115e-04</td>\n",
       "      <td>1.223354e-03</td>\n",
       "      <td>...</td>\n",
       "      <td>1.703352e-03</td>\n",
       "      <td>1.416136e-03</td>\n",
       "      <td>1.249110e-03</td>\n",
       "      <td>7.168506e-04</td>\n",
       "      <td>1.551240e-03</td>\n",
       "      <td>2.032063e-03</td>\n",
       "      <td>3.521996e-04</td>\n",
       "      <td>9.192500e-04</td>\n",
       "      <td>1.265839e-03</td>\n",
       "      <td>24837.500000</td>\n",
       "    </tr>\n",
       "    <tr>\n",
       "      <th>75%</th>\n",
       "      <td>7.463243e-03</td>\n",
       "      <td>3.329147e-03</td>\n",
       "      <td>6.104337e-03</td>\n",
       "      <td>4.013391e-03</td>\n",
       "      <td>3.925575e-03</td>\n",
       "      <td>5.509219e-03</td>\n",
       "      <td>6.387709e-03</td>\n",
       "      <td>1.698692e-03</td>\n",
       "      <td>1.256391e-03</td>\n",
       "      <td>4.147900e-03</td>\n",
       "      <td>...</td>\n",
       "      <td>6.174209e-03</td>\n",
       "      <td>4.757978e-03</td>\n",
       "      <td>4.094956e-03</td>\n",
       "      <td>2.399405e-03</td>\n",
       "      <td>5.176193e-03</td>\n",
       "      <td>6.872019e-03</td>\n",
       "      <td>1.168727e-03</td>\n",
       "      <td>3.014119e-03</td>\n",
       "      <td>4.461865e-03</td>\n",
       "      <td>37264.750000</td>\n",
       "    </tr>\n",
       "    <tr>\n",
       "      <th>max</th>\n",
       "      <td>9.999848e-01</td>\n",
       "      <td>9.998180e-01</td>\n",
       "      <td>9.999611e-01</td>\n",
       "      <td>9.996492e-01</td>\n",
       "      <td>9.998125e-01</td>\n",
       "      <td>9.999144e-01</td>\n",
       "      <td>9.999441e-01</td>\n",
       "      <td>9.999317e-01</td>\n",
       "      <td>9.997679e-01</td>\n",
       "      <td>9.999452e-01</td>\n",
       "      <td>...</td>\n",
       "      <td>9.999052e-01</td>\n",
       "      <td>9.999820e-01</td>\n",
       "      <td>9.999077e-01</td>\n",
       "      <td>9.998526e-01</td>\n",
       "      <td>9.999910e-01</td>\n",
       "      <td>9.999606e-01</td>\n",
       "      <td>9.995263e-01</td>\n",
       "      <td>9.999194e-01</td>\n",
       "      <td>9.999496e-01</td>\n",
       "      <td>49688.000000</td>\n",
       "    </tr>\n",
       "  </tbody>\n",
       "</table>\n",
       "<p>8 rows × 23 columns</p>\n",
       "</div>"
      ],
      "text/plain": [
       "            topic_0       topic_1       topic_2       topic_3       topic_4  \\\n",
       "count  4.950200e+04  4.950200e+04  4.950200e+04  4.950200e+04  4.950200e+04   \n",
       "mean   2.071187e-02  4.297420e-02  2.061694e-02  1.449651e-01  1.316624e-01   \n",
       "std    1.153336e-01  1.744168e-01  1.173358e-01  3.151527e-01  3.069833e-01   \n",
       "min    4.020548e-07  1.171701e-07  7.004441e-07  8.391984e-08  9.617313e-08   \n",
       "25%    5.334306e-04  2.334441e-04  4.473016e-04  1.568620e-04  1.687339e-04   \n",
       "50%    2.272983e-03  9.816725e-04  1.865658e-03  7.791897e-04  8.470000e-04   \n",
       "75%    7.463243e-03  3.329147e-03  6.104337e-03  4.013391e-03  3.925575e-03   \n",
       "max    9.999848e-01  9.998180e-01  9.999611e-01  9.996492e-01  9.998125e-01   \n",
       "\n",
       "            topic_5       topic_6       topic_7       topic_8       topic_9  \\\n",
       "count  4.950200e+04  4.950200e+04  4.950200e+04  4.950200e+04  4.950200e+04   \n",
       "mean   7.544303e-02  9.560222e-02  2.142675e-02  3.119877e-02  3.616593e-02   \n",
       "std    2.397469e-01  2.703631e-01  1.171711e-01  1.398321e-01  1.611797e-01   \n",
       "min    2.132926e-07  2.232470e-07  6.703903e-08  4.445199e-08  1.643594e-07   \n",
       "25%    3.241162e-04  3.434469e-04  1.214424e-04  8.576851e-05  2.849395e-04   \n",
       "50%    1.462547e-03  1.627055e-03  5.090929e-04  3.661115e-04  1.223354e-03   \n",
       "75%    5.509219e-03  6.387709e-03  1.698692e-03  1.256391e-03  4.147900e-03   \n",
       "max    9.999144e-01  9.999441e-01  9.999317e-01  9.997679e-01  9.999452e-01   \n",
       "\n",
       "           ...           topic_13      topic_14      topic_15      topic_16  \\\n",
       "count      ...       4.950200e+04  4.950200e+04  4.950200e+04  4.950200e+04   \n",
       "mean       ...       7.031256e-02  3.686334e-02  2.114678e-02  2.551775e-02   \n",
       "std        ...       2.324126e-01  1.578139e-01  1.173304e-01  1.293245e-01   \n",
       "min        ...       2.033900e-07  1.779033e-07  2.336483e-07  1.128044e-07   \n",
       "25%        ...       3.785302e-04  3.369231e-04  3.002882e-04  1.727633e-04   \n",
       "50%        ...       1.703352e-03  1.416136e-03  1.249110e-03  7.168506e-04   \n",
       "75%        ...       6.174209e-03  4.757978e-03  4.094956e-03  2.399405e-03   \n",
       "max        ...       9.999052e-01  9.999820e-01  9.999077e-01  9.998526e-01   \n",
       "\n",
       "           topic_17      topic_18      topic_19      topic_20      topic_21  \\\n",
       "count  4.950200e+04  4.950200e+04  4.950200e+04  4.950200e+04  4.950200e+04   \n",
       "mean   2.244161e-02  3.612258e-02  1.699803e-02  1.720467e-02  6.205733e-02   \n",
       "std    1.240478e-01  1.630636e-01  9.890282e-02  1.152595e-01  2.160707e-01   \n",
       "min    2.281761e-07  2.827442e-07  6.110517e-08  1.377766e-07  1.515296e-07   \n",
       "25%    3.630267e-04  4.672501e-04  8.570874e-05  2.161908e-04  2.882629e-04   \n",
       "50%    1.551240e-03  2.032063e-03  3.521996e-04  9.192500e-04  1.265839e-03   \n",
       "75%    5.176193e-03  6.872019e-03  1.168727e-03  3.014119e-03  4.461865e-03   \n",
       "max    9.999910e-01  9.999606e-01  9.995263e-01  9.999194e-01  9.999496e-01   \n",
       "\n",
       "         product_id  \n",
       "count  49502.000000  \n",
       "mean   24842.740596  \n",
       "std    14341.538265  \n",
       "min       10.000000  \n",
       "25%    12423.250000  \n",
       "50%    24837.500000  \n",
       "75%    37264.750000  \n",
       "max    49688.000000  \n",
       "\n",
       "[8 rows x 23 columns]"
      ]
     },
     "execution_count": 34,
     "metadata": {},
     "output_type": "execute_result"
    }
   ],
   "source": [
    "topic_product.describe()"
   ]
  },
  {
   "cell_type": "markdown",
   "metadata": {
    "collapsed": true
   },
   "source": [
    "### 基于方案2的Nearest Neighbors Search\n",
    "- 每个人一个NN，找到与user topic最近的商品\n",
    "- 分析pred中None的数量\n",
    "- avg_reorder_len, component无normalize, 欧氏聚类时的得分：f1score:0.078288109250376284\n",
    "- avg_reorder_len, component normalize，l1距离时的扥分：f1score:0.11\n",
    "- 2 * avg_reorder_len, component normalize，l1距离时的扥分：f1score:0.15\n",
    "- 3 * avg_reorder_len, component normalize，l1距离时的扥分：f1score:0.178\n",
    "- 4 * avg_reorder_len, component normalize，l1距离时的扥分：f1score:0.19\n",
    "- 5 * avg_reorder_len, component normalize，l1距离时的扥分：f1score:0.20\n",
    "- avg_reorder_len, component normalize，l1距离时的扥分：f1score:0.11:0.107\n",
    "- norm, 2 * avg_reorder_len, component normalize，l1距离时的扥分：f1score:0.146\n",
    "- norm, 3 * avg_reorder_len, component normalize，l1距离时的扥分：f1score:0.168\n",
    "- norm, 4 * avg_reorder_len, component normalize，l1距离时的扥分：f1score:0.18\n",
    "- norm, 5 * avg_reorder_len, component normalize，l1距离时的扥分：f1score:0.19\n",
    "- avg_reorder_len, component normalize，欧氏距离时的扥分：f1score:0.11\n",
    "\n",
    "- avg_reorder_len, component normalize, 对称KL距离时的得分: f1score:0.108\n"
   ]
  },
  {
   "cell_type": "code",
   "execution_count": 26,
   "metadata": {
    "collapsed": true
   },
   "outputs": [],
   "source": [
    "with open(DATA_DIR + 'user_product.pkl', 'rb') as f:\n",
    "    user_product = pickle.load(f)"
   ]
  },
  {
   "cell_type": "code",
   "execution_count": 27,
   "metadata": {
    "collapsed": true
   },
   "outputs": [],
   "source": [
    "with open(DATA_DIR + 'user_reorder_est.pkl', 'rb') as f:\n",
    "    avg_reorder_est = pickle.load(f)"
   ]
  },
  {
   "cell_type": "code",
   "execution_count": 28,
   "metadata": {
    "collapsed": true
   },
   "outputs": [],
   "source": [
    "train_orders = orders[orders.eval_set == 'train']"
   ]
  },
  {
   "cell_type": "code",
   "execution_count": 29,
   "metadata": {
    "scrolled": true
   },
   "outputs": [
    {
     "name": "stdout",
     "output_type": "stream",
     "text": [
      "Nearest Product Search for 10000th user\n",
      "Nearest Product Search for 20000th user\n",
      "Nearest Product Search for 30000th user\n",
      "Nearest Product Search for 40000th user\n",
      "Nearest Product Search for 50000th user\n",
      "Nearest Product Search for 60000th user\n",
      "Nearest Product Search for 70000th user\n",
      "Nearest Product Search for 80000th user\n",
      "Nearest Product Search for 90000th user\n",
      "Nearest Product Search for 100000th user\n",
      "Nearest Product Search for 110000th user\n",
      "Nearest Product Search for 120000th user\n",
      "Nearest Product Search for 130000th user\n"
     ]
    }
   ],
   "source": [
    "#%%time\n",
    "u_nnp = []\n",
    "cnt = 0\n",
    "for u in train_orders.user_id:\n",
    "    cnt += 1\n",
    "    if cnt % 10000 == 0:\n",
    "        print(\"Nearest Product Search for %dth user\"%cnt)\n",
    "    # extract user u's topic\n",
    "    u_topic = user_topic[user_topic.user_id == u][[\"topic_%d\"%x for x in range(10)]]\n",
    "    # extract user u's product list\n",
    "    u_products = user_product[user_product.user_id == u]['product_id']\n",
    "    # extract avg_reorder_num\n",
    "    u_reorder = avg_reorder_est[avg_reorder_est.user_id == u]['avg_reorder_num']\n",
    "    # extract products' topic\n",
    "    p_topics = topic_product[topic_product.product_id.isin(set(u_products.values[0]))]\n",
    "    p_topics_pid = p_topics['product_id'].reset_index()['product_id']\n",
    "    p_topics_vec = p_topics[[\"topic_%d\"%x for x in range(10)]]\n",
    "    # nbr search, expand search scope\n",
    "    n_neighbors = 1 * int(np.ceil(u_reorder.values[0]))\n",
    "    if n_neighbors > len(p_topics_vec):\n",
    "        n_neighbors = len(p_topics_vec)\n",
    "    if n_neighbors > 0:\n",
    "        nbrs = NearestNeighbors(n_neighbors=n_neighbors, \n",
    "                                metric = 'l1',\n",
    "                                algorithm = 'brute').fit(p_topics_vec.values)\n",
    "        #print(u)\n",
    "        distances, indices = nbrs.kneighbors(u_topic.values.reshape(1, -1))\n",
    "        #print(cnt)\n",
    "        u_nnp.append(list(p_topics_pid[indices[0]].values))\n",
    "    else:\n",
    "        u_nnp.append('None')\n",
    "    "
   ]
  },
  {
   "cell_type": "markdown",
   "metadata": {},
   "source": [
    "### 方案2 结果评估"
   ]
  },
  {
   "cell_type": "code",
   "execution_count": 30,
   "metadata": {
    "collapsed": true
   },
   "outputs": [],
   "source": [
    "train_pred = pd.DataFrame({'user_id':train_orders.user_id, \n",
    "                                 'reorder_pids':u_nnp, \n",
    "                                 'order_id':train_orders.order_id})\n",
    "\n",
    "train_gold = order_products_train[order_products_train.reordered == 1].groupby(['order_id'])['product_id'].apply(list)\n",
    "\n",
    "train_gold = train_gold.reset_index()\n",
    "\n",
    "train_eval = pd.merge(train_gold, train_pred, on = ['order_id'], how = 'outer').fillna('None')\n",
    "\n",
    "train_eval.columns = ['order_id', 'gold_reorder', 'pred_reorder', 'user_id']\n",
    "    "
   ]
  },
  {
   "cell_type": "code",
   "execution_count": 31,
   "metadata": {
    "collapsed": true,
    "scrolled": true
   },
   "outputs": [],
   "source": [
    "# 21mins\n",
    "train_eval['f1score'] = train_eval.apply(wrap_cal_f1, axis = 1)\n",
    "\n",
    "train_eval['precision'] = train_eval.apply(wrap_cal_precision, axis = 1)\n",
    "\n",
    "train_eval['recall'] = train_eval.apply(wrap_cal_recall, axis = 1)"
   ]
  },
  {
   "cell_type": "code",
   "execution_count": 32,
   "metadata": {
    "scrolled": false
   },
   "outputs": [
    {
     "data": {
      "text/plain": [
       "0.11241217855250955"
      ]
     },
     "execution_count": 32,
     "metadata": {},
     "output_type": "execute_result"
    }
   ],
   "source": [
    "train_eval.f1score.mean()"
   ]
  },
  {
   "cell_type": "code",
   "execution_count": 33,
   "metadata": {
    "scrolled": true
   },
   "outputs": [
    {
     "data": {
      "text/html": [
       "<div>\n",
       "<table border=\"1\" class=\"dataframe\">\n",
       "  <thead>\n",
       "    <tr style=\"text-align: right;\">\n",
       "      <th></th>\n",
       "      <th>order_id</th>\n",
       "      <th>user_id</th>\n",
       "      <th>f1score</th>\n",
       "      <th>precision</th>\n",
       "      <th>recall</th>\n",
       "    </tr>\n",
       "  </thead>\n",
       "  <tbody>\n",
       "    <tr>\n",
       "      <th>count</th>\n",
       "      <td>1.312090e+05</td>\n",
       "      <td>131209.000000</td>\n",
       "      <td>131209.000000</td>\n",
       "      <td>131209.000000</td>\n",
       "      <td>131209.000000</td>\n",
       "    </tr>\n",
       "    <tr>\n",
       "      <th>mean</th>\n",
       "      <td>1.704050e+06</td>\n",
       "      <td>103166.825317</td>\n",
       "      <td>0.112412</td>\n",
       "      <td>0.139801</td>\n",
       "      <td>0.106983</td>\n",
       "    </tr>\n",
       "    <tr>\n",
       "      <th>std</th>\n",
       "      <td>9.889077e+05</td>\n",
       "      <td>59565.307804</td>\n",
       "      <td>0.186428</td>\n",
       "      <td>0.228738</td>\n",
       "      <td>0.193099</td>\n",
       "    </tr>\n",
       "    <tr>\n",
       "      <th>min</th>\n",
       "      <td>1.000000e+00</td>\n",
       "      <td>1.000000</td>\n",
       "      <td>0.000000</td>\n",
       "      <td>0.000000</td>\n",
       "      <td>0.000000</td>\n",
       "    </tr>\n",
       "    <tr>\n",
       "      <th>25%</th>\n",
       "      <td>8.451640e+05</td>\n",
       "      <td>51587.000000</td>\n",
       "      <td>0.000000</td>\n",
       "      <td>0.000000</td>\n",
       "      <td>0.000000</td>\n",
       "    </tr>\n",
       "    <tr>\n",
       "      <th>50%</th>\n",
       "      <td>1.696847e+06</td>\n",
       "      <td>103150.000000</td>\n",
       "      <td>0.000000</td>\n",
       "      <td>0.000000</td>\n",
       "      <td>0.000000</td>\n",
       "    </tr>\n",
       "    <tr>\n",
       "      <th>75%</th>\n",
       "      <td>2.561480e+06</td>\n",
       "      <td>154868.000000</td>\n",
       "      <td>0.181818</td>\n",
       "      <td>0.222222</td>\n",
       "      <td>0.166667</td>\n",
       "    </tr>\n",
       "    <tr>\n",
       "      <th>max</th>\n",
       "      <td>3.421070e+06</td>\n",
       "      <td>206209.000000</td>\n",
       "      <td>1.000000</td>\n",
       "      <td>1.000000</td>\n",
       "      <td>1.000000</td>\n",
       "    </tr>\n",
       "  </tbody>\n",
       "</table>\n",
       "</div>"
      ],
      "text/plain": [
       "           order_id        user_id        f1score      precision  \\\n",
       "count  1.312090e+05  131209.000000  131209.000000  131209.000000   \n",
       "mean   1.704050e+06  103166.825317       0.112412       0.139801   \n",
       "std    9.889077e+05   59565.307804       0.186428       0.228738   \n",
       "min    1.000000e+00       1.000000       0.000000       0.000000   \n",
       "25%    8.451640e+05   51587.000000       0.000000       0.000000   \n",
       "50%    1.696847e+06  103150.000000       0.000000       0.000000   \n",
       "75%    2.561480e+06  154868.000000       0.181818       0.222222   \n",
       "max    3.421070e+06  206209.000000       1.000000       1.000000   \n",
       "\n",
       "              recall  \n",
       "count  131209.000000  \n",
       "mean        0.106983  \n",
       "std         0.193099  \n",
       "min         0.000000  \n",
       "25%         0.000000  \n",
       "50%         0.000000  \n",
       "75%         0.166667  \n",
       "max         1.000000  "
      ]
     },
     "execution_count": 33,
     "metadata": {},
     "output_type": "execute_result"
    }
   ],
   "source": [
    "train_eval.describe()"
   ]
  },
  {
   "cell_type": "code",
   "execution_count": 389,
   "metadata": {},
   "outputs": [
    {
     "data": {
      "text/html": [
       "<div>\n",
       "<table border=\"1\" class=\"dataframe\">\n",
       "  <thead>\n",
       "    <tr style=\"text-align: right;\">\n",
       "      <th></th>\n",
       "      <th>order_id</th>\n",
       "      <th>gold_reorder</th>\n",
       "      <th>pred_reorder</th>\n",
       "      <th>user_id</th>\n",
       "      <th>f1score</th>\n",
       "      <th>precision</th>\n",
       "      <th>recall</th>\n",
       "    </tr>\n",
       "  </thead>\n",
       "  <tbody>\n",
       "    <tr>\n",
       "      <th>99725</th>\n",
       "      <td>2780124</td>\n",
       "      <td>[329]</td>\n",
       "      <td>[27845, 21137, 20597]</td>\n",
       "      <td>201</td>\n",
       "      <td>0.0</td>\n",
       "      <td>0.0</td>\n",
       "      <td>0.0</td>\n",
       "    </tr>\n",
       "  </tbody>\n",
       "</table>\n",
       "</div>"
      ],
      "text/plain": [
       "       order_id gold_reorder           pred_reorder  user_id  f1score  \\\n",
       "99725   2780124        [329]  [27845, 21137, 20597]      201      0.0   \n",
       "\n",
       "       precision  recall  \n",
       "99725        0.0     0.0  "
      ]
     },
     "execution_count": 389,
     "metadata": {},
     "output_type": "execute_result"
    }
   ],
   "source": [
    "train_eval[train_eval.user_id == 201]"
   ]
  },
  {
   "cell_type": "code",
   "execution_count": 378,
   "metadata": {
    "collapsed": true
   },
   "outputs": [],
   "source": [
    "prior_all = pd.merge(order_products_prior, orders, on = ['order_id'], how = 'left')"
   ]
  },
  {
   "cell_type": "code",
   "execution_count": 379,
   "metadata": {
    "collapsed": true
   },
   "outputs": [],
   "source": [
    "prior_all = pd.merge(prior_all,\n",
    "                     product_ad[['product_id', 'product_name', 'aisle', 'department']],\n",
    "                     on = ['product_id'],\n",
    "                     how = 'left')"
   ]
  },
  {
   "cell_type": "markdown",
   "metadata": {},
   "source": [
    "### 方案1 每张订单的Embeded Topic Space表达"
   ]
  },
  {
   "cell_type": "code",
   "execution_count": 132,
   "metadata": {
    "scrolled": true
   },
   "outputs": [
    {
     "name": "stdout",
     "output_type": "stream",
     "text": [
      "CPU times: user 2min 19s, sys: 1.02 s, total: 2min 20s\n",
      "Wall time: 2min 20s\n"
     ]
    }
   ],
   "source": [
    "%%time\n",
    "order_topic = lda_10.transform(order_tf_matrix)"
   ]
  },
  {
   "cell_type": "code",
   "execution_count": 130,
   "metadata": {
    "collapsed": true
   },
   "outputs": [],
   "source": [
    "with open(DATA_DIR + 'tf_matrix', 'rb') as f:\n",
    "    order_tf_matrix = pickle.load(f)"
   ]
  },
  {
   "cell_type": "code",
   "execution_count": 144,
   "metadata": {
    "collapsed": true
   },
   "outputs": [],
   "source": [
    "order_products_matrix = order_products_matrix.reset_index()"
   ]
  },
  {
   "cell_type": "code",
   "execution_count": 152,
   "metadata": {
    "collapsed": true
   },
   "outputs": [],
   "source": [
    "order_topic = pd.DataFrame(order_topic, columns = [\"topic_%d\"%x for x in range(10)])"
   ]
  },
  {
   "cell_type": "code",
   "execution_count": 153,
   "metadata": {
    "scrolled": true
   },
   "outputs": [
    {
     "data": {
      "text/html": [
       "<div>\n",
       "<table border=\"1\" class=\"dataframe\">\n",
       "  <thead>\n",
       "    <tr style=\"text-align: right;\">\n",
       "      <th></th>\n",
       "      <th>topic_0</th>\n",
       "      <th>topic_1</th>\n",
       "      <th>topic_2</th>\n",
       "      <th>topic_3</th>\n",
       "      <th>topic_4</th>\n",
       "      <th>topic_5</th>\n",
       "      <th>topic_6</th>\n",
       "      <th>topic_7</th>\n",
       "      <th>topic_8</th>\n",
       "      <th>topic_9</th>\n",
       "    </tr>\n",
       "  </thead>\n",
       "  <tbody>\n",
       "    <tr>\n",
       "      <th>count</th>\n",
       "      <td>3.346083e+06</td>\n",
       "      <td>3.346083e+06</td>\n",
       "      <td>3.346083e+06</td>\n",
       "      <td>3.346083e+06</td>\n",
       "      <td>3.346083e+06</td>\n",
       "      <td>3.346083e+06</td>\n",
       "      <td>3.346083e+06</td>\n",
       "      <td>3.346083e+06</td>\n",
       "      <td>3.346083e+06</td>\n",
       "      <td>3.346083e+06</td>\n",
       "    </tr>\n",
       "    <tr>\n",
       "      <th>mean</th>\n",
       "      <td>7.187041e-02</td>\n",
       "      <td>7.391911e-02</td>\n",
       "      <td>9.607594e-02</td>\n",
       "      <td>1.156562e-01</td>\n",
       "      <td>1.179394e-01</td>\n",
       "      <td>7.870632e-02</td>\n",
       "      <td>1.141647e-01</td>\n",
       "      <td>8.240011e-02</td>\n",
       "      <td>7.278592e-02</td>\n",
       "      <td>1.764819e-01</td>\n",
       "    </tr>\n",
       "    <tr>\n",
       "      <th>std</th>\n",
       "      <td>8.987800e-02</td>\n",
       "      <td>9.078519e-02</td>\n",
       "      <td>1.461682e-01</td>\n",
       "      <td>1.689784e-01</td>\n",
       "      <td>1.365042e-01</td>\n",
       "      <td>9.874789e-02</td>\n",
       "      <td>1.307131e-01</td>\n",
       "      <td>1.187880e-01</td>\n",
       "      <td>9.578959e-02</td>\n",
       "      <td>1.862984e-01</td>\n",
       "    </tr>\n",
       "    <tr>\n",
       "      <th>min</th>\n",
       "      <td>1.163040e-03</td>\n",
       "      <td>1.204819e-03</td>\n",
       "      <td>9.524070e-04</td>\n",
       "      <td>9.901641e-04</td>\n",
       "      <td>1.234594e-03</td>\n",
       "      <td>1.204894e-03</td>\n",
       "      <td>1.075358e-03</td>\n",
       "      <td>1.111149e-03</td>\n",
       "      <td>1.086957e-03</td>\n",
       "      <td>9.901753e-04</td>\n",
       "    </tr>\n",
       "    <tr>\n",
       "      <th>25%</th>\n",
       "      <td>1.250000e-02</td>\n",
       "      <td>1.250000e-02</td>\n",
       "      <td>1.111111e-02</td>\n",
       "      <td>1.000000e-02</td>\n",
       "      <td>1.428571e-02</td>\n",
       "      <td>1.250000e-02</td>\n",
       "      <td>1.428571e-02</td>\n",
       "      <td>1.000038e-02</td>\n",
       "      <td>1.111147e-02</td>\n",
       "      <td>1.666736e-02</td>\n",
       "    </tr>\n",
       "    <tr>\n",
       "      <th>50%</th>\n",
       "      <td>3.333333e-02</td>\n",
       "      <td>3.333333e-02</td>\n",
       "      <td>2.500000e-02</td>\n",
       "      <td>2.500000e-02</td>\n",
       "      <td>5.000000e-02</td>\n",
       "      <td>3.333333e-02</td>\n",
       "      <td>5.000000e-02</td>\n",
       "      <td>2.500000e-02</td>\n",
       "      <td>2.500000e-02</td>\n",
       "      <td>1.056638e-01</td>\n",
       "    </tr>\n",
       "    <tr>\n",
       "      <th>75%</th>\n",
       "      <td>1.079073e-01</td>\n",
       "      <td>1.100000e-01</td>\n",
       "      <td>1.221843e-01</td>\n",
       "      <td>1.615385e-01</td>\n",
       "      <td>1.851988e-01</td>\n",
       "      <td>1.166667e-01</td>\n",
       "      <td>1.833333e-01</td>\n",
       "      <td>1.100000e-01</td>\n",
       "      <td>1.040230e-01</td>\n",
       "      <td>3.008785e-01</td>\n",
       "    </tr>\n",
       "    <tr>\n",
       "      <th>max</th>\n",
       "      <td>9.250000e-01</td>\n",
       "      <td>9.099995e-01</td>\n",
       "      <td>9.357143e-01</td>\n",
       "      <td>9.571429e-01</td>\n",
       "      <td>9.307675e-01</td>\n",
       "      <td>9.000000e-01</td>\n",
       "      <td>9.399988e-01</td>\n",
       "      <td>9.181818e-01</td>\n",
       "      <td>9.357143e-01</td>\n",
       "      <td>9.678567e-01</td>\n",
       "    </tr>\n",
       "  </tbody>\n",
       "</table>\n",
       "</div>"
      ],
      "text/plain": [
       "            topic_0       topic_1       topic_2       topic_3       topic_4  \\\n",
       "count  3.346083e+06  3.346083e+06  3.346083e+06  3.346083e+06  3.346083e+06   \n",
       "mean   7.187041e-02  7.391911e-02  9.607594e-02  1.156562e-01  1.179394e-01   \n",
       "std    8.987800e-02  9.078519e-02  1.461682e-01  1.689784e-01  1.365042e-01   \n",
       "min    1.163040e-03  1.204819e-03  9.524070e-04  9.901641e-04  1.234594e-03   \n",
       "25%    1.250000e-02  1.250000e-02  1.111111e-02  1.000000e-02  1.428571e-02   \n",
       "50%    3.333333e-02  3.333333e-02  2.500000e-02  2.500000e-02  5.000000e-02   \n",
       "75%    1.079073e-01  1.100000e-01  1.221843e-01  1.615385e-01  1.851988e-01   \n",
       "max    9.250000e-01  9.099995e-01  9.357143e-01  9.571429e-01  9.307675e-01   \n",
       "\n",
       "            topic_5       topic_6       topic_7       topic_8       topic_9  \n",
       "count  3.346083e+06  3.346083e+06  3.346083e+06  3.346083e+06  3.346083e+06  \n",
       "mean   7.870632e-02  1.141647e-01  8.240011e-02  7.278592e-02  1.764819e-01  \n",
       "std    9.874789e-02  1.307131e-01  1.187880e-01  9.578959e-02  1.862984e-01  \n",
       "min    1.204894e-03  1.075358e-03  1.111149e-03  1.086957e-03  9.901753e-04  \n",
       "25%    1.250000e-02  1.428571e-02  1.000038e-02  1.111147e-02  1.666736e-02  \n",
       "50%    3.333333e-02  5.000000e-02  2.500000e-02  2.500000e-02  1.056638e-01  \n",
       "75%    1.166667e-01  1.833333e-01  1.100000e-01  1.040230e-01  3.008785e-01  \n",
       "max    9.000000e-01  9.399988e-01  9.181818e-01  9.357143e-01  9.678567e-01  "
      ]
     },
     "execution_count": 153,
     "metadata": {},
     "output_type": "execute_result"
    }
   ],
   "source": []
  },
  {
   "cell_type": "code",
   "execution_count": null,
   "metadata": {
    "collapsed": true
   },
   "outputs": [],
   "source": []
  }
 ],
 "metadata": {
  "kernelspec": {
   "display_name": "Python 3",
   "language": "python",
   "name": "python3"
  },
  "language_info": {
   "codemirror_mode": {
    "name": "ipython",
    "version": 3
   },
   "file_extension": ".py",
   "mimetype": "text/x-python",
   "name": "python",
   "nbconvert_exporter": "python",
   "pygments_lexer": "ipython3",
   "version": "3.5.2"
  }
 },
 "nbformat": 4,
 "nbformat_minor": 1
}
