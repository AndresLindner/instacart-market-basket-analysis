{
 "cells": [
  {
   "cell_type": "code",
   "execution_count": null,
   "metadata": {},
   "outputs": [],
   "source": [
    "import pickle;\n",
    "from imp import reload\n",
    "import numpy as np; import pandas as pd\n",
    "import lightgbm as lgb; import xgboost as xgb\n",
    "import matplotlib.pyplot as plt\n",
    "from sklearn.metrics import roc_auc_score\n",
    "import constants, utils, inference, evaluation\n",
    "from joblib import Parallel, delayed\n",
    "import multiprocessing\n",
    "import os\n",
    "pd.options.mode.chained_assignment = None"
   ]
  },
  {
   "cell_type": "code",
   "execution_count": 2,
   "metadata": {
    "collapsed": true
   },
   "outputs": [],
   "source": [
    "def generate_pred(m, idx, is_sub=False):\n",
    "    '''\n",
    "        m: model path\n",
    "        idx: index of model\n",
    "        is_sub: bool indicator for submission\n",
    "    '''\n",
    "    print('Evaluating Model {} ...'.format(idx))\n",
    "    print('Model Path {}'.format(m))\n",
    "    bst = pickle.load(open(m, 'rb'))\n",
    "    feat = data[utils.get_feat_col(bst)] # data global variable\n",
    "    pred = utils.get_predition(bst, feat)\n",
    "\n",
    "    user_product = gid[['user_id', 'product_id', 'order_id']] # gid global variable\n",
    "    user_product['score'] = pred\n",
    "\n",
    "    if is_sub is False:\n",
    "        user_product['label'] = label\n",
    "        auc = roc_auc_score(label, pred) # label global variable\n",
    "        print('Evaluation AUC {}'.format(auc))\n",
    "        op = user_product.copy()\n",
    "        op = utils.tarbox_f1_optim(op, low_bound=0)\n",
    "        op['products'] = op['products'].apply(lambda x: [int(i) if i != 'None' else i for i in x.split()])\n",
    "        op = pd.merge(pd.DataFrame({'order_id':user_product.order_id.unique()}),\n",
    "                    op, on = ['order_id'], how = 'left')\n",
    "        gold = evaluation.get_gold(user_product) \n",
    "        res = evaluation.evaluation(gold, op[['order_id', 'products']])\n",
    "        mf1 = res.f1score.mean()\n",
    "        print('F1 Optimization Result: mean-f1-score {}'.format(mf1))\n",
    "        eval_res=  {'model_file':m.split('/')[-1], 'eval_auc': auc, 'eval_mf1': mf1}\n",
    "        return eval_res, pred\n",
    "    else:\n",
    "        return pred\n"
   ]
  },
  {
   "cell_type": "markdown",
   "metadata": {},
   "source": [
    "#  <font color=red> Load Submission Data  </font>"
   ]
  },
  {
   "cell_type": "code",
   "execution_count": 5,
   "metadata": {
    "collapsed": true
   },
   "outputs": [],
   "source": [
    "data = pd.read_hdf('/data/Instacart/test.h5')"
   ]
  },
  {
   "cell_type": "code",
   "execution_count": 6,
   "metadata": {
    "collapsed": true
   },
   "outputs": [],
   "source": [
    "orders = data[['order_id']].drop_duplicates()\n",
    "up_pair = data[['order_id', 'product_id']].drop_duplicates()\n",
    "gid = data[constants.ID_COLS]"
   ]
  },
  {
   "cell_type": "code",
   "execution_count": 7,
   "metadata": {
    "collapsed": true
   },
   "outputs": [],
   "source": [
    "bagging_tree = pd.read_hdf(constants.EVA_DATA_DIR + 'bagging_tree.h5')\n",
    "bagging_tree = bagging_tree.sort_values('eval_mf1')"
   ]
  },
  {
   "cell_type": "code",
   "execution_count": 8,
   "metadata": {},
   "outputs": [
    {
     "data": {
      "text/html": [
       "<div>\n",
       "<table border=\"1\" class=\"dataframe\">\n",
       "  <thead>\n",
       "    <tr style=\"text-align: right;\">\n",
       "      <th></th>\n",
       "      <th>index</th>\n",
       "      <th>eval_auc</th>\n",
       "      <th>eval_mf1</th>\n",
       "      <th>model_file</th>\n",
       "    </tr>\n",
       "  </thead>\n",
       "  <tbody>\n",
       "    <tr>\n",
       "      <th>0</th>\n",
       "      <td>1</td>\n",
       "      <td>0.837777</td>\n",
       "      <td>0.402564</td>\n",
       "      <td>/home/public/Instacart/lgb/lgb_mtwdr_goss_0.83...</td>\n",
       "    </tr>\n",
       "    <tr>\n",
       "      <th>1</th>\n",
       "      <td>0</td>\n",
       "      <td>0.838028</td>\n",
       "      <td>0.402665</td>\n",
       "      <td>/home/public/Instacart/lgb/lgb_mtwdr_goss_0.83...</td>\n",
       "    </tr>\n",
       "    <tr>\n",
       "      <th>2</th>\n",
       "      <td>3</td>\n",
       "      <td>0.838212</td>\n",
       "      <td>0.402834</td>\n",
       "      <td>/home/public/Instacart/lgb/lgb_mtwdr_goss_0.83...</td>\n",
       "    </tr>\n",
       "    <tr>\n",
       "      <th>3</th>\n",
       "      <td>2</td>\n",
       "      <td>0.837845</td>\n",
       "      <td>0.402956</td>\n",
       "      <td>/home/public/Instacart/lgb/lgb_mtwdr_goss_0.83...</td>\n",
       "    </tr>\n",
       "    <tr>\n",
       "      <th>4</th>\n",
       "      <td>1</td>\n",
       "      <td>0.839410</td>\n",
       "      <td>0.402959</td>\n",
       "      <td>/home/public/Instacart/lgb/lgb_train_vip_gbdt_...</td>\n",
       "    </tr>\n",
       "    <tr>\n",
       "      <th>5</th>\n",
       "      <td>0</td>\n",
       "      <td>0.839316</td>\n",
       "      <td>0.403175</td>\n",
       "      <td>/home/public/Instacart/lgb/lgb_train_vip_gbdt_...</td>\n",
       "    </tr>\n",
       "    <tr>\n",
       "      <th>6</th>\n",
       "      <td>15</td>\n",
       "      <td>0.839354</td>\n",
       "      <td>0.403207</td>\n",
       "      <td>/home/public/Instacart/lgb/lgb_gbdt_0.83976702...</td>\n",
       "    </tr>\n",
       "    <tr>\n",
       "      <th>7</th>\n",
       "      <td>0</td>\n",
       "      <td>0.838976</td>\n",
       "      <td>0.403230</td>\n",
       "      <td>/home/public/Instacart/lgb/lgb_train_vip_gbdt_...</td>\n",
       "    </tr>\n",
       "    <tr>\n",
       "      <th>8</th>\n",
       "      <td>16</td>\n",
       "      <td>0.839337</td>\n",
       "      <td>0.403314</td>\n",
       "      <td>/home/public/Instacart/lgb/lgb_gbdt_0.83975988...</td>\n",
       "    </tr>\n",
       "    <tr>\n",
       "      <th>9</th>\n",
       "      <td>22</td>\n",
       "      <td>0.839243</td>\n",
       "      <td>0.403543</td>\n",
       "      <td>/home/public/Instacart/lgb/lgb_gbdt_0.84022029...</td>\n",
       "    </tr>\n",
       "    <tr>\n",
       "      <th>10</th>\n",
       "      <td>1</td>\n",
       "      <td>0.839331</td>\n",
       "      <td>0.403580</td>\n",
       "      <td>/home/public/Instacart/lgb/lgb_train_vip_gbdt_...</td>\n",
       "    </tr>\n",
       "    <tr>\n",
       "      <th>11</th>\n",
       "      <td>0</td>\n",
       "      <td>0.839467</td>\n",
       "      <td>0.403595</td>\n",
       "      <td>/home/public/Instacart/lgb/lgb_train_vip_gbdt_...</td>\n",
       "    </tr>\n",
       "    <tr>\n",
       "      <th>12</th>\n",
       "      <td>0</td>\n",
       "      <td>0.839425</td>\n",
       "      <td>0.403769</td>\n",
       "      <td>/home/public/Instacart/lgb/lgb_train_vip_gbdt_...</td>\n",
       "    </tr>\n",
       "    <tr>\n",
       "      <th>13</th>\n",
       "      <td>1</td>\n",
       "      <td>0.839287</td>\n",
       "      <td>0.403786</td>\n",
       "      <td>/home/public/Instacart/lgb/lgb_train_vip_gbdt_...</td>\n",
       "    </tr>\n",
       "    <tr>\n",
       "      <th>14</th>\n",
       "      <td>0</td>\n",
       "      <td>0.839904</td>\n",
       "      <td>0.404341</td>\n",
       "      <td>/home/public/Instacart/xgb/xgb_vip_0.839904_0....</td>\n",
       "    </tr>\n",
       "    <tr>\n",
       "      <th>15</th>\n",
       "      <td>0</td>\n",
       "      <td>0.840101</td>\n",
       "      <td>0.404459</td>\n",
       "      <td>/home/public/Instacart/xgb/xgb_vip_gbtree_0.84...</td>\n",
       "    </tr>\n",
       "  </tbody>\n",
       "</table>\n",
       "</div>"
      ],
      "text/plain": [
       "    index  eval_auc  eval_mf1  \\\n",
       "0       1  0.837777  0.402564   \n",
       "1       0  0.838028  0.402665   \n",
       "2       3  0.838212  0.402834   \n",
       "3       2  0.837845  0.402956   \n",
       "4       1  0.839410  0.402959   \n",
       "5       0  0.839316  0.403175   \n",
       "6      15  0.839354  0.403207   \n",
       "7       0  0.838976  0.403230   \n",
       "8      16  0.839337  0.403314   \n",
       "9      22  0.839243  0.403543   \n",
       "10      1  0.839331  0.403580   \n",
       "11      0  0.839467  0.403595   \n",
       "12      0  0.839425  0.403769   \n",
       "13      1  0.839287  0.403786   \n",
       "14      0  0.839904  0.404341   \n",
       "15      0  0.840101  0.404459   \n",
       "\n",
       "                                           model_file  \n",
       "0   /home/public/Instacart/lgb/lgb_mtwdr_goss_0.83...  \n",
       "1   /home/public/Instacart/lgb/lgb_mtwdr_goss_0.83...  \n",
       "2   /home/public/Instacart/lgb/lgb_mtwdr_goss_0.83...  \n",
       "3   /home/public/Instacart/lgb/lgb_mtwdr_goss_0.83...  \n",
       "4   /home/public/Instacart/lgb/lgb_train_vip_gbdt_...  \n",
       "5   /home/public/Instacart/lgb/lgb_train_vip_gbdt_...  \n",
       "6   /home/public/Instacart/lgb/lgb_gbdt_0.83976702...  \n",
       "7   /home/public/Instacart/lgb/lgb_train_vip_gbdt_...  \n",
       "8   /home/public/Instacart/lgb/lgb_gbdt_0.83975988...  \n",
       "9   /home/public/Instacart/lgb/lgb_gbdt_0.84022029...  \n",
       "10  /home/public/Instacart/lgb/lgb_train_vip_gbdt_...  \n",
       "11  /home/public/Instacart/lgb/lgb_train_vip_gbdt_...  \n",
       "12  /home/public/Instacart/lgb/lgb_train_vip_gbdt_...  \n",
       "13  /home/public/Instacart/lgb/lgb_train_vip_gbdt_...  \n",
       "14  /home/public/Instacart/xgb/xgb_vip_0.839904_0....  \n",
       "15  /home/public/Instacart/xgb/xgb_vip_gbtree_0.84...  "
      ]
     },
     "execution_count": 8,
     "metadata": {},
     "output_type": "execute_result"
    }
   ],
   "source": [
    "bagging_tree.reset_index()"
   ]
  },
  {
   "cell_type": "code",
   "execution_count": 9,
   "metadata": {
    "collapsed": true,
    "scrolled": true
   },
   "outputs": [],
   "source": [
    "# 11mins\n",
    "pred_subs = []\n",
    "for idx,m in enumerate(bagging_tree.model_file.values):\n",
    "    fp = './submission/' + m.split('/')[-1] + 'pkl'\n",
    "    if os.path.exists(fp):\n",
    "        pred = pickle.load(open(fp, 'rb'))\n",
    "    else:\n",
    "        pred = generate_pred(m, idx, is_sub=True)\n",
    "        with open('./submission/' + m.split('/')[-1] + 'pkl', 'wb') as f:\n",
    "            pickle.dump(pred, f, pickle.HIGHEST_PROTOCOL)\n",
    "    pred_subs.append(pred)"
   ]
  },
  {
   "cell_type": "code",
   "execution_count": 29,
   "metadata": {
    "collapsed": true
   },
   "outputs": [],
   "source": [
    "level0 = np.median(pred_subs[0:5], axis=0) # 0.4034\n",
    "level1 = np.median([level0] + pred_subs[5:9], axis=0) # 0.40429\n",
    "level2 = np.median([level1] + pred_subs[9:14], axis=0)"
   ]
  },
  {
   "cell_type": "markdown",
   "metadata": {},
   "source": [
    "# Bagging: Median"
   ]
  },
  {
   "cell_type": "code",
   "execution_count": 13,
   "metadata": {
    "collapsed": true
   },
   "outputs": [],
   "source": [
    "aboretum_pred = pd.merge(gid[['order_id', 'product_id']], \n",
    "                         pd.read_csv('./submission/prediction_arboretum.csv'),\n",
    "                         on=['order_id', 'product_id'], how='left')"
   ]
  },
  {
   "cell_type": "code",
   "execution_count": 14,
   "metadata": {
    "collapsed": true
   },
   "outputs": [],
   "source": [
    "big_model_pred = pd.merge(gid[['order_id', 'product_id']],\n",
    "                          pd.read_csv('./submission/xgb_score_0.8406880155364034.csv'),\n",
    "                          on=['order_id', 'product_id'], how='left')\n",
    "big_model_pred.score.fillna(0, inplace = True)"
   ]
  },
  {
   "cell_type": "code",
   "execution_count": 25,
   "metadata": {
    "collapsed": true
   },
   "outputs": [],
   "source": [
    "big_lgb_dart = pd.read_csv('./submission/big_lgb_dart_0.8386003614599506.csv')"
   ]
  },
  {
   "cell_type": "code",
   "execution_count": 34,
   "metadata": {
    "collapsed": true,
    "scrolled": true
   },
   "outputs": [],
   "source": [
    "predictions = [level2, pred_subs[14], pred_subs[15],\n",
    "               aboretum_pred.prediction.values, \n",
    "               big_model_pred.score.values]"
   ]
  },
  {
   "cell_type": "code",
   "execution_count": 35,
   "metadata": {
    "collapsed": true,
    "scrolled": true
   },
   "outputs": [],
   "source": [
    "user_product = data[['user_id', 'product_id', 'order_id']]\n",
    "user_product['score'] = np.median(predictions, axis=0)"
   ]
  },
  {
   "cell_type": "code",
   "execution_count": null,
   "metadata": {},
   "outputs": [],
   "source": [
    "op = user_product.copy()\n",
    "op = utils.shing_f1_optim(op, low_bound=0.01, topk=200)\n",
    "op = pd.merge(op[['order_id', 'products']], orders[['order_id']], on=['order_id'], how='right')\n",
    "op.columns = ['order_id', 'products']\n",
    "for row in op.loc[op.products.isnull(), 'products'].index:\n",
    "    op.at[row, 'products'] = 'None'\n",
    "op[['order_id', 'products']].to_csv('./submission/lgb3_big_bag_shing.csv', index=False)"
   ]
  },
  {
   "cell_type": "code",
   "execution_count": 37,
   "metadata": {},
   "outputs": [
    {
     "name": "stdout",
     "output_type": "stream",
     "text": [
      "CPU times: user 1min 27s, sys: 7.16 s, total: 1min 34s\n",
      "Wall time: 1min 47s\n"
     ]
    }
   ],
   "source": [
    "op = user_product.copy()\n",
    "op = utils.tarbox_f1_optim(op, low_bound=0)\n",
    "op = pd.merge(op[['order_id', 'products']], orders[['order_id']], on=['order_id'], how='right')\n",
    "op.columns = ['order_id', 'products']\n",
    "for row in op.loc[op.products.isnull(), 'products'].index:\n",
    "    op.at[row, 'products'] = 'None'\n",
    "op[['order_id', 'products']].to_csv('./submission/final_bag1.csv', index=False)  \n"
   ]
  },
  {
   "cell_type": "code",
   "execution_count": null,
   "metadata": {
    "collapsed": true
   },
   "outputs": [],
   "source": []
  }
 ],
 "metadata": {
  "kernelspec": {
   "display_name": "Python 3",
   "language": "python",
   "name": "python3"
  },
  "language_info": {
   "codemirror_mode": {
    "name": "ipython",
    "version": 3
   },
   "file_extension": ".py",
   "mimetype": "text/x-python",
   "name": "python",
   "nbconvert_exporter": "python",
   "pygments_lexer": "ipython3",
   "version": "3.5.2"
  }
 },
 "nbformat": 4,
 "nbformat_minor": 2
}
