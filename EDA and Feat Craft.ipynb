{
 "cells": [
  {
   "cell_type": "code",
   "execution_count": 6,
   "metadata": {
    "collapsed": true
   },
   "outputs": [],
   "source": [
    "import feats\n",
    "import utils\n",
    "import constants\n",
    "import transactions\n",
    "\n",
    "import os\n",
    "import pickle\n",
    "import operator\n",
    "import numpy as np\n",
    "import pandas as pd\n",
    "import seaborn as sns\n",
    "from imp import reload\n",
    "from matplotlib import pyplot as plt\n",
    "from statsmodels.tsa.api import VAR\n",
    "from scipy.spatial.distance import euclidean\n",
    "from sklearn.utils.extmath import cartesian\n",
    "from sklearn.feature_extraction.text import CountVectorizer\n",
    "from pandas.tools.plotting import lag_plot, autocorrelation_plot"
   ]
  },
  {
   "cell_type": "code",
   "execution_count": 3,
   "metadata": {
    "collapsed": true
   },
   "outputs": [],
   "source": [
    "uo = tle.get_users_orders('prior')"
   ]
  },
  {
   "cell_type": "code",
   "execution_count": 4,
   "metadata": {
    "collapsed": true
   },
   "outputs": [],
   "source": [
    "up_pair = uo[['user_id', 'product_id']].drop_duplicates()"
   ]
  },
  {
   "cell_type": "code",
   "execution_count": null,
   "metadata": {
    "collapsed": true
   },
   "outputs": [],
   "source": [
    "order_products_train = tle.get_orders_items('train')"
   ]
  },
  {
   "cell_type": "code",
   "execution_count": 33,
   "metadata": {
    "collapsed": true
   },
   "outputs": [],
   "source": [
    "order_products_prior = tle.get_orders_items('prior')\n",
    "orders = tle.get_orders()\n",
    "products = tle.get_items('products')\n",
    "aisles = tle.get_items('aisles')\n",
    "departments = tle.get_items('departments')"
   ]
  },
  {
   "cell_type": "code",
   "execution_count": 12,
   "metadata": {
    "collapsed": true
   },
   "outputs": [],
   "source": [
    "products_details = pd.merge(products, tle.craft_feat_product(), on = ['product_id'], how = 'right')"
   ]
  },
  {
   "cell_type": "markdown",
   "metadata": {},
   "source": [
    "## <font color=red> 1 None订单 </font>"
   ]
  },
  {
   "cell_type": "code",
   "execution_count": 6,
   "metadata": {
    "collapsed": true
   },
   "outputs": [],
   "source": [
    "order_is_None = order_products_train.groupby(['order_id'])['reordered'].sum().reset_index()"
   ]
  },
  {
   "cell_type": "code",
   "execution_count": 11,
   "metadata": {},
   "outputs": [
    {
     "data": {
      "text/plain": [
       "0.07015912631415824"
      ]
     },
     "execution_count": 11,
     "metadata": {},
     "output_type": "execute_result"
    }
   ],
   "source": [
    "len(order_is_None[order_is_None.reordered == 0]) / len(order_is_None[order_is_None.reordered > 0])"
   ]
  },
  {
   "cell_type": "code",
   "execution_count": 19,
   "metadata": {
    "collapsed": true
   },
   "outputs": [],
   "source": [
    "a = pd.merge(order_is_None, orders, how = 'left', on = ['order_id'])"
   ]
  },
  {
   "cell_type": "markdown",
   "metadata": {},
   "source": [
    "#### prior、train订单"
   ]
  },
  {
   "cell_type": "code",
   "execution_count": 65,
   "metadata": {
    "collapsed": true
   },
   "outputs": [],
   "source": [
    "order_products_all = pd.concat([order_products_prior, order_products_train], axis = 0)"
   ]
  },
  {
   "cell_type": "markdown",
   "metadata": {},
   "source": [
    "## 2 How many products do users buy each time\n",
    "- 每张订单的商品数目"
   ]
  },
  {
   "cell_type": "code",
   "execution_count": 21,
   "metadata": {
    "collapsed": true
   },
   "outputs": [],
   "source": [
    "grouped = order_products_prior.groupby(\"order_id\")[\"add_to_cart_order\"].aggregate(\"max\").reset_index()"
   ]
  },
  {
   "cell_type": "code",
   "execution_count": 22,
   "metadata": {},
   "outputs": [
    {
     "data": {
      "text/plain": [
       "count    3.214874e+06\n",
       "mean     1.008888e+01\n",
       "std      7.525398e+00\n",
       "min      1.000000e+00\n",
       "25%      5.000000e+00\n",
       "50%      8.000000e+00\n",
       "75%      1.400000e+01\n",
       "max      1.450000e+02\n",
       "Name: add_to_cart_order, dtype: float64"
      ]
     },
     "execution_count": 22,
     "metadata": {},
     "output_type": "execute_result"
    }
   ],
   "source": [
    "grouped.add_to_cart_order.describe()"
   ]
  },
  {
   "cell_type": "markdown",
   "metadata": {},
   "source": [
    "## 3 Do users purchase different numbers of products each time?\n",
    "- 用户每次购买的商品数目一样麽"
   ]
  },
  {
   "cell_type": "code",
   "execution_count": 23,
   "metadata": {
    "collapsed": true
   },
   "outputs": [],
   "source": [
    "grouped = pd.merge(grouped,\n",
    "         orders,\n",
    "         on = ['order_id'],\n",
    "         how = 'left')[['user_id', 'add_to_cart_order', 'order_number', 'order_dow', 'order_hour_of_day', 'days_since_prior_order']]"
   ]
  },
  {
   "cell_type": "code",
   "execution_count": 24,
   "metadata": {
    "collapsed": true
   },
   "outputs": [],
   "source": [
    "grouped = grouped.sort_values(['user_id', 'order_number'])"
   ]
  },
  {
   "cell_type": "code",
   "execution_count": 25,
   "metadata": {
    "collapsed": true
   },
   "outputs": [],
   "source": [
    "grouped.columns = ['user_id', \n",
    "                   'num_products', \n",
    "                   'order_number', \n",
    "                   'order_dow',\n",
    "                   'order_hour_of_day', \n",
    "                   'days_since_prior_order']"
   ]
  },
  {
   "cell_type": "code",
   "execution_count": 18,
   "metadata": {
    "collapsed": true
   },
   "outputs": [],
   "source": [
    "user_num_product = grouped.groupby(['user_id'])['num_products'].agg({'mean':'mean', 'std':'std'})"
   ]
  },
  {
   "cell_type": "code",
   "execution_count": null,
   "metadata": {
    "collapsed": true,
    "scrolled": true
   },
   "outputs": [],
   "source": [
    "with open(DATA_DIR + 'user_num_product_stat.pkl', 'wb') as f:\n",
    "    pickle.dump(user_num_product, f, pic)"
   ]
  },
  {
   "cell_type": "code",
   "execution_count": 3,
   "metadata": {
    "collapsed": true
   },
   "outputs": [],
   "source": [
    "with open(constants.FEAT_DATA_DIR + 'user_num_product_stat.pkl', 'rb') as f:\n",
    "    user_num_product = pickle.load(f)"
   ]
  },
  {
   "cell_type": "code",
   "execution_count": 7,
   "metadata": {},
   "outputs": [
    {
     "data": {
      "text/plain": [
       "count    206209.000000\n",
       "mean          4.266349\n",
       "std           2.675061\n",
       "min           0.000000\n",
       "25%           2.345208\n",
       "50%           3.781534\n",
       "75%           5.609516\n",
       "max          44.747439\n",
       "Name: std, dtype: float64"
      ]
     },
     "execution_count": 7,
     "metadata": {},
     "output_type": "execute_result"
    }
   ],
   "source": [
    "user_num_product['std'].describe()"
   ]
  },
  {
   "cell_type": "markdown",
   "metadata": {},
   "source": [
    "## 4 Reorder Rate \n",
    "- 每张订单中重复购买商品比例"
   ]
  },
  {
   "cell_type": "code",
   "execution_count": 26,
   "metadata": {
    "collapsed": true
   },
   "outputs": [],
   "source": [
    "grouped = order_products_all.groupby(\"product_id\")[\"reordered\"].aggregate({'reorder_sum': sum,'reorder_total': 'count'}).reset_index()\n",
    "grouped['reorder_probability'] = grouped['reorder_sum'] / grouped['reorder_total']\n",
    "grouped = pd.merge(grouped, products[['product_id', 'product_name']], how='left', on=['product_id'])\n",
    "grouped = grouped[grouped.reorder_total > 75].sort_values(['reorder_probability'], ascending=False)[:10]"
   ]
  },
  {
   "cell_type": "code",
   "execution_count": 27,
   "metadata": {
    "collapsed": true
   },
   "outputs": [],
   "source": [
    "prior_reorder_rate = order_products_prior.groupby(['order_id'])['reordered'] \\\n",
    "                                         .aggregate({'reorder_pnum':'sum', 'pnum':'count'})"
   ]
  },
  {
   "cell_type": "code",
   "execution_count": 28,
   "metadata": {
    "collapsed": true
   },
   "outputs": [],
   "source": [
    "prior_reorder_rate['reorder_rate'] = prior_reorder_rate['reorder_pnum'] / prior_reorder_rate['pnum']"
   ]
  },
  {
   "cell_type": "code",
   "execution_count": 29,
   "metadata": {
    "collapsed": true
   },
   "outputs": [],
   "source": [
    "prior_reorder_rate.reset_index(inplace=True)"
   ]
  },
  {
   "cell_type": "code",
   "execution_count": 30,
   "metadata": {
    "collapsed": true
   },
   "outputs": [],
   "source": [
    "prior_orders = orders[orders.eval_set == 'prior']"
   ]
  },
  {
   "cell_type": "code",
   "execution_count": 31,
   "metadata": {
    "collapsed": true
   },
   "outputs": [],
   "source": [
    "prior_orders = pd.merge(prior_orders, prior_reorder_rate,\n",
    "                        on = ['order_id'], how = 'left')"
   ]
  },
  {
   "cell_type": "code",
   "execution_count": 32,
   "metadata": {
    "scrolled": true
   },
   "outputs": [
    {
     "data": {
      "text/html": [
       "<div>\n",
       "<table border=\"1\" class=\"dataframe\">\n",
       "  <thead>\n",
       "    <tr style=\"text-align: right;\">\n",
       "      <th></th>\n",
       "      <th>order_id</th>\n",
       "      <th>user_id</th>\n",
       "      <th>eval_set</th>\n",
       "      <th>order_number</th>\n",
       "      <th>order_dow</th>\n",
       "      <th>order_hour_of_day</th>\n",
       "      <th>days_since_prior_order</th>\n",
       "      <th>days_up_to_last</th>\n",
       "      <th>pnum</th>\n",
       "      <th>reorder_pnum</th>\n",
       "      <th>reorder_rate</th>\n",
       "    </tr>\n",
       "  </thead>\n",
       "  <tbody>\n",
       "    <tr>\n",
       "      <th>0</th>\n",
       "      <td>2539329</td>\n",
       "      <td>1</td>\n",
       "      <td>prior</td>\n",
       "      <td>1</td>\n",
       "      <td>2</td>\n",
       "      <td>8</td>\n",
       "      <td>0.0</td>\n",
       "      <td>190.0</td>\n",
       "      <td>5</td>\n",
       "      <td>0</td>\n",
       "      <td>0.000</td>\n",
       "    </tr>\n",
       "    <tr>\n",
       "      <th>1</th>\n",
       "      <td>2398795</td>\n",
       "      <td>1</td>\n",
       "      <td>prior</td>\n",
       "      <td>2</td>\n",
       "      <td>3</td>\n",
       "      <td>7</td>\n",
       "      <td>15.0</td>\n",
       "      <td>175.0</td>\n",
       "      <td>6</td>\n",
       "      <td>3</td>\n",
       "      <td>0.500</td>\n",
       "    </tr>\n",
       "    <tr>\n",
       "      <th>2</th>\n",
       "      <td>473747</td>\n",
       "      <td>1</td>\n",
       "      <td>prior</td>\n",
       "      <td>3</td>\n",
       "      <td>3</td>\n",
       "      <td>12</td>\n",
       "      <td>21.0</td>\n",
       "      <td>154.0</td>\n",
       "      <td>5</td>\n",
       "      <td>3</td>\n",
       "      <td>0.600</td>\n",
       "    </tr>\n",
       "    <tr>\n",
       "      <th>3</th>\n",
       "      <td>2254736</td>\n",
       "      <td>1</td>\n",
       "      <td>prior</td>\n",
       "      <td>4</td>\n",
       "      <td>4</td>\n",
       "      <td>7</td>\n",
       "      <td>29.0</td>\n",
       "      <td>125.0</td>\n",
       "      <td>5</td>\n",
       "      <td>5</td>\n",
       "      <td>1.000</td>\n",
       "    </tr>\n",
       "    <tr>\n",
       "      <th>4</th>\n",
       "      <td>431534</td>\n",
       "      <td>1</td>\n",
       "      <td>prior</td>\n",
       "      <td>5</td>\n",
       "      <td>4</td>\n",
       "      <td>15</td>\n",
       "      <td>28.0</td>\n",
       "      <td>97.0</td>\n",
       "      <td>8</td>\n",
       "      <td>5</td>\n",
       "      <td>0.625</td>\n",
       "    </tr>\n",
       "  </tbody>\n",
       "</table>\n",
       "</div>"
      ],
      "text/plain": [
       "   order_id  user_id eval_set  order_number  order_dow  order_hour_of_day  \\\n",
       "0   2539329        1    prior             1          2                  8   \n",
       "1   2398795        1    prior             2          3                  7   \n",
       "2    473747        1    prior             3          3                 12   \n",
       "3   2254736        1    prior             4          4                  7   \n",
       "4    431534        1    prior             5          4                 15   \n",
       "\n",
       "   days_since_prior_order  days_up_to_last  pnum  reorder_pnum  reorder_rate  \n",
       "0                     0.0            190.0     5             0         0.000  \n",
       "1                    15.0            175.0     6             3         0.500  \n",
       "2                    21.0            154.0     5             3         0.600  \n",
       "3                    29.0            125.0     5             5         1.000  \n",
       "4                    28.0             97.0     8             5         0.625  "
      ]
     },
     "execution_count": 32,
     "metadata": {},
     "output_type": "execute_result"
    }
   ],
   "source": [
    "prior_orders.head(5)"
   ]
  },
  {
   "cell_type": "code",
   "execution_count": 33,
   "metadata": {
    "collapsed": true
   },
   "outputs": [],
   "source": [
    "user_reorder_est = prior_orders.groupby(['user_id'])['reorder_pnum']\\\n",
    "                               .aggregate({'reorder_pnum_mean':'mean', \n",
    "                                           'reorder_pnum_std':'std'}).reset_index()"
   ]
  },
  {
   "cell_type": "code",
   "execution_count": 34,
   "metadata": {
    "collapsed": true
   },
   "outputs": [],
   "source": [
    "user_reorder_est = user_reorder_est[['user_id', 'reorder_pnum_mean', 'reorder_pnum_std']]"
   ]
  },
  {
   "cell_type": "code",
   "execution_count": 35,
   "metadata": {
    "collapsed": true
   },
   "outputs": [],
   "source": [
    "with open(constants.FEAT_DATA_DIR + 'user_reorder_est.pkl', 'wb') as f:\n",
    "    pickle.dump(user_reorder_est, f, pickle.HIGHEST_PROTOCOL)"
   ]
  },
  {
   "cell_type": "code",
   "execution_count": 3,
   "metadata": {
    "collapsed": true
   },
   "outputs": [],
   "source": [
    "with open(constants.FEAT_DATA_DIR + 'user_reorder_est.pkl', 'rb') as f:\n",
    "    user_reorder_est = pickle.load(f)"
   ]
  },
  {
   "cell_type": "code",
   "execution_count": 10,
   "metadata": {},
   "outputs": [
    {
     "data": {
      "text/plain": [
       "count    206209.000000\n",
       "mean          3.018932\n",
       "std           2.104826\n",
       "min           0.000000\n",
       "25%           1.511858\n",
       "50%           2.563480\n",
       "75%           4.029652\n",
       "max          31.210495\n",
       "Name: reorder_pnum_std, dtype: float64"
      ]
     },
     "execution_count": 10,
     "metadata": {},
     "output_type": "execute_result"
    }
   ],
   "source": [
    "user_reorder_est.reorder_pnum_std.describe()"
   ]
  },
  {
   "cell_type": "markdown",
   "metadata": {},
   "source": [
    "## 5 Products User Bought Previously"
   ]
  },
  {
   "cell_type": "code",
   "execution_count": null,
   "metadata": {},
   "outputs": [],
   "source": [
    "users_products = pd.merge(prior_orders, order_products_prior, on = ['order_id'], how = 'left')"
   ]
  },
  {
   "cell_type": "code",
   "execution_count": 20,
   "metadata": {
    "collapsed": true
   },
   "outputs": [],
   "source": [
    "users_products = users_products.groupby(['user_id'])['product_id'].apply(list).reset_index()"
   ]
  },
  {
   "cell_type": "code",
   "execution_count": 22,
   "metadata": {
    "collapsed": true,
    "scrolled": true
   },
   "outputs": [],
   "source": [
    "with open(DATA_DIR + 'user_product.pkl', 'wb') as f:\n",
    "    pickle.dump(users_products, f, pickle.HIGHEST_PROTOCOL)"
   ]
  },
  {
   "cell_type": "code",
   "execution_count": 3,
   "metadata": {
    "collapsed": true
   },
   "outputs": [],
   "source": [
    "with open(constants.FEAT_DATA_DIR + 'user_product.pkl', 'rb') as f:\n",
    "    users_products = pickle.load(f)"
   ]
  },
  {
   "cell_type": "code",
   "execution_count": 6,
   "metadata": {
    "collapsed": true
   },
   "outputs": [],
   "source": [
    "l = users_products.product_id.apply(len)"
   ]
  },
  {
   "cell_type": "code",
   "execution_count": 10,
   "metadata": {},
   "outputs": [
    {
     "data": {
      "text/plain": [
       "count    206209.000000\n",
       "mean        157.289396\n",
       "std         204.208233\n",
       "min           3.000000\n",
       "25%          39.000000\n",
       "50%          83.000000\n",
       "75%         188.000000\n",
       "max        3725.000000\n",
       "Name: product_id, dtype: float64"
      ]
     },
     "execution_count": 10,
     "metadata": {},
     "output_type": "execute_result"
    }
   ],
   "source": [
    "l.describe()"
   ]
  },
  {
   "cell_type": "markdown",
   "metadata": {},
   "source": [
    "## 6 Candidate Products\n",
    "- last purchase\n",
    "- reorder items\n",
    "- all items that has high reorder rate\n",
    "- items that are added to cart first"
   ]
  },
  {
   "cell_type": "code",
   "execution_count": 394,
   "metadata": {
    "collapsed": true
   },
   "outputs": [],
   "source": [
    "grouped = order_products_all.groupby(\"product_id\")[\"reordered\"].aggregate({'reorder_sum': sum,'reorder_total': 'count'}).reset_index()\n",
    "grouped['reorder_probability'] = grouped['reorder_sum'] / grouped['reorder_total']"
   ]
  },
  {
   "cell_type": "markdown",
   "metadata": {
    "collapsed": true
   },
   "source": [
    "## 7 Time of orders"
   ]
  },
  {
   "cell_type": "code",
   "execution_count": 13,
   "metadata": {
    "scrolled": true
   },
   "outputs": [
    {
     "name": "stderr",
     "output_type": "stream",
     "text": [
      "/usr/local/lib/python3.5/dist-packages/matplotlib/font_manager.py:1297: UserWarning: findfont: Font family ['sans-serif'] not found. Falling back to DejaVu Sans\n",
      "  (prop.get_family(), self.defaultFamily[fontext]))\n"
     ]
    },
    {
     "data": {
      "image/png": "[encoded data removed]",
      "text/plain": [
       "<matplotlib.figure.Figure at 0x7f4afc7fc080>"
      ]
     },
     "metadata": {},
     "output_type": "display_data"
    }
   ],
   "source": [
    "grouped = orders.order_hour_of_day.value_counts()\n",
    "sns.set_style('darkgrid')\n",
    "sns.barplot(grouped.index, grouped.values)\n",
    "plt.show()"
   ]
  },
  {
   "cell_type": "markdown",
   "metadata": {},
   "source": [
    "## 8 Topic Distance\n",
    "- user VS product <font color=blue>prior中的所有(u,p)对</font>\n",
    "- <font color=red>latest order VS product</font> <font color=blue>通过LDA-transform来构造</font>"
   ]
  },
  {
   "cell_type": "code",
   "execution_count": 15,
   "metadata": {
    "collapsed": true
   },
   "outputs": [],
   "source": [
    "# term-frequency matrix construct\n",
    "orders = pd.read_csv(DATA_DIR + 'orders.csv')\n",
    "\n",
    "users_orders = pd.merge(order_products_prior, orders[['user_id', 'order_id']], \n",
    "                        on = ['order_id'], how = 'left')\n",
    "\n",
    "users_products_matrix = users_orders.groupby(['user_id'])['product_id'].apply(series_to_str)\n",
    "\n",
    "tf = CountVectorizer(analyzer = 'word', lowercase = False, max_df=0.95, min_df=2,)\n",
    "tf_matrix = tf.fit_transform(users_products_matrix.values)\n",
    "tf_feature_names = tf.get_feature_names()\n",
    "\n",
    "with open(DATA_DIR + 'tf.model', 'wb') as f:\n",
    "    pickle.dump(tf, f, pickle.HIGHEST_PROTOCOL)"
   ]
  },
  {
   "cell_type": "code",
   "execution_count": 56,
   "metadata": {
    "collapsed": true
   },
   "outputs": [],
   "source": [
    "#订单的Topic, tf为CountVector，将文档转化为term-frequency矩阵\n",
    "op = order_products_prior.groupby(['order_id'])['product_id'].apply(series_to_str)\n",
    "topic_order = pd.DataFrame(lda.transform(tf.transform(op.values)), columns= [\"topic_%d\"%x for x in range(10)])\n",
    "topic_order['order_id'] = op.index.values\n",
    "with open(DATA_DIR + 'order_topic_norm.pkl', 'wb') as f:\n",
    "    pickle.dump(topic_order_norm, f, pickle.HIGHEST_PROTOCOL)"
   ]
  },
  {
   "cell_type": "code",
   "execution_count": 65,
   "metadata": {
    "collapsed": true,
    "scrolled": true
   },
   "outputs": [],
   "source": [
    "up_distance = pd.merge(users_orders[['user_id', 'product_id']].drop_duplicates(),\n",
    "                       user_topic, \n",
    "                       on = ['user_id'],\n",
    "                       how = 'left')\n",
    "up_distance.columns = ['user_id', 'product_id'] + [\"u_topic_%d\"%x for x in range(10)] \n",
    "up_distance = pd.merge(up_distance,\n",
    "                       topic_product, \n",
    "                       on = ['product_id'],\n",
    "                       how = 'left')\n",
    "up_distance.columns = ['user_id', 'product_id'] + [\"u_topic_%d\"%x for x in range(10)] + [\"p_topic_%d\"%x for x in range(10)] "
   ]
  },
  {
   "cell_type": "code",
   "execution_count": 87,
   "metadata": {
    "collapsed": true
   },
   "outputs": [],
   "source": [
    "def cal_up_distance(subf):\n",
    "    u_topic = subf[[\"u_topic_%d\"%x for x in range(10)]]\n",
    "    p_topic = subf[[\"p_topic_%d\"%x for x in range(10)]]\n",
    "    upd = euclidean(u_topic, p_topic)\n",
    "    return upd"
   ]
  },
  {
   "cell_type": "code",
   "execution_count": 92,
   "metadata": {
    "scrolled": true
   },
   "outputs": [
    {
     "name": "stdout",
     "output_type": "stream",
     "text": [
      "CPU times: user 3h 40min 56s, sys: 2min 4s, total: 3h 43min\n",
      "Wall time: 3h 49min 41s\n"
     ]
    }
   ],
   "source": [
    "# 3 hours\n",
    "up_distance['up_dis'] = up_distance.apply(cal_up_distance, axis = 1)"
   ]
  },
  {
   "cell_type": "code",
   "execution_count": 94,
   "metadata": {
    "collapsed": true
   },
   "outputs": [],
   "source": [
    "up_distance = up_distance[['user_id', 'product_id', 'up_dis']]\n",
    "with open(DATA_DIR + 'upd_feat.pkl', 'wb') as f:\n",
    "    pickle.dump(up_distance, f, pickle.HIGHEST_PROTOCOL)"
   ]
  },
  {
   "cell_type": "markdown",
   "metadata": {},
   "source": [
    "## 9 Order Topic Construct\n",
    "- <font color=red>countvector， lda transform</font>\n",
    "- 由商品的Topic构造订单的Topic表达\n",
    "- 商品加入购物车的次序？？？ 先忽视次序\n",
    "- 每个用户学习：加购物车次序 VS 重购？ VS下张订单的Topic？？"
   ]
  },
  {
   "cell_type": "code",
   "execution_count": 309,
   "metadata": {
    "collapsed": true
   },
   "outputs": [],
   "source": [
    "order_topic = pd.merge(order_products_prior[['order_id', 'product_id']],\n",
    "                       topic_product,\n",
    "                       on = ['product_id'],\n",
    "                       how = 'inner')#throw stop words"
   ]
  },
  {
   "cell_type": "code",
   "execution_count": 312,
   "metadata": {
    "collapsed": true
   },
   "outputs": [],
   "source": [
    "order_topic = order_topic.groupby(['order_id'])[[\"topic_%d\"%x for x in range(10)]].sum().reset_index()"
   ]
  },
  {
   "cell_type": "code",
   "execution_count": 314,
   "metadata": {
    "collapsed": true
   },
   "outputs": [],
   "source": [
    "unorm = order_topic[[\"topic_%d\"%x for x in range(10)]].values"
   ]
  },
  {
   "cell_type": "code",
   "execution_count": 315,
   "metadata": {
    "collapsed": true
   },
   "outputs": [],
   "source": [
    "order_topic[[\"topic_%d\"%x for x in range(10)]] = unorm / unorm.sum(axis = 1)[:,np.newaxis]"
   ]
  },
  {
   "cell_type": "code",
   "execution_count": 301,
   "metadata": {},
   "outputs": [
    {
     "data": {
      "text/plain": [
       "49677"
      ]
     },
     "execution_count": 301,
     "metadata": {},
     "output_type": "execute_result"
    }
   ],
   "source": [
    "len(order_products_prior.product_id.unique())"
   ]
  },
  {
   "cell_type": "code",
   "execution_count": 302,
   "metadata": {},
   "outputs": [
    {
     "data": {
      "text/plain": [
       "49502"
      ]
     },
     "execution_count": 302,
     "metadata": {},
     "output_type": "execute_result"
    }
   ],
   "source": [
    "len(topic_product.product_id.unique())"
   ]
  },
  {
   "cell_type": "markdown",
   "metadata": {},
   "source": [
    "## 10  XGBoost Feature Preparation\n",
    "- 正负样本10:1"
   ]
  },
  {
   "cell_type": "code",
   "execution_count": 1,
   "metadata": {
    "collapsed": true
   },
   "outputs": [],
   "source": [
    "import constants, utils, transactions, feats\n",
    "from imp import reload"
   ]
  },
  {
   "cell_type": "code",
   "execution_count": 3,
   "metadata": {
    "collapsed": true,
    "scrolled": true
   },
   "outputs": [],
   "source": [
    "tle = transactions.TransLogExtractor(constants.RAW_DATA_DIR, constants.FEAT_DATA_DIR)"
   ]
  },
  {
   "cell_type": "code",
   "execution_count": 33,
   "metadata": {},
   "outputs": [
    {
     "name": "stdout",
     "output_type": "stream",
     "text": [
      "13307953\n"
     ]
    }
   ],
   "source": [
    "train_none = feats.make_train_or_test_none(tle, 'train')"
   ]
  },
  {
   "cell_type": "code",
   "execution_count": 34,
   "metadata": {},
   "outputs": [
    {
     "name": "stdout",
     "output_type": "stream",
     "text": [
      "13307953\n"
     ]
    }
   ],
   "source": [
    "test_none = feats.make_train_or_test_none(tle, 'test')"
   ]
  },
  {
   "cell_type": "code",
   "execution_count": 4,
   "metadata": {
    "scrolled": false
   },
   "outputs": [
    {
     "name": "stdout",
     "output_type": "stream",
     "text": [
      "13307953\n"
     ]
    }
   ],
   "source": [
    "train = feats.make_train_or_test(tle, 'train')"
   ]
  },
  {
   "cell_type": "code",
   "execution_count": null,
   "metadata": {
    "scrolled": true
   },
   "outputs": [],
   "source": [
    "utils.check_inf_nan(train[up_cols])"
   ]
  },
  {
   "cell_type": "code",
   "execution_count": null,
   "metadata": {
    "collapsed": true
   },
   "outputs": [],
   "source": [
    "utils.check_inf_nan(train[ua_cols])"
   ]
  },
  {
   "cell_type": "code",
   "execution_count": null,
   "metadata": {
    "collapsed": true
   },
   "outputs": [],
   "source": [
    "utils.check_inf_nan(train[ud_cols])"
   ]
  },
  {
   "cell_type": "code",
   "execution_count": 7,
   "metadata": {},
   "outputs": [
    {
     "name": "stdout",
     "output_type": "stream",
     "text": [
      "Checking inf ...\n",
      "Series([], dtype: float64)\n",
      "Checking NAN ...\n",
      "Index([], dtype='object')\n"
     ]
    },
    {
     "data": {
      "text/plain": [
       "True"
      ]
     },
     "execution_count": 7,
     "metadata": {},
     "output_type": "execute_result"
    }
   ],
   "source": [
    "utils.check_inf_nan(train[p_cols])"
   ]
  },
  {
   "cell_type": "code",
   "execution_count": null,
   "metadata": {
    "collapsed": true
   },
   "outputs": [],
   "source": [
    "utils.check_inf_nan(train[a_cols])"
   ]
  },
  {
   "cell_type": "code",
   "execution_count": null,
   "metadata": {
    "collapsed": true
   },
   "outputs": [],
   "source": [
    "utils.check_inf_nan(train[d_cols])"
   ]
  },
  {
   "cell_type": "code",
   "execution_count": null,
   "metadata": {
    "collapsed": true
   },
   "outputs": [],
   "source": [
    "utils.check_inf_nan(train[ctx_cols])"
   ]
  },
  {
   "cell_type": "code",
   "execution_count": null,
   "metadata": {
    "collapsed": true,
    "scrolled": true
   },
   "outputs": [],
   "source": [
    "utils.check_inf_nan(train[topic_cols])"
   ]
  },
  {
   "cell_type": "markdown",
   "metadata": {},
   "source": [
    "## 11 LSTM Feature Preparation"
   ]
  },
  {
   "cell_type": "markdown",
   "metadata": {},
   "source": [
    "- (u,p,t)\n",
    "- 间隔、加购物车次序作为Symbol\n",
    "   \n",
    "   - 次序\n",
    "        - 1\n",
    "        - 2\n",
    "        - 3\n",
    "        - 4-6\n",
    "        - 7-11\n",
    "        - 12 ——\n",
    "        \n",
    "   - 间隔\n",
    "        - 1 - 7\n",
    "        - 8 - 16\n",
    "        - 17 - 33\n",
    "        - 34\n",
    "        - 100 NAN\n",
    "        \n",
    "- 实现\n",
    "     - Encoder两个列, 总共30种符号\n",
    "     - Cartesian查表\n",
    "     - 直接数值"
   ]
  },
  {
   "cell_type": "code",
   "execution_count": 4,
   "metadata": {
    "collapsed": true
   },
   "outputs": [],
   "source": [
    "users_orders = tle.get_users_orders('prior')"
   ]
  },
  {
   "cell_type": "code",
   "execution_count": null,
   "metadata": {
    "collapsed": true,
    "scrolled": true
   },
   "outputs": [],
   "source": [
    "product_feat = tle.craft_feat_item('products')"
   ]
  },
  {
   "cell_type": "code",
   "execution_count": 255,
   "metadata": {
    "collapsed": true
   },
   "outputs": [],
   "source": [
    "user_feat = tle.craft_feat_user()"
   ]
  },
  {
   "cell_type": "code",
   "execution_count": 256,
   "metadata": {
    "collapsed": true
   },
   "outputs": [],
   "source": [
    "users_orders = pd.merge(users_orders, product_feat[['product_id', 'p_reorder_probability']], on=['product_id'], how='left')"
   ]
  },
  {
   "cell_type": "code",
   "execution_count": 257,
   "metadata": {
    "collapsed": true
   },
   "outputs": [],
   "source": [
    "users_orders = pd.merge(users_orders, user_feat[['user_id', 'u_total_reorders']], on=['user_id'], how='left')"
   ]
  },
  {
   "cell_type": "code",
   "execution_count": 258,
   "metadata": {
    "collapsed": true
   },
   "outputs": [],
   "source": [
    "def encode_numeric(row, bins):\n",
    "    '''\n",
    "    convert numeric variable into binned category\n",
    "    bins = [b1, b2, b3, b4]\n",
    "    '''\n",
    "    index = ~(row < bins)\n",
    "    return [bins[index][-1]]"
   ]
  },
  {
   "cell_type": "code",
   "execution_count": 321,
   "metadata": {
    "collapsed": true
   },
   "outputs": [],
   "source": [
    "add2cart_bins = np.array([1, 2, 3, 4, 7, 12], dtype=float) # 6\n",
    "interval_bins = np.array([-1, 4, 8, 17, 34], dtype=float)# 5\n",
    "p_reorder_bins = np.array([0.0, 0.20, 0.38, 0.53], dtype=float)# 4\n",
    "u_reorder_bins = np.array([0, 10, 33, 101], dtype=float)# 4"
   ]
  },
  {
   "cell_type": "code",
   "execution_count": null,
   "metadata": {
    "collapsed": true,
    "scrolled": false
   },
   "outputs": [],
   "source": [
    "%%time\n",
    "users_orders = users_orders.sort_values(['user_id', 'product_id', 'order_number'], ascending = False)\n",
    "users_orders['up_interval'] = users_orders.groupby(['user_id', 'product_id'])['days_up_to_last'].diff()\n",
    "users_orders.up_interval.fillna(-1, inplace=True)\n",
    "users_orders['up_interval_sym'] = users_orders.up_interval.apply(lambda x: encode_numeric(x, interval_bins))\n",
    "users_orders['up_add2cart_order_sym'] = users_orders.add_to_cart_order.apply(lambda x: encode_numeric(x, add2cart_bins))"
   ]
  },
  {
   "cell_type": "code",
   "execution_count": 265,
   "metadata": {
    "collapsed": true
   },
   "outputs": [],
   "source": [
    "users_orders['p_reorder_prob_sym'] = users_orders.p_reorder_probability.apply(lambda x: encode_numeric(x, p_reorder_bins))\n",
    "users_orders['u_reorder_sym'] = users_orders.u_total_reorders.apply(lambda x:encode_numeric(x, u_reorder_bins))"
   ]
  },
  {
   "cell_type": "code",
   "execution_count": 322,
   "metadata": {
    "collapsed": true
   },
   "outputs": [],
   "source": [
    "feat_card = [add2cart_bins, interval_bins, p_reorder_bins, u_reorder_bins]"
   ]
  },
  {
   "cell_type": "code",
   "execution_count": 323,
   "metadata": {
    "collapsed": true
   },
   "outputs": [],
   "source": [
    "feat_cartesian = cartesian(feat_card)"
   ]
  },
  {
   "cell_type": "code",
   "execution_count": 327,
   "metadata": {
    "collapsed": true
   },
   "outputs": [],
   "source": [
    "users_orders['up_card'] = users_orders.up_add2cart_order_sym + users_orders.up_interval_sym + users_orders.p_reorder_prob_sym + users_orders.u_reorder_sym"
   ]
  },
  {
   "cell_type": "code",
   "execution_count": 337,
   "metadata": {
    "collapsed": true
   },
   "outputs": [],
   "source": [
    "def encode_cartesian(row, feat_cartesian):\n",
    "    '''\n",
    "        lookup table\n",
    "        turn a group of categorical variable into a symbol\n",
    "    '''\n",
    "    sym = np.where(np.all(row == feat_cartesian,axis=1))[0][0] + 1\n",
    "    return sym"
   ]
  },
  {
   "cell_type": "code",
   "execution_count": 340,
   "metadata": {
    "scrolled": true
   },
   "outputs": [
    {
     "name": "stdout",
     "output_type": "stream",
     "text": [
      "CPU times: user 5min 54s, sys: 6.16 s, total: 6min\n",
      "Wall time: 5min 59s\n"
     ]
    }
   ],
   "source": [
    "%%time\n",
    "users_orders['up_airr_sym'] = users_orders.up_card.apply(lambda x: encode_cartesian(x, feat_cartesian))"
   ]
  },
  {
   "cell_type": "code",
   "execution_count": 352,
   "metadata": {
    "collapsed": true
   },
   "outputs": [],
   "source": [
    "up_airr_sym = users_orders[['user_id', 'product_id', 'order_number', 'up_airr_sym']]"
   ]
  },
  {
   "cell_type": "code",
   "execution_count": 354,
   "metadata": {},
   "outputs": [
    {
     "name": "stderr",
     "output_type": "stream",
     "text": [
      "/usr/local/lib/python3.5/dist-packages/ipykernel_launcher.py:1: SettingWithCopyWarning: \n",
      "A value is trying to be set on a copy of a slice from a DataFrame\n",
      "\n",
      "See the caveats in the documentation: http://pandas.pydata.org/pandas-docs/stable/indexing.html#indexing-view-versus-copy\n",
      "  \"\"\"Entry point for launching an IPython kernel.\n"
     ]
    }
   ],
   "source": [
    "up_airr_sym.sort_values(['user_id', 'product_id', 'order_number'], inplace=True)"
   ]
  },
  {
   "cell_type": "code",
   "execution_count": 356,
   "metadata": {
    "collapsed": true
   },
   "outputs": [],
   "source": [
    "up_airr_sym_list = up_airr_sym.groupby(['user_id', 'product_id'])['up_airr_sym'].apply(list).reset_index()"
   ]
  },
  {
   "cell_type": "code",
   "execution_count": 358,
   "metadata": {
    "collapsed": true
   },
   "outputs": [],
   "source": [
    "with open(constants.FEAT_DATA_DIR + 'up_airr_sym.pkl', 'wb') as f:\n",
    "    pickle.dump(up_airr_sym_list, f, pickle.HIGHEST_PROTOCOL)"
   ]
  },
  {
   "cell_type": "markdown",
   "metadata": {},
   "source": [
    "## <font color=red> (u,p)对时间间隔预测</font>\n",
    "\n",
    "Time Series Forcasting 问题\n",
    "\n",
    "- 方案1：用之前的Timestep对当前值进行回归预测\n",
    "- 方案2：<font color=red>LSTM</font> 仅仅包含购买间隔信息\n",
    "    - 样本（sample）:(u,p,oid)\n",
    "    - 特征（feature）:两次购买之间的间隔\n",
    "   \n",
    "- 预处理\n",
    "    - 只出现一次的(u,p)无法计算间隔，NAN 丢弃\n",
    "    - p_purchase_interval:距离下次购买的时间\n",
    "    - 间隔为0的删除，同一天内购买两次视为一次\n",
    "    - 为了training,间隔序列的长度 >=2 即(u,p)在prior里至少出现3次"
   ]
  },
  {
   "cell_type": "code",
   "execution_count": 3,
   "metadata": {
    "collapsed": true
   },
   "outputs": [],
   "source": [
    "users_orders = tle.get_users_orders(prior_or_train='prior')"
   ]
  },
  {
   "cell_type": "code",
   "execution_count": 4,
   "metadata": {
    "collapsed": true
   },
   "outputs": [],
   "source": [
    "a = users_orders[['user_id', 'order_number', 'product_id', 'days_up_to_last', 'p_purchase_interval']].sort_values(['user_id', 'order_number', 'p_purchase_interval'])"
   ]
  },
  {
   "cell_type": "code",
   "execution_count": 5,
   "metadata": {
    "collapsed": true
   },
   "outputs": [],
   "source": [
    "del users_orders"
   ]
  },
  {
   "cell_type": "code",
   "execution_count": 10,
   "metadata": {
    "collapsed": true
   },
   "outputs": [],
   "source": [
    "a.sort_values(['user_id', 'product_id', 'order_number'], ascending=False, inplace=True)"
   ]
  },
  {
   "cell_type": "code",
   "execution_count": 11,
   "metadata": {},
   "outputs": [
    {
     "name": "stdout",
     "output_type": "stream",
     "text": [
      "CPU times: user 704 ms, sys: 136 ms, total: 840 ms\n",
      "Wall time: 839 ms\n"
     ]
    }
   ],
   "source": [
    "%%time\n",
    "a['up_interval'] = a.head(1000).groupby(['user_id', 'product_id'])['days_up_to_last'].diff()"
   ]
  },
  {
   "cell_type": "code",
   "execution_count": 13,
   "metadata": {},
   "outputs": [
    {
     "data": {
      "text/html": [
       "<div>\n",
       "<table border=\"1\" class=\"dataframe\">\n",
       "  <thead>\n",
       "    <tr style=\"text-align: right;\">\n",
       "      <th></th>\n",
       "      <th>user_id</th>\n",
       "      <th>order_number</th>\n",
       "      <th>product_id</th>\n",
       "      <th>days_up_to_last</th>\n",
       "      <th>p_purchase_interval</th>\n",
       "      <th>up_interval</th>\n",
       "    </tr>\n",
       "  </thead>\n",
       "  <tbody>\n",
       "    <tr>\n",
       "      <th>24181266</th>\n",
       "      <td>1</td>\n",
       "      <td>10</td>\n",
       "      <td>196</td>\n",
       "      <td>14.0</td>\n",
       "      <td>-1.0</td>\n",
       "      <td>NaN</td>\n",
       "    </tr>\n",
       "    <tr>\n",
       "      <th>21760446</th>\n",
       "      <td>1</td>\n",
       "      <td>9</td>\n",
       "      <td>196</td>\n",
       "      <td>44.0</td>\n",
       "      <td>30.0</td>\n",
       "      <td>NaN</td>\n",
       "    </tr>\n",
       "    <tr>\n",
       "      <th>29474806</th>\n",
       "      <td>1</td>\n",
       "      <td>8</td>\n",
       "      <td>196</td>\n",
       "      <td>44.0</td>\n",
       "      <td>0.0</td>\n",
       "      <td>NaN</td>\n",
       "    </tr>\n",
       "    <tr>\n",
       "      <th>5212927</th>\n",
       "      <td>1</td>\n",
       "      <td>7</td>\n",
       "      <td>196</td>\n",
       "      <td>58.0</td>\n",
       "      <td>14.0</td>\n",
       "      <td>NaN</td>\n",
       "    </tr>\n",
       "    <tr>\n",
       "      <th>31927070</th>\n",
       "      <td>1</td>\n",
       "      <td>6</td>\n",
       "      <td>196</td>\n",
       "      <td>78.0</td>\n",
       "      <td>20.0</td>\n",
       "      <td>NaN</td>\n",
       "    </tr>\n",
       "    <tr>\n",
       "      <th>4089398</th>\n",
       "      <td>1</td>\n",
       "      <td>5</td>\n",
       "      <td>196</td>\n",
       "      <td>97.0</td>\n",
       "      <td>19.0</td>\n",
       "      <td>NaN</td>\n",
       "    </tr>\n",
       "    <tr>\n",
       "      <th>21376074</th>\n",
       "      <td>1</td>\n",
       "      <td>4</td>\n",
       "      <td>196</td>\n",
       "      <td>125.0</td>\n",
       "      <td>28.0</td>\n",
       "      <td>NaN</td>\n",
       "    </tr>\n",
       "    <tr>\n",
       "      <th>4488095</th>\n",
       "      <td>1</td>\n",
       "      <td>3</td>\n",
       "      <td>196</td>\n",
       "      <td>154.0</td>\n",
       "      <td>29.0</td>\n",
       "      <td>NaN</td>\n",
       "    </tr>\n",
       "    <tr>\n",
       "      <th>22742744</th>\n",
       "      <td>1</td>\n",
       "      <td>2</td>\n",
       "      <td>196</td>\n",
       "      <td>175.0</td>\n",
       "      <td>21.0</td>\n",
       "      <td>NaN</td>\n",
       "    </tr>\n",
       "    <tr>\n",
       "      <th>24076664</th>\n",
       "      <td>1</td>\n",
       "      <td>1</td>\n",
       "      <td>196</td>\n",
       "      <td>190.0</td>\n",
       "      <td>15.0</td>\n",
       "      <td>NaN</td>\n",
       "    </tr>\n",
       "    <tr>\n",
       "      <th>24181271</th>\n",
       "      <td>1</td>\n",
       "      <td>10</td>\n",
       "      <td>10258</td>\n",
       "      <td>14.0</td>\n",
       "      <td>-1.0</td>\n",
       "      <td>NaN</td>\n",
       "    </tr>\n",
       "    <tr>\n",
       "      <th>21760447</th>\n",
       "      <td>1</td>\n",
       "      <td>9</td>\n",
       "      <td>10258</td>\n",
       "      <td>44.0</td>\n",
       "      <td>30.0</td>\n",
       "      <td>NaN</td>\n",
       "    </tr>\n",
       "    <tr>\n",
       "      <th>29474807</th>\n",
       "      <td>1</td>\n",
       "      <td>8</td>\n",
       "      <td>10258</td>\n",
       "      <td>44.0</td>\n",
       "      <td>0.0</td>\n",
       "      <td>NaN</td>\n",
       "    </tr>\n",
       "    <tr>\n",
       "      <th>5212928</th>\n",
       "      <td>1</td>\n",
       "      <td>7</td>\n",
       "      <td>10258</td>\n",
       "      <td>58.0</td>\n",
       "      <td>14.0</td>\n",
       "      <td>NaN</td>\n",
       "    </tr>\n",
       "    <tr>\n",
       "      <th>31927072</th>\n",
       "      <td>1</td>\n",
       "      <td>6</td>\n",
       "      <td>10258</td>\n",
       "      <td>78.0</td>\n",
       "      <td>20.0</td>\n",
       "      <td>NaN</td>\n",
       "    </tr>\n",
       "    <tr>\n",
       "      <th>4089400</th>\n",
       "      <td>1</td>\n",
       "      <td>5</td>\n",
       "      <td>10258</td>\n",
       "      <td>97.0</td>\n",
       "      <td>19.0</td>\n",
       "      <td>NaN</td>\n",
       "    </tr>\n",
       "    <tr>\n",
       "      <th>21376076</th>\n",
       "      <td>1</td>\n",
       "      <td>4</td>\n",
       "      <td>10258</td>\n",
       "      <td>125.0</td>\n",
       "      <td>28.0</td>\n",
       "      <td>NaN</td>\n",
       "    </tr>\n",
       "    <tr>\n",
       "      <th>4488097</th>\n",
       "      <td>1</td>\n",
       "      <td>3</td>\n",
       "      <td>10258</td>\n",
       "      <td>154.0</td>\n",
       "      <td>29.0</td>\n",
       "      <td>NaN</td>\n",
       "    </tr>\n",
       "    <tr>\n",
       "      <th>22742745</th>\n",
       "      <td>1</td>\n",
       "      <td>2</td>\n",
       "      <td>10258</td>\n",
       "      <td>175.0</td>\n",
       "      <td>21.0</td>\n",
       "      <td>NaN</td>\n",
       "    </tr>\n",
       "    <tr>\n",
       "      <th>4089402</th>\n",
       "      <td>1</td>\n",
       "      <td>5</td>\n",
       "      <td>10326</td>\n",
       "      <td>97.0</td>\n",
       "      <td>-1.0</td>\n",
       "      <td>NaN</td>\n",
       "    </tr>\n",
       "    <tr>\n",
       "      <th>24181274</th>\n",
       "      <td>1</td>\n",
       "      <td>10</td>\n",
       "      <td>12427</td>\n",
       "      <td>14.0</td>\n",
       "      <td>-1.0</td>\n",
       "      <td>NaN</td>\n",
       "    </tr>\n",
       "    <tr>\n",
       "      <th>21760448</th>\n",
       "      <td>1</td>\n",
       "      <td>9</td>\n",
       "      <td>12427</td>\n",
       "      <td>44.0</td>\n",
       "      <td>30.0</td>\n",
       "      <td>NaN</td>\n",
       "    </tr>\n",
       "    <tr>\n",
       "      <th>29474805</th>\n",
       "      <td>1</td>\n",
       "      <td>8</td>\n",
       "      <td>12427</td>\n",
       "      <td>44.0</td>\n",
       "      <td>0.0</td>\n",
       "      <td>NaN</td>\n",
       "    </tr>\n",
       "    <tr>\n",
       "      <th>5212929</th>\n",
       "      <td>1</td>\n",
       "      <td>7</td>\n",
       "      <td>12427</td>\n",
       "      <td>58.0</td>\n",
       "      <td>14.0</td>\n",
       "      <td>NaN</td>\n",
       "    </tr>\n",
       "    <tr>\n",
       "      <th>31927071</th>\n",
       "      <td>1</td>\n",
       "      <td>6</td>\n",
       "      <td>12427</td>\n",
       "      <td>78.0</td>\n",
       "      <td>20.0</td>\n",
       "      <td>NaN</td>\n",
       "    </tr>\n",
       "    <tr>\n",
       "      <th>4089399</th>\n",
       "      <td>1</td>\n",
       "      <td>5</td>\n",
       "      <td>12427</td>\n",
       "      <td>97.0</td>\n",
       "      <td>19.0</td>\n",
       "      <td>NaN</td>\n",
       "    </tr>\n",
       "    <tr>\n",
       "      <th>21376075</th>\n",
       "      <td>1</td>\n",
       "      <td>4</td>\n",
       "      <td>12427</td>\n",
       "      <td>125.0</td>\n",
       "      <td>28.0</td>\n",
       "      <td>NaN</td>\n",
       "    </tr>\n",
       "    <tr>\n",
       "      <th>4488096</th>\n",
       "      <td>1</td>\n",
       "      <td>3</td>\n",
       "      <td>12427</td>\n",
       "      <td>154.0</td>\n",
       "      <td>29.0</td>\n",
       "      <td>NaN</td>\n",
       "    </tr>\n",
       "    <tr>\n",
       "      <th>22742746</th>\n",
       "      <td>1</td>\n",
       "      <td>2</td>\n",
       "      <td>12427</td>\n",
       "      <td>175.0</td>\n",
       "      <td>21.0</td>\n",
       "      <td>NaN</td>\n",
       "    </tr>\n",
       "    <tr>\n",
       "      <th>24076666</th>\n",
       "      <td>1</td>\n",
       "      <td>1</td>\n",
       "      <td>12427</td>\n",
       "      <td>190.0</td>\n",
       "      <td>15.0</td>\n",
       "      <td>NaN</td>\n",
       "    </tr>\n",
       "    <tr>\n",
       "      <th>...</th>\n",
       "      <td>...</td>\n",
       "      <td>...</td>\n",
       "      <td>...</td>\n",
       "      <td>...</td>\n",
       "      <td>...</td>\n",
       "      <td>...</td>\n",
       "    </tr>\n",
       "    <tr>\n",
       "      <th>5934984</th>\n",
       "      <td>206209</td>\n",
       "      <td>12</td>\n",
       "      <td>38167</td>\n",
       "      <td>37.0</td>\n",
       "      <td>-1.0</td>\n",
       "      <td>NaN</td>\n",
       "    </tr>\n",
       "    <tr>\n",
       "      <th>24260103</th>\n",
       "      <td>206209</td>\n",
       "      <td>9</td>\n",
       "      <td>38167</td>\n",
       "      <td>114.0</td>\n",
       "      <td>77.0</td>\n",
       "      <td>77.0</td>\n",
       "    </tr>\n",
       "    <tr>\n",
       "      <th>20186696</th>\n",
       "      <td>206209</td>\n",
       "      <td>8</td>\n",
       "      <td>38167</td>\n",
       "      <td>136.0</td>\n",
       "      <td>22.0</td>\n",
       "      <td>22.0</td>\n",
       "    </tr>\n",
       "    <tr>\n",
       "      <th>14617226</th>\n",
       "      <td>206209</td>\n",
       "      <td>3</td>\n",
       "      <td>38167</td>\n",
       "      <td>203.0</td>\n",
       "      <td>67.0</td>\n",
       "      <td>67.0</td>\n",
       "    </tr>\n",
       "    <tr>\n",
       "      <th>28236066</th>\n",
       "      <td>206209</td>\n",
       "      <td>13</td>\n",
       "      <td>38730</td>\n",
       "      <td>30.0</td>\n",
       "      <td>-1.0</td>\n",
       "      <td>NaN</td>\n",
       "    </tr>\n",
       "    <tr>\n",
       "      <th>28236064</th>\n",
       "      <td>206209</td>\n",
       "      <td>13</td>\n",
       "      <td>39216</td>\n",
       "      <td>30.0</td>\n",
       "      <td>-1.0</td>\n",
       "      <td>NaN</td>\n",
       "    </tr>\n",
       "    <tr>\n",
       "      <th>17584595</th>\n",
       "      <td>206209</td>\n",
       "      <td>11</td>\n",
       "      <td>40310</td>\n",
       "      <td>55.0</td>\n",
       "      <td>-1.0</td>\n",
       "      <td>NaN</td>\n",
       "    </tr>\n",
       "    <tr>\n",
       "      <th>14617216</th>\n",
       "      <td>206209</td>\n",
       "      <td>3</td>\n",
       "      <td>40396</td>\n",
       "      <td>203.0</td>\n",
       "      <td>-1.0</td>\n",
       "      <td>NaN</td>\n",
       "    </tr>\n",
       "    <tr>\n",
       "      <th>29908312</th>\n",
       "      <td>206209</td>\n",
       "      <td>1</td>\n",
       "      <td>40396</td>\n",
       "      <td>240.0</td>\n",
       "      <td>37.0</td>\n",
       "      <td>37.0</td>\n",
       "    </tr>\n",
       "    <tr>\n",
       "      <th>14617215</th>\n",
       "      <td>206209</td>\n",
       "      <td>3</td>\n",
       "      <td>40534</td>\n",
       "      <td>203.0</td>\n",
       "      <td>-1.0</td>\n",
       "      <td>NaN</td>\n",
       "    </tr>\n",
       "    <tr>\n",
       "      <th>29908314</th>\n",
       "      <td>206209</td>\n",
       "      <td>1</td>\n",
       "      <td>40534</td>\n",
       "      <td>240.0</td>\n",
       "      <td>37.0</td>\n",
       "      <td>37.0</td>\n",
       "    </tr>\n",
       "    <tr>\n",
       "      <th>20186704</th>\n",
       "      <td>206209</td>\n",
       "      <td>8</td>\n",
       "      <td>40992</td>\n",
       "      <td>136.0</td>\n",
       "      <td>-1.0</td>\n",
       "      <td>NaN</td>\n",
       "    </tr>\n",
       "    <tr>\n",
       "      <th>5219651</th>\n",
       "      <td>206209</td>\n",
       "      <td>7</td>\n",
       "      <td>40992</td>\n",
       "      <td>158.0</td>\n",
       "      <td>22.0</td>\n",
       "      <td>22.0</td>\n",
       "    </tr>\n",
       "    <tr>\n",
       "      <th>6521430</th>\n",
       "      <td>206209</td>\n",
       "      <td>4</td>\n",
       "      <td>40992</td>\n",
       "      <td>173.0</td>\n",
       "      <td>15.0</td>\n",
       "      <td>15.0</td>\n",
       "    </tr>\n",
       "    <tr>\n",
       "      <th>5934982</th>\n",
       "      <td>206209</td>\n",
       "      <td>12</td>\n",
       "      <td>41213</td>\n",
       "      <td>37.0</td>\n",
       "      <td>-1.0</td>\n",
       "      <td>NaN</td>\n",
       "    </tr>\n",
       "    <tr>\n",
       "      <th>17584591</th>\n",
       "      <td>206209</td>\n",
       "      <td>11</td>\n",
       "      <td>41213</td>\n",
       "      <td>55.0</td>\n",
       "      <td>18.0</td>\n",
       "      <td>18.0</td>\n",
       "    </tr>\n",
       "    <tr>\n",
       "      <th>21489865</th>\n",
       "      <td>206209</td>\n",
       "      <td>10</td>\n",
       "      <td>41213</td>\n",
       "      <td>85.0</td>\n",
       "      <td>30.0</td>\n",
       "      <td>30.0</td>\n",
       "    </tr>\n",
       "    <tr>\n",
       "      <th>6521424</th>\n",
       "      <td>206209</td>\n",
       "      <td>4</td>\n",
       "      <td>41213</td>\n",
       "      <td>173.0</td>\n",
       "      <td>88.0</td>\n",
       "      <td>88.0</td>\n",
       "    </tr>\n",
       "    <tr>\n",
       "      <th>14617213</th>\n",
       "      <td>206209</td>\n",
       "      <td>3</td>\n",
       "      <td>41213</td>\n",
       "      <td>203.0</td>\n",
       "      <td>30.0</td>\n",
       "      <td>30.0</td>\n",
       "    </tr>\n",
       "    <tr>\n",
       "      <th>17910756</th>\n",
       "      <td>206209</td>\n",
       "      <td>2</td>\n",
       "      <td>41213</td>\n",
       "      <td>233.0</td>\n",
       "      <td>30.0</td>\n",
       "      <td>30.0</td>\n",
       "    </tr>\n",
       "    <tr>\n",
       "      <th>29908311</th>\n",
       "      <td>206209</td>\n",
       "      <td>1</td>\n",
       "      <td>41213</td>\n",
       "      <td>240.0</td>\n",
       "      <td>7.0</td>\n",
       "      <td>7.0</td>\n",
       "    </tr>\n",
       "    <tr>\n",
       "      <th>6521428</th>\n",
       "      <td>206209</td>\n",
       "      <td>4</td>\n",
       "      <td>41665</td>\n",
       "      <td>173.0</td>\n",
       "      <td>-1.0</td>\n",
       "      <td>NaN</td>\n",
       "    </tr>\n",
       "    <tr>\n",
       "      <th>5934987</th>\n",
       "      <td>206209</td>\n",
       "      <td>12</td>\n",
       "      <td>43961</td>\n",
       "      <td>37.0</td>\n",
       "      <td>-1.0</td>\n",
       "      <td>NaN</td>\n",
       "    </tr>\n",
       "    <tr>\n",
       "      <th>20186697</th>\n",
       "      <td>206209</td>\n",
       "      <td>8</td>\n",
       "      <td>43961</td>\n",
       "      <td>136.0</td>\n",
       "      <td>99.0</td>\n",
       "      <td>99.0</td>\n",
       "    </tr>\n",
       "    <tr>\n",
       "      <th>6521435</th>\n",
       "      <td>206209</td>\n",
       "      <td>4</td>\n",
       "      <td>43961</td>\n",
       "      <td>173.0</td>\n",
       "      <td>37.0</td>\n",
       "      <td>37.0</td>\n",
       "    </tr>\n",
       "    <tr>\n",
       "      <th>5219655</th>\n",
       "      <td>206209</td>\n",
       "      <td>7</td>\n",
       "      <td>44325</td>\n",
       "      <td>158.0</td>\n",
       "      <td>-1.0</td>\n",
       "      <td>NaN</td>\n",
       "    </tr>\n",
       "    <tr>\n",
       "      <th>17584596</th>\n",
       "      <td>206209</td>\n",
       "      <td>11</td>\n",
       "      <td>48370</td>\n",
       "      <td>55.0</td>\n",
       "      <td>-1.0</td>\n",
       "      <td>NaN</td>\n",
       "    </tr>\n",
       "    <tr>\n",
       "      <th>5219653</th>\n",
       "      <td>206209</td>\n",
       "      <td>7</td>\n",
       "      <td>48697</td>\n",
       "      <td>158.0</td>\n",
       "      <td>-1.0</td>\n",
       "      <td>NaN</td>\n",
       "    </tr>\n",
       "    <tr>\n",
       "      <th>5934990</th>\n",
       "      <td>206209</td>\n",
       "      <td>12</td>\n",
       "      <td>48742</td>\n",
       "      <td>37.0</td>\n",
       "      <td>-1.0</td>\n",
       "      <td>NaN</td>\n",
       "    </tr>\n",
       "    <tr>\n",
       "      <th>5219652</th>\n",
       "      <td>206209</td>\n",
       "      <td>7</td>\n",
       "      <td>48742</td>\n",
       "      <td>158.0</td>\n",
       "      <td>121.0</td>\n",
       "      <td>121.0</td>\n",
       "    </tr>\n",
       "  </tbody>\n",
       "</table>\n",
       "<p>32434489 rows × 6 columns</p>\n",
       "</div>"
      ],
      "text/plain": [
       "          user_id  order_number  product_id  days_up_to_last  \\\n",
       "24181266        1            10         196             14.0   \n",
       "21760446        1             9         196             44.0   \n",
       "29474806        1             8         196             44.0   \n",
       "5212927         1             7         196             58.0   \n",
       "31927070        1             6         196             78.0   \n",
       "4089398         1             5         196             97.0   \n",
       "21376074        1             4         196            125.0   \n",
       "4488095         1             3         196            154.0   \n",
       "22742744        1             2         196            175.0   \n",
       "24076664        1             1         196            190.0   \n",
       "24181271        1            10       10258             14.0   \n",
       "21760447        1             9       10258             44.0   \n",
       "29474807        1             8       10258             44.0   \n",
       "5212928         1             7       10258             58.0   \n",
       "31927072        1             6       10258             78.0   \n",
       "4089400         1             5       10258             97.0   \n",
       "21376076        1             4       10258            125.0   \n",
       "4488097         1             3       10258            154.0   \n",
       "22742745        1             2       10258            175.0   \n",
       "4089402         1             5       10326             97.0   \n",
       "24181274        1            10       12427             14.0   \n",
       "21760448        1             9       12427             44.0   \n",
       "29474805        1             8       12427             44.0   \n",
       "5212929         1             7       12427             58.0   \n",
       "31927071        1             6       12427             78.0   \n",
       "4089399         1             5       12427             97.0   \n",
       "21376075        1             4       12427            125.0   \n",
       "4488096         1             3       12427            154.0   \n",
       "22742746        1             2       12427            175.0   \n",
       "24076666        1             1       12427            190.0   \n",
       "...           ...           ...         ...              ...   \n",
       "5934984    206209            12       38167             37.0   \n",
       "24260103   206209             9       38167            114.0   \n",
       "20186696   206209             8       38167            136.0   \n",
       "14617226   206209             3       38167            203.0   \n",
       "28236066   206209            13       38730             30.0   \n",
       "28236064   206209            13       39216             30.0   \n",
       "17584595   206209            11       40310             55.0   \n",
       "14617216   206209             3       40396            203.0   \n",
       "29908312   206209             1       40396            240.0   \n",
       "14617215   206209             3       40534            203.0   \n",
       "29908314   206209             1       40534            240.0   \n",
       "20186704   206209             8       40992            136.0   \n",
       "5219651    206209             7       40992            158.0   \n",
       "6521430    206209             4       40992            173.0   \n",
       "5934982    206209            12       41213             37.0   \n",
       "17584591   206209            11       41213             55.0   \n",
       "21489865   206209            10       41213             85.0   \n",
       "6521424    206209             4       41213            173.0   \n",
       "14617213   206209             3       41213            203.0   \n",
       "17910756   206209             2       41213            233.0   \n",
       "29908311   206209             1       41213            240.0   \n",
       "6521428    206209             4       41665            173.0   \n",
       "5934987    206209            12       43961             37.0   \n",
       "20186697   206209             8       43961            136.0   \n",
       "6521435    206209             4       43961            173.0   \n",
       "5219655    206209             7       44325            158.0   \n",
       "17584596   206209            11       48370             55.0   \n",
       "5219653    206209             7       48697            158.0   \n",
       "5934990    206209            12       48742             37.0   \n",
       "5219652    206209             7       48742            158.0   \n",
       "\n",
       "          p_purchase_interval  up_interval  \n",
       "24181266                 -1.0          NaN  \n",
       "21760446                 30.0          NaN  \n",
       "29474806                  0.0          NaN  \n",
       "5212927                  14.0          NaN  \n",
       "31927070                 20.0          NaN  \n",
       "4089398                  19.0          NaN  \n",
       "21376074                 28.0          NaN  \n",
       "4488095                  29.0          NaN  \n",
       "22742744                 21.0          NaN  \n",
       "24076664                 15.0          NaN  \n",
       "24181271                 -1.0          NaN  \n",
       "21760447                 30.0          NaN  \n",
       "29474807                  0.0          NaN  \n",
       "5212928                  14.0          NaN  \n",
       "31927072                 20.0          NaN  \n",
       "4089400                  19.0          NaN  \n",
       "21376076                 28.0          NaN  \n",
       "4488097                  29.0          NaN  \n",
       "22742745                 21.0          NaN  \n",
       "4089402                  -1.0          NaN  \n",
       "24181274                 -1.0          NaN  \n",
       "21760448                 30.0          NaN  \n",
       "29474805                  0.0          NaN  \n",
       "5212929                  14.0          NaN  \n",
       "31927071                 20.0          NaN  \n",
       "4089399                  19.0          NaN  \n",
       "21376075                 28.0          NaN  \n",
       "4488096                  29.0          NaN  \n",
       "22742746                 21.0          NaN  \n",
       "24076666                 15.0          NaN  \n",
       "...                       ...          ...  \n",
       "5934984                  -1.0          NaN  \n",
       "24260103                 77.0         77.0  \n",
       "20186696                 22.0         22.0  \n",
       "14617226                 67.0         67.0  \n",
       "28236066                 -1.0          NaN  \n",
       "28236064                 -1.0          NaN  \n",
       "17584595                 -1.0          NaN  \n",
       "14617216                 -1.0          NaN  \n",
       "29908312                 37.0         37.0  \n",
       "14617215                 -1.0          NaN  \n",
       "29908314                 37.0         37.0  \n",
       "20186704                 -1.0          NaN  \n",
       "5219651                  22.0         22.0  \n",
       "6521430                  15.0         15.0  \n",
       "5934982                  -1.0          NaN  \n",
       "17584591                 18.0         18.0  \n",
       "21489865                 30.0         30.0  \n",
       "6521424                  88.0         88.0  \n",
       "14617213                 30.0         30.0  \n",
       "17910756                 30.0         30.0  \n",
       "29908311                  7.0          7.0  \n",
       "6521428                  -1.0          NaN  \n",
       "5934987                  -1.0          NaN  \n",
       "20186697                 99.0         99.0  \n",
       "6521435                  37.0         37.0  \n",
       "5219655                  -1.0          NaN  \n",
       "17584596                 -1.0          NaN  \n",
       "5219653                  -1.0          NaN  \n",
       "5934990                  -1.0          NaN  \n",
       "5219652                 121.0        121.0  \n",
       "\n",
       "[32434489 rows x 6 columns]"
      ]
     },
     "execution_count": 13,
     "metadata": {},
     "output_type": "execute_result"
    }
   ],
   "source": [
    "a.sort_values(['user_id', 'product_id'])"
   ]
  },
  {
   "cell_type": "code",
   "execution_count": 4,
   "metadata": {},
   "outputs": [
    {
     "name": "stdout",
     "output_type": "stream",
     "text": [
      "number of (u,p,t) tuples: 32434489\n"
     ]
    }
   ],
   "source": [
    "print(\"number of (u,p,t) tuples: %d\"%len(users_orders))"
   ]
  },
  {
   "cell_type": "code",
   "execution_count": null,
   "metadata": {
    "collapsed": true
   },
   "outputs": [],
   "source": [
    "del users_orders # free memory usage"
   ]
  },
  {
   "cell_type": "code",
   "execution_count": 12,
   "metadata": {
    "collapsed": true
   },
   "outputs": [],
   "source": [
    "users_orders_intervals = users_orders.dropna() #throw away product_id bought only once"
   ]
  },
  {
   "cell_type": "code",
   "execution_count": 16,
   "metadata": {
    "collapsed": true
   },
   "outputs": [],
   "source": [
    "users_orders_intervals = users_orders_intervals[users_orders_intervals.p_purchase_interval > 0] # throw away record buy in the same day"
   ]
  },
  {
   "cell_type": "code",
   "execution_count": 18,
   "metadata": {
    "collapsed": true
   },
   "outputs": [],
   "source": [
    "users_orders_intervals = users_orders_intervals.sort_values(['user_id', 'product_id', 'order_number'])"
   ]
  },
  {
   "cell_type": "code",
   "execution_count": 19,
   "metadata": {},
   "outputs": [
    {
     "name": "stdout",
     "output_type": "stream",
     "text": [
      "CPU times: user 3min 48s, sys: 12.5 s, total: 4min\n",
      "Wall time: 4min 1s\n"
     ]
    }
   ],
   "source": [
    "%%time\n",
    "up_interval_list = users_orders_intervals.groupby(['user_id', 'product_id'])['p_purchase_interval'].apply(list).reset_index()"
   ]
  },
  {
   "cell_type": "code",
   "execution_count": 20,
   "metadata": {},
   "outputs": [
    {
     "data": {
      "text/plain": [
       "5279850"
      ]
     },
     "execution_count": 20,
     "metadata": {},
     "output_type": "execute_result"
    }
   ],
   "source": [
    "len(up_interval_list)"
   ]
  },
  {
   "cell_type": "code",
   "execution_count": 22,
   "metadata": {
    "collapsed": true
   },
   "outputs": [],
   "source": [
    "del users_orders_intervals # free memory usage"
   ]
  },
  {
   "cell_type": "code",
   "execution_count": 24,
   "metadata": {
    "collapsed": true
   },
   "outputs": [],
   "source": [
    "up_interval_list['len'] = up_interval_list.p_purchase_interval.apply(lambda x: len(x))"
   ]
  },
  {
   "cell_type": "code",
   "execution_count": 25,
   "metadata": {
    "collapsed": true
   },
   "outputs": [],
   "source": [
    "up_interval_list = up_interval_list[up_interval_list.len >= 2] # for train/test split "
   ]
  },
  {
   "cell_type": "code",
   "execution_count": null,
   "metadata": {
    "collapsed": true
   },
   "outputs": [],
   "source": [
    "with open(constants.FEAT_DATA_DIR + 'up_interval_feat.pkl', 'wb') as f:\n",
    "    pickle.dump(up_interval_list, f, pickle.HIGHEST_PROTOCOL)"
   ]
  },
  {
   "cell_type": "code",
   "execution_count": null,
   "metadata": {
    "collapsed": true,
    "scrolled": true
   },
   "outputs": [],
   "source": [
    "len(up_interval_list)"
   ]
  },
  {
   "cell_type": "code",
   "execution_count": null,
   "metadata": {
    "collapsed": true
   },
   "outputs": [],
   "source": [
    "up_interval_list.len.describe()"
   ]
  }
 ],
 "metadata": {
  "kernelspec": {
   "display_name": "Python 3",
   "language": "python",
   "name": "python3"
  },
  "language_info": {
   "codemirror_mode": {
    "name": "ipython",
    "version": 3
   },
   "file_extension": ".py",
   "mimetype": "text/x-python",
   "name": "python",
   "nbconvert_exporter": "python",
   "pygments_lexer": "ipython3",
   "version": "3.5.2"
  }
 },
 "nbformat": 4,
 "nbformat_minor": 2
}
